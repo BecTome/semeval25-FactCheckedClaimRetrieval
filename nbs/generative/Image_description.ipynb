{
 "cells": [
  {
   "cell_type": "code",
   "execution_count": 1,
   "metadata": {},
   "outputs": [
    {
     "name": "stderr",
     "output_type": "stream",
     "text": [
      "/gpfs/projects/bsc14/scratch/.conda/factcheck/lib/python3.10/site-packages/tqdm/auto.py:21: TqdmWarning: IProgress not found. Please update jupyter and ipywidgets. See https://ipywidgets.readthedocs.io/en/stable/user_install.html\n",
      "  from .autonotebook import tqdm as notebook_tqdm\n"
     ]
    },
    {
     "name": "stdout",
     "output_type": "stream",
     "text": [
      "Loading Fact Checks...\n",
      "Loading Fact Checks (English + Clean)...\n",
      "Loading Posts...\n",
      "Loading Posts (English + Clean)...\n"
     ]
    }
   ],
   "source": [
    "import pandas as pd\n",
    "import numpy as np\n",
    "import matplotlib.pyplot as plt\n",
    "import spacy\n",
    "nlp = spacy.load(\"en_core_web_lg\")\n",
    "\n",
    "from tqdm import tqdm\n",
    "tqdm.pandas()   \n",
    "\n",
    "from src import config\n",
    "from src.datasets import TextConcatFactCheck, TextConcatPosts\n",
    "from src.utils import cleaning_spacy, cleaning_spacy_batch\n",
    "\n",
    "tasks_path = config.TASKS_PATH\n",
    "posts_path = config.POSTS_PATH\n",
    "fact_checks_path = config.FACT_CHECKS_PATH\n",
    "gs_path = config.GS_PATH\n",
    "lang = 'tha'\n",
    "task_name = \"monolingual\"\n",
    "\n",
    "print(\"Loading Fact Checks...\")\n",
    "fc = TextConcatFactCheck(fact_checks_path, tasks_path=tasks_path, task_name=task_name, lang=lang, version=\"english\")\n",
    "print(\"Loading Fact Checks (English + Clean)...\")\n",
    "# fc_eng = TextConcatFactCheck(fact_checks_path, tasks_path=tasks_path, task_name=task_name, lang=lang, version=\"english\", cleaning_function=lambda x: cleaning_spacy_batch(x, nlp))\n",
    "\n",
    "print(\"Loading Posts...\")\n",
    "posts = TextConcatPosts(posts_path, tasks_path=tasks_path, task_name=task_name, lang=lang, gs_path=gs_path, version=\"english\")\n",
    "print(\"Loading Posts (English + Clean)...\")\n",
    "# posts_eng = TextConcatPosts(posts_path, tasks_path=tasks_path, task_name=task_name, lang=lang, gs_path=gs_path, version=\"english\", cleaning_function=lambda x: cleaning_spacy_batch(x, nlp))"
   ]
  },
  {
   "cell_type": "code",
   "execution_count": 2,
   "metadata": {},
   "outputs": [],
   "source": [
    "df_fc = fc.df\n",
    "df_train_posts = posts.df_train\n",
    "df_dev_posts = posts.df_dev"
   ]
  },
  {
   "cell_type": "code",
   "execution_count": 3,
   "metadata": {},
   "outputs": [
    {
     "name": "stdout",
     "output_type": "stream",
     "text": [
      "TRAIN: (418, 9), DEV: (47, 9), FC: (382, 4)\n"
     ]
    }
   ],
   "source": [
    "print(f\"TRAIN: {df_train_posts.shape}, DEV: {df_dev_posts.shape}, FC: {df_fc.shape}\")"
   ]
  },
  {
   "cell_type": "code",
   "execution_count": 11,
   "metadata": {},
   "outputs": [
    {
     "name": "stderr",
     "output_type": "stream",
     "text": [
      "Loading checkpoint shards: 100%|██████████| 2/2 [00:07<00:00,  4.00s/it]\n",
      "Device set to use cuda:0\n"
     ]
    }
   ],
   "source": [
    "import torch\n",
    "from transformers import pipeline\n",
    "\n",
    "model_id = \"meta-llama/Llama-3.2-3B-Instruct\"\n",
    "pipe = pipeline(\n",
    "    \"text-generation\",\n",
    "    model=model_id,\n",
    "    torch_dtype=torch.bfloat16,\n",
    "    # device=\"cuda\",\n",
    "    device_map=\"auto\",\n",
    ")\n",
    "\n",
    "terminators = [\n",
    "    pipe.tokenizer.eos_token_id,\n",
    "    pipe.tokenizer.convert_tokens_to_ids(\"<|eot_id|>\")\n",
    "]\n"
   ]
  },
  {
   "cell_type": "code",
   "execution_count": 14,
   "metadata": {},
   "outputs": [
    {
     "data": {
      "text/plain": [
       "[{'generated_text': [{'role': 'system',\n",
       "    'content': \"You are an expert recovering the image of a post from a social media platform only using the text and OCR of the post. do it in less than 512 tokens.Complete the post with the information from the image. Be concise and provide proper names if necessary. Be 100% confident in your answer. Provide only the description of the image.Provide always a description even if you don't know the answer without justifying your decision just as if it was real. Talk only about the content not your reasoning.\"},\n",
       "   {'role': 'user',\n",
       "    'content': 'The OCR of the post is: First with a hood and stick in hand... After arresting protesters... What is it called??? or Carlos Roman Hamu The text of the post is: '},\n",
       "   {'role': 'assistant', 'content': 'Police brutality'}]}]"
      ]
     },
     "execution_count": 14,
     "metadata": {},
     "output_type": "execute_result"
    }
   ],
   "source": [
    "\n",
    "ocr = \"First with a hood and stick in hand... After arresting protesters... What is it called??? or Carlos Roman Hamu\"\n",
    "text = \"\"\n",
    "\n",
    "messages = [\n",
    "        {\"role\": \"system\", \"content\": \"You are an expert recovering the image of a post from a social media platform only using the text and OCR of the post. do it in less than 512 tokens.\"\\\n",
    "                \"Complete the post with the information from the image. Be concise and provide proper names if necessary. Be 100% confident in your answer. Provide only the description of the image.\"\\\n",
    "                 \"Provide always a description even if you don't know the answer without justifying your decision just as if it was real. Talk only about the content not your reasoning.\",},\n",
    "        {\"role\": \"user\", \"content\": \"The OCR of the post is: \" + ocr + \" The text of the post is: \" + text},]\n",
    "outputs = pipe(\n",
    "            messages,\n",
    "            max_new_tokens=32,\n",
    "            temperature=0.1,\n",
    "            eos_token_id=terminators,\n",
    "            pad_token_id=pipe.tokenizer.eos_token_id,\n",
    "        )\n",
    "\n",
    "outputs"
   ]
  },
  {
   "cell_type": "code",
   "execution_count": 58,
   "metadata": {},
   "outputs": [],
   "source": [
    "def describe_image(ocr, text):\n",
    "    messages = [\n",
    "{\n",
    "  \"role\": \"system\",\n",
    "  \"content\": \n",
    "  \"You are an expert in recovering the image of a social media post based on its OCR and textual content. Use the given text and OCR to describe the post's visual content concisely. Be confident in your descriptions.\\n\"\n",
    "  \"If you cannot deduce anything meaningful about the image, return <NO ANSWER>. Do not explain your reasoning. Focus only on describing the content.\\n\"\n",
    "  \"\\n\"\n",
    "  \"Example 0:\\n\"\n",
    "  \"OCR: years in 2022. That makes him the oldest land animal known alive today.\"\n",
    "  \"Text: #ascoisasinteressantes #sabiocurioso #like4like #food #instalike #likeforlike #family #travel #fitness #igers #tagsforlikes #follow4follow #nofilter #life #filosofia #estoicismo #beauty #amazing #instamood #instagram #sun #photo #mphotographyusic #beach #followforfollow #bestoftheday\"\n",
    "  \"Output: 'Jonathan the tortoise, the oldest living land animal, who turned 190 in 2022.'\\n\"\n",
    "  \"Example 1:\\n\"\n",
    "  \"OCR: '50% OFF SALE NOW'\\n\"\n",
    "  \"Text: 'Huge discounts on electronics.'\\n\"\n",
    "  \"Output: 'An advertisement banner with bold text offering a 50% discount.'\\n\"\n",
    "  \"\\n\"\n",
    "  \"Example 2:\\n\"\n",
    "  \"OCR: 'John Doe for Mayor'\\n\"\n",
    "  \"Text: 'Vote for a better future!'\\n\"\n",
    "  \"Output: 'A political campaign poster featuring John Doe.'\\n\"\n",
    "  \"\\n\"\n",
    "  \"Example 3:\\n\"\n",
    "  \"OCR: 'Unreadable'\\n\"\n",
    "  \"Text: 'Important meeting tomorrow.'\\n\"\n",
    "  \"Output: '<NO ANSWER>'\\n\"\n",
    "  \"\\n\"\n",
    "  \"Example 4:\\n\"\n",
    "  \"OCR: She set a world record in 2023 for the longest free dive by a woman, reaching a depth of 123 meters.\\n\"\n",
    "  \"Text: 'This is so inspiring! She broke the record and reached 123 meters underwater. Women are unstoppable! 🌊 #freediving #worldrecord'\\n\"\n",
    "  \"Output: 'A female freediver who set a world record in 2023 by diving 123 meters.'\\n\"\n",
    "  \"\\n\"\n",
    "  \"Example 5:\\n\"\n",
    "  \"OCR: This structure, completed in 1889, was once the tallest man-made structure in the world.\\n\"\n",
    "  \"Text: 'Visited Paris last summer and finally saw the Eiffel Tower! Can't believe it was the tallest building back in 1889. 🗼❤️'\\n\"\n",
    "  \"Output: 'The Eiffel Tower, completed in 1889, and once the tallest man-made structure.'\\n\"\n",
    "  \"\\n\"\n",
    "  \"Example 6:\\n\"\n",
    "  \"OCR: In 1969, humanity took its first steps on the Moon, marking a historic milestone in space exploration.\\n\"\n",
    "  \"Text: 'The Moon landing in 1969 still gives me chills. Imagine watching that live! Truly one of humankind's greatest achievements. 🌕🚀'\\n\"\n",
    "  \"Output: 'The first human Moon landing in 1969, a milestone in space exploration.'\\n\"\n",
    "  \"\\n\"\n",
    "  \"Example 7:\\n\"\n",
    "  \"OCR: Known as the King of Pop, his album Thriller remains the best-selling album of all time.\\n\"\n",
    "  \"Text: 'Listening to Michael Jackson's Thriller on repeat today. It’s crazy how it’s still the best-selling album of all time. 👑🎶'\\n\"\n",
    "  \"Output: 'Michael Jackson, the King of Pop, known for Thriller, the best-selling album ever.'\\n\"\n",
    "  \"\\n\"\n",
    "  \"Example 8:\\n\"\n",
    "  \"OCR: This majestic animal is the largest land mammal and is known for its intelligence and memory.\\n\"\n",
    "  \"Text: 'Saw an elephant up close during my safari trip. They're so intelligent and graceful. Truly the giants of the animal kingdom. 🐘❤️'\\n\"\n",
    "  \"Output: 'The elephant, the largest land mammal, celebrated for its intelligence and memory.'\\n\"\n",
    "},\n",
    "\n",
    "        {\"role\": \"user\", \"content\": f\"The OCR of the post is: {ocr} The text of the post is: {text}\"}\n",
    "    ]\n",
    "    outputs = pipe(\n",
    "        messages,\n",
    "        max_new_tokens=128,\n",
    "        temperature=0.01,\n",
    "        eos_token_id=pipe.tokenizer.eos_token_id,\n",
    "        pad_token_id=pipe.tokenizer.eos_token_id\n",
    "    )\n",
    "\n",
    "    return outputs[0][\"generated_text\"][-1][\"content\"]"
   ]
  },
  {
   "cell_type": "code",
   "execution_count": 59,
   "metadata": {},
   "outputs": [],
   "source": [
    "df_train_posts_mini = df_train_posts.iloc[:20]"
   ]
  },
  {
   "cell_type": "code",
   "execution_count": 60,
   "metadata": {},
   "outputs": [
    {
     "name": "stderr",
     "output_type": "stream",
     "text": [
      "100%|██████████| 20/20 [00:13<00:00,  1.51it/s]\n",
      "/scratch/tmp/ipykernel_2091266/232966666.py:1: SettingWithCopyWarning: \n",
      "A value is trying to be set on a copy of a slice from a DataFrame.\n",
      "Try using .loc[row_indexer,col_indexer] = value instead\n",
      "\n",
      "See the caveats in the documentation: https://pandas.pydata.org/pandas-docs/stable/user_guide/indexing.html#returning-a-view-versus-a-copy\n",
      "  df_train_posts_mini[\"description\"] = df_train_posts_mini.progress_apply(lambda x: describe_image(x[\"ocr\"], x[\"text\"]), axis=1)\n"
     ]
    }
   ],
   "source": [
    "df_train_posts_mini[\"description\"] = df_train_posts_mini.progress_apply(lambda x: describe_image(x[\"ocr\"], x[\"text\"]), axis=1)"
   ]
  },
  {
   "cell_type": "code",
   "execution_count": 61,
   "metadata": {},
   "outputs": [
    {
     "name": "stdout",
     "output_type": "stream",
     "text": [
      "|   post_id | description                                                                                                                                                                                                                                                                                                                                                                               |\n",
      "|----------:|:------------------------------------------------------------------------------------------------------------------------------------------------------------------------------------------------------------------------------------------------------------------------------------------------------------------------------------------------------------------------------------------|\n",
      "|        72 | A vintage advertisement for a futuristic car, predicting a world with advanced technology and minimal pollution.                                                                                                                                                                                                                                                                          |\n",
      "|       136 | 'A true Messenger, I'll 4G yes #Hod District, the world's man, if it reaches the end 21 19:47 19:29 Prempiti Choojai Baibua 42 minutes • @ Just now, who turned the blue light? rushed over the head to the north wow 9+ Rung Wandee Pia amat 6 minutes ago 28% 14 comment 29% 14 comments > share 9 =                                                                                    |\n",
      "|       203 | 'A protest against a Chinese factory in Myanmar, with a burning building and remains, symbolizing the people's retaliation.'                                                                                                                                                                                                                                                              |\n",
      "|       224 | 'The era of Thaksin and Uncle Tu.'                                                                                                                                                                                                                                                                                                                                                        |\n",
      "|       377 | 'A photo of a person wearing a mask, with a background of a checkpoint, and a sign that reads \"200 baht per person\" and \"Check and adjust all provinces around the country.\"                                                                                                                                                                                                              |\n",
      "|       616 | <NO ANSWER>                                                                                                                                                                                                                                                                                                                                                                               |\n",
      "|      1048 | 'A protest rally at the Democracy Monument, with a large crowd, and a group of people heading to the Thai Summit Building to celebrate a birthday, amidst a backdrop of a mob protest.'                                                                                                                                                                                                   |\n",
      "|      1789 | 'A tragic incident occurred on route 3-4, Sattahip - Korat, where 8 people died after a car plunged into a river. The incident happened on June 27th.'                                                                                                                                                                                                                                    |\n",
      "|      1975 | 'Asteroid on a collision course with Earth, NASA warns that even nuclear bombs can't stop it.'                                                                                                                                                                                                                                                                                            |\n",
      "|      1986 | 'Asteroid Impact Imminent: NASA Warns of 6-Month Countdown'                                                                                                                                                                                                                                                                                                                               |\n",
      "|      2084 | 'A portrait of Phan Por Chatchat, a notable figure from the Lom Prap period, with a caption mentioning his father's past connection to a tyrant.'                                                                                                                                                                                                                                         |\n",
      "|      2100 | 'A warning message about high radiation from a cosmic event, advising to turn off mobile phones and keep them away from the body during the specified time period, from 12:30 AM to 3:30 AM, to avoid serious damage.'                                                                                                                                                                    |\n",
      "|      2616 | 'Honey pickled hemp, a natural remedy for 40 symptoms, claims to cure Alzheimer's, insomnia, cerebral thrombosis, paralysis, high pressure, hemorrhoids, diabetes, obesity, muscle spasms, depression, beriberi, migraine, menstrual pain, cerebral palsy, epilepsy, degenerative nerve sheath, addiction to morphine, anorexia, Parkinson's, and allergies to chemotherapy and oneself.' |\n",
      "|      2617 | 'A doctor's update on the latest situation after a board meeting at Mahidol University, Dr. Prasit Wattanapha shares his concerns about the COVID-19 situation in the country, including the number of infected people, vaccination efforts, and precautions to take.'                                                                                                                    |\n",
      "|      2619 | 'A list of symptoms of a potential COVID-19 infection, including itchy neck, dry throat, dry cough, fever, shortness of breath, loss of smell and taste, and dark green or black toes, with advice to drink water and warm it with lemon juice, and to share the information with family and friends.'                                                                                    |\n",
      "|      2620 | <NO ANSWER>                                                                                                                                                                                                                                                                                                                                                                               |\n",
      "|      2622 | 'A cash distribution program in Malaysia, where 8,000 baht is given to each person for up to 6 months, with a separate 5,000 baht payment for electricity bills in Thailand, along with a screening process.'                                                                                                                                                                             |\n",
      "|      2623 | <NO ANSWER>                                                                                                                                                                                                                                                                                                                                                                               |\n",
      "|      2624 | <NO ANSWER>                                                                                                                                                                                                                                                                                                                                                                               |\n",
      "|      2625 | 'A rural village in Italy is offering 800,000 baht to interested parties to build a business and revitalize the city.'                                                                                                                                                                                                                                                                    |\n"
     ]
    }
   ],
   "source": [
    "print(df_train_posts_mini[\"description\"].to_markdown())"
   ]
  },
  {
   "cell_type": "code",
   "execution_count": 62,
   "metadata": {},
   "outputs": [
    {
     "name": "stderr",
     "output_type": "stream",
     "text": [
      "Batches: 100%|██████████| 3/3 [00:00<00:00,  7.28it/s]\n"
     ]
    }
   ],
   "source": [
    "from src.models import EmbeddingModel\n",
    "model_name = \"/gpfs/projects/bsc14/abecerr1/hub/models--intfloat--multilingual-e5-large/snapshots/ab10c1a7f42e74530fe7ae5be82e6d4f11a719eb\"\n",
    "model = EmbeddingModel(model_name=model_name, df_fc=df_fc, device=\"cuda\")"
   ]
  },
  {
   "cell_type": "code",
   "execution_count": 63,
   "metadata": {},
   "outputs": [
    {
     "name": "stderr",
     "output_type": "stream",
     "text": [
      "100%|██████████| 47/47 [00:38<00:00,  1.22it/s]\n"
     ]
    }
   ],
   "source": [
    "df_dev_orig = df_dev_posts.copy()\n",
    "df_dev_desc = df_dev_posts.copy()\n",
    "df_dev_desc[\"description\"] = df_dev_desc.progress_apply(lambda x: describe_image(x[\"ocr\"], x[\"text\"]), axis=1)"
   ]
  },
  {
   "cell_type": "code",
   "execution_count": 77,
   "metadata": {},
   "outputs": [],
   "source": [
    "df_dev_desc[\"full_desc\"] = df_dev_desc[\"description\"] + \" \" + df_dev_desc[\"ocr\"] + \" \" + df_dev_desc[\"text\"]"
   ]
  },
  {
   "cell_type": "code",
   "execution_count": 65,
   "metadata": {},
   "outputs": [],
   "source": [
    "# df_dev_desc.loc[df_dev_desc[\"description\"] == \"<NO ANSWER>\", \"description\"] = df_dev_desc.loc[df_dev_desc[\"description\"] == \"<NO ANSWER>\", \"full_text\"]"
   ]
  },
  {
   "cell_type": "code",
   "execution_count": 79,
   "metadata": {},
   "outputs": [
    {
     "name": "stderr",
     "output_type": "stream",
     "text": [
      "Batches: 100%|██████████| 1/1 [00:00<00:00,  2.55it/s]\n",
      "Batches: 100%|██████████| 1/1 [00:00<00:00,  2.55it/s]\n"
     ]
    }
   ],
   "source": [
    "df_dev_orig[\"preds\"] = model.predict(df_dev_orig[\"full_text\"].tolist()).tolist()\n",
    "df_dev_desc[\"preds\"] = model.predict(df_dev_desc[\"full_desc\"].tolist()).tolist()"
   ]
  },
  {
   "cell_type": "code",
   "execution_count": 80,
   "metadata": {},
   "outputs": [
    {
     "name": "stdout",
     "output_type": "stream",
     "text": [
      "{'monolingual': {'tha': {1: np.float64(0.7659574468085106), 3: np.float64(0.9148936170212766), 5: np.float64(0.9361702127659575), 10: np.float64(0.9787234042553191)}}}\n",
      "{'monolingual': {'tha': {1: np.float64(0.6808510638297872), 3: np.float64(0.8723404255319149), 5: np.float64(0.9361702127659575), 10: np.float64(0.9574468085106383)}}}\n"
     ]
    }
   ],
   "source": [
    "print(model.evaluate(df_dev_orig, task_name=task_name, lang=lang))\n",
    "print(model.evaluate(df_dev_desc, task_name=task_name, lang=lang))"
   ]
  },
  {
   "cell_type": "code",
   "execution_count": 81,
   "metadata": {},
   "outputs": [
    {
     "name": "stderr",
     "output_type": "stream",
     "text": [
      "100%|██████████| 47/47 [00:00<00:00, 31068.92it/s]\n"
     ]
    }
   ],
   "source": [
    "df_dev_desc[\"correct\"] = df_dev_desc.progress_apply(lambda x: len(np.intersect1d(x[\"preds\"][:10], x[\"gs\"])) > 0, axis=1)"
   ]
  },
  {
   "cell_type": "code",
   "execution_count": 82,
   "metadata": {},
   "outputs": [
    {
     "name": "stderr",
     "output_type": "stream",
     "text": [
      "100%|██████████| 47/47 [00:00<00:00, 65666.98it/s]\n"
     ]
    }
   ],
   "source": [
    "# Get position in which the correct answer is\n",
    "df_dev_desc[\"pos_true\"] = df_dev_desc.progress_apply(lambda x: [x[\"preds\"].index(gs) for gs in x[\"gs\"] if gs in x[\"preds\"]], axis=1)"
   ]
  },
  {
   "cell_type": "code",
   "execution_count": 83,
   "metadata": {},
   "outputs": [
    {
     "name": "stdout",
     "output_type": "stream",
     "text": [
      "|   post_id | ocr                                                                                                                                                                                                                                                                                                                                                                                                                                                                                                                                                                                                                                                                                                                                                                                                                                                                  | verdicts                  | text                                                                                                                                                                                                                                                                                                                                                                                                                                                                                                                                                            | lan   |   fb |   tw |   ig | full_text                                                                                                                                                                                                                                                                                                                                                                                                                                                                                                                                                                                                                                                                                                                                                                                                                                                                                           | gs       | description                                                                                                                                                                                                                                                                                                                                                                                            | full_desc                                                                                                                                                                                                                                                                                                                                                                                                                                                                                                                                                                                                                                                                                                                                                                                                                                                                                                                                                                                                                                                                            | preds                                                                                                                                                                                                                                                                                                                                                                                                                                                                                                                                                                                                                                                                                                                                                                                                                                                                                                                                                                                                                                                                                                                                                                                                                                                                                                                                                                                                                                                                                                                                                                                                                                                                                                                                                                                                                                                                                                                                                                                                                                                                                                                                                                                                                                                                                                                                                                                                                                                                                                                                                                                                                                                                                                                                                                                                                                                                                                                                                                                                                                                                                                                                                                | correct   | pos_true   |\n",
      "|----------:|:---------------------------------------------------------------------------------------------------------------------------------------------------------------------------------------------------------------------------------------------------------------------------------------------------------------------------------------------------------------------------------------------------------------------------------------------------------------------------------------------------------------------------------------------------------------------------------------------------------------------------------------------------------------------------------------------------------------------------------------------------------------------------------------------------------------------------------------------------------------------|:--------------------------|:----------------------------------------------------------------------------------------------------------------------------------------------------------------------------------------------------------------------------------------------------------------------------------------------------------------------------------------------------------------------------------------------------------------------------------------------------------------------------------------------------------------------------------------------------------------|:------|-----:|-----:|-----:|:----------------------------------------------------------------------------------------------------------------------------------------------------------------------------------------------------------------------------------------------------------------------------------------------------------------------------------------------------------------------------------------------------------------------------------------------------------------------------------------------------------------------------------------------------------------------------------------------------------------------------------------------------------------------------------------------------------------------------------------------------------------------------------------------------------------------------------------------------------------------------------------------------|:---------|:-------------------------------------------------------------------------------------------------------------------------------------------------------------------------------------------------------------------------------------------------------------------------------------------------------------------------------------------------------------------------------------------------------|:-------------------------------------------------------------------------------------------------------------------------------------------------------------------------------------------------------------------------------------------------------------------------------------------------------------------------------------------------------------------------------------------------------------------------------------------------------------------------------------------------------------------------------------------------------------------------------------------------------------------------------------------------------------------------------------------------------------------------------------------------------------------------------------------------------------------------------------------------------------------------------------------------------------------------------------------------------------------------------------------------------------------------------------------------------------------------------------|:---------------------------------------------------------------------------------------------------------------------------------------------------------------------------------------------------------------------------------------------------------------------------------------------------------------------------------------------------------------------------------------------------------------------------------------------------------------------------------------------------------------------------------------------------------------------------------------------------------------------------------------------------------------------------------------------------------------------------------------------------------------------------------------------------------------------------------------------------------------------------------------------------------------------------------------------------------------------------------------------------------------------------------------------------------------------------------------------------------------------------------------------------------------------------------------------------------------------------------------------------------------------------------------------------------------------------------------------------------------------------------------------------------------------------------------------------------------------------------------------------------------------------------------------------------------------------------------------------------------------------------------------------------------------------------------------------------------------------------------------------------------------------------------------------------------------------------------------------------------------------------------------------------------------------------------------------------------------------------------------------------------------------------------------------------------------------------------------------------------------------------------------------------------------------------------------------------------------------------------------------------------------------------------------------------------------------------------------------------------------------------------------------------------------------------------------------------------------------------------------------------------------------------------------------------------------------------------------------------------------------------------------------------------------------------------------------------------------------------------------------------------------------------------------------------------------------------------------------------------------------------------------------------------------------------------------------------------------------------------------------------------------------------------------------------------------------------------------------------------------------------------------------------------------|:----------|:-----------|\n",
      "|     25122 | go to takhon Millions of people came out to call out all over the world to help Myanmar. Aung San was released. Myanmar model with over 1 IG followers and give praise for courage protecting the reputation democracy, while the famous stars in Thailand when they have The coup in Thailand is, uh, quiet, some celebrities. even came out to support the coup itself #saveMyanmar TOW Suu Kyi is still in military custody. Paing Takhon 17-0 We as a citizen of Myanmar not agree with the current move and would like to request the world. leaders. UN and the world medias help our country- our leaders- our people from this bitter acts. We want democracy and want our country to develop as our nabouring countries OUR LEADER AUNG SAN SUU KYI HAS BEEN DETAINED BY THE MILITARY. Myanmar soldiers take off their uniforms to not join the coup cycle. | Partly false information. | Burma, he did not take a coup.                                                                                                                                                                                                                                                                                                                                                                                                                                                                                                                                  | tha   |    1 |    0 |    0 | go to takhon Millions of people came out to call out all over the world to help Myanmar. Aung San was released. Myanmar model with over 1 IG followers and give praise for courage protecting the reputation democracy, while the famous stars in Thailand when they have The coup in Thailand is, uh, quiet, some celebrities. even came out to support the coup itself #saveMyanmar TOW Suu Kyi is still in military custody. Paing Takhon 17-0 We as a citizen of Myanmar not agree with the current move and would like to request the world. leaders. UN and the world medias help our country- our leaders- our people from this bitter acts. We want democracy and want our country to develop as our nabouring countries OUR LEADER AUNG SAN SUU KYI HAS BEEN DETAINED BY THE MILITARY. Myanmar soldiers take off their uniforms to not join the coup cycle. Burma, he did not take a coup. | [193430] | 'Aung San Suu Kyi, the leader of Myanmar, being detained by the military, with people protesting and calling for help from around the world, including celebrities in Thailand.'                                                                                                                                                                                                                       | 'Aung San Suu Kyi, the leader of Myanmar, being detained by the military, with people protesting and calling for help from around the world, including celebrities in Thailand.' go to takhon Millions of people came out to call out all over the world to help Myanmar. Aung San was released. Myanmar model with over 1 IG followers and give praise for courage protecting the reputation democracy, while the famous stars in Thailand when they have The coup in Thailand is, uh, quiet, some celebrities. even came out to support the coup itself #saveMyanmar TOW Suu Kyi is still in military custody. Paing Takhon 17-0 We as a citizen of Myanmar not agree with the current move and would like to request the world. leaders. UN and the world medias help our country- our leaders- our people from this bitter acts. We want democracy and want our country to develop as our nabouring countries OUR LEADER AUNG SAN SUU KYI HAS BEEN DETAINED BY THE MILITARY. Myanmar soldiers take off their uniforms to not join the coup cycle. Burma, he did not take a coup. | [193373, 193390, 193426, 193438, 193431, 193435, 193422, 193440, 193409, 193259, 193369, 193447, 193448, 193382, 193442, 193430, 193360, 193392, 193433, 193479, 193429, 193511, 193323, 193383, 193434, 193329, 193423, 193350, 193527, 193381, 193540, 193391, 193606, 193341, 193379, 193453, 193477, 193309, 193572, 193397, 8144, 193425, 193457, 193586, 193374, 193464, 193304, 193588, 193594, 193428, 193407, 193352, 193375, 193347, 193472, 193609, 193590, 193561, 193566, 193292, 193576, 193322, 193344, 193319, 193330, 193578, 193432, 193403, 193363, 193458, 193460, 193385, 193489, 193587, 193349, 193357, 193515, 193338, 193339, 193485, 193546, 193280, 193328, 193541, 193334, 193545, 193340, 193307, 193355, 193471, 193405, 193248, 193327, 193456, 193326, 193281, 193556, 193537, 193548, 193282, 193332, 193605, 193514, 148640, 193478, 193484, 193415, 193451, 193418, 193295, 193388, 193512, 193446, 193495, 193358, 193475, 193589, 193243, 193421, 193441, 193389, 193607, 193494, 193413, 193439, 193251, 193534, 193557, 193244, 193595, 193520, 193502, 193398, 193449, 193496, 193342, 193299, 193250, 193535, 118687, 193354, 193356, 193454, 193289, 193443, 193593, 193543, 193516, 193288, 193525, 193444, 193490, 193569, 193437, 193499, 193314, 193468, 193331, 193291, 193604, 193293, 193348, 193380, 193596, 193517, 193491, 193529, 193583, 193290, 193241, 193486, 193577, 193324, 193310, 193476, 193581, 193483, 33944, 193353, 193276, 193424, 193450, 193416, 193531, 193553, 193301, 193461, 193378, 10587, 193366, 193568, 193492, 193480, 193279, 193539, 20642, 193333, 193497, 193560, 193321, 193359, 193254, 193362, 193503, 193573, 193533, 193542, 193306, 193361, 193410, 193313, 193526, 193317, 193273, 193547, 193528, 193253, 193404, 193575, 193522, 193538, 193544, 193524, 193467, 193519, 193567, 193501, 193481, 193384, 193532, 193393, 193249, 193466, 193303, 193510, 193530, 33945, 193368, 193498, 193436, 193394, 193500, 193584, 193470, 193395, 193563, 193318, 193417, 193523, 193300, 193482, 193246, 193551, 88461, 193509, 193465, 193507, 193591, 193346, 193305, 193505, 193367, 193266, 193585, 193521, 8857, 193242, 193406, 193312, 193285, 193445, 193320, 193372, 193308, 193420, 193487, 193506, 193277, 193452, 193302, 193513, 193325, 193255, 193402, 193455, 193396, 193600, 193284, 193592, 193488, 193536, 193311, 193469, 193599, 193555, 148641, 193294, 193386, 193262, 193401, 193286, 193411, 193296, 193419, 193463, 193554, 193412, 193493, 193245, 193608, 193408, 193550, 193278, 193252, 193297, 193582, 193269, 193571, 193247, 193579, 193399, 193264, 193414, 99320, 193504, 193580, 193559, 193315, 193462, 193370, 193275, 193298, 193387, 193474, 193565, 193400, 193603, 193574, 193336, 193364, 193263, 193558, 193602, 193508, 193377, 8145, 193473, 193257, 193271, 193371, 193335, 193518, 113776, 193274, 193267, 193549, 193337, 193261, 193351, 193601, 193365, 193598, 193283, 193552, 193287, 193562, 193597, 193376, 193268, 193564, 193258, 193265, 193343, 193345, 193272, 193427, 193570, 193316, 193256, 193270, 193459, 193260] | False     | [15]       |\n",
      "|     27490 |                                                                                                                                                                                                                                                                                                                                                                                                                                                                                                                                                                                                                                                                                                                                                                                                                                                                      | False information         | 🔴When the secret is no longer in the world...wake up 🌍👇 👿 graphene oxide under electromagnetic fields This is how you can imagine the nanometer scale in the body. 🔥🔥 Who killed the genocide 🔥🔥 🔥 New World Order 🔥 🔥Nazi World Order🔥 NUREMBERG ACTIVE CODE crimes against humanity genocide terrorism rebel high crime ->Human trafficking -> Human Farming ->Child sex | pedophilia -> Adrenochrome The GLOBALISTS are Satan. GLOBALISTS ARE Terrorists. where did they go they all go to court sergeant sponsored by [USER] 🐸Victory of Light | tha   |    1 |    0 |    0 | 🔴When the secret is no longer in the world...wake up 🌍👇 👿 graphene oxide under electromagnetic fields This is how you can imagine the nanometer scale in the body. 🔥🔥 Who killed the genocide 🔥🔥 🔥 New World Order 🔥 🔥Nazi World Order🔥 NUREMBERG ACTIVE CODE crimes against humanity genocide terrorism rebel high crime ->Human trafficking -> Human Farming ->Child sex | pedophilia -> Adrenochrome The GLOBALISTS are Satan. GLOBALISTS ARE Terrorists. where did they go they all go to court sergeant sponsored by [USER] 🐸Victory of Light                                                                                                                                                                                                                                                                                                                                     | [193487] | A conspiracy theory post with a mix of cryptic symbols and text.                                                                                                                                                                                                                                                                                                                                       | A conspiracy theory post with a mix of cryptic symbols and text.                                                                                                                                                                                                                                                                                                                                                                                                                                                                                                                                                                                                                                                                                                                                                                                                                                                                                                                                                                                                                     | [193320, 193529, 193353, 193352, 193442, 193259, 193455, 193411, 193412, 193576, 193251, 193433, 193484, 193591, 193375, 118687, 193369, 193553, 193338, 193437, 193397, 193525, 193421, 193416, 193432, 193406, 193471, 193587, 193436, 193291, 193578, 193348, 193523, 193350, 193438, 193407, 193395, 193453, 193499, 193332, 193293, 193331, 10587, 193466, 193389, 193594, 193373, 193472, 193475, 193428, 193480, 193394, 193302, 193448, 193384, 193441, 193566, 193526, 193440, 193378, 193288, 193349, 193285, 193572, 193482, 193443, 193408, 193434, 193534, 193487, 193502, 193461, 193575, 193277, 193586, 193567, 193329, 193422, 193390, 8144, 193391, 193451, 193535, 193243, 88461, 193304, 193546, 193382, 193447, 193337, 193588, 193402, 193420, 193314, 193590, 193429, 193533, 193495, 193400, 193292, 193392, 193469, 193295, 193481, 193425, 193361, 193606, 193355, 193509, 193306, 193595, 193360, 8145, 193424, 20642, 193430, 193512, 193505, 193584, 193579, 193609, 193444, 193457, 193589, 193398, 193605, 193248, 193403, 193419, 193569, 193608, 193532, 193580, 193249, 193286, 193396, 193538, 193513, 193497, 193356, 193450, 193458, 193409, 193241, 193460, 193423, 193501, 193516, 193593, 193488, 193399, 193358, 193299, 193521, 193324, 193494, 193413, 193363, 193581, 193305, 193551, 193374, 193470, 193445, 193342, 193405, 193372, 193449, 193289, 193515, 193574, 193506, 193404, 193541, 193415, 193454, 193543, 193542, 193279, 193530, 33944, 193537, 193607, 193323, 33945, 193266, 193308, 193558, 193498, 193347, 193298, 193556, 193583, 193357, 193528, 193307, 193410, 193296, 193383, 193340, 193255, 193244, 193514, 193393, 193336, 193344, 193577, 193446, 193524, 193282, 193275, 193573, 193531, 148640, 193465, 193479, 193519, 193322, 193263, 193335, 193435, 193496, 193439, 193503, 193557, 193604, 193334, 193550, 193262, 193326, 193341, 193242, 193561, 193254, 193359, 193477, 193379, 193464, 193517, 193540, 193414, 193486, 193474, 193565, 193468, 193367, 193364, 193370, 193456, 193510, 193354, 193388, 193417, 193431, 193297, 193385, 193281, 193511, 193518, 193585, 193401, 193381, 193351, 193548, 193368, 193555, 193536, 193366, 193490, 193294, 193316, 193554, 193365, 193545, 193278, 193483, 193247, 193426, 193274, 193599, 193276, 193245, 193246, 193596, 193492, 193264, 193309, 193418, 99320, 193500, 193602, 193273, 193319, 193544, 193463, 193250, 193493, 193325, 193527, 193317, 148641, 193571, 193271, 193300, 193491, 193547, 193559, 193568, 193467, 193313, 193598, 193257, 193600, 193333, 193508, 193318, 193387, 193315, 193310, 193485, 193539, 193252, 193312, 193311, 193260, 193287, 193345, 193265, 193386, 193380, 193321, 193371, 193522, 193560, 193427, 193552, 193582, 193290, 193489, 193280, 193563, 193507, 193268, 193267, 193462, 193592, 193339, 193269, 193303, 113776, 193346, 193284, 193328, 193520, 193283, 193473, 193301, 193476, 8857, 193597, 193601, 193330, 193603, 193258, 193478, 193377, 193270, 193504, 193549, 193376, 193253, 193327, 193562, 193459, 193272, 193564, 193452, 193570, 193343, 193261, 193256, 193362] | False     | [69]       |\n",
      "|           |                                                                                                                                                                                                                                                                                                                                                                                                                                                                                                                                                                                                                                                                                                                                                                                                                                                                      |                           |                                                                                                                                                                                                                                                                                                                                                                                                                                                                                                                                                                 |       |      |      |      |                                                                                                                                                                                                                                                                                                                                                                                                                                                                                                                                                                                                                                                                                                                                                                                                                                                                                                     |          |                                                                                                                                                                                                                                                                                                                                                                                                        |                                                                                                                                                                                                                                                                                                                                                                                                                                                                                                                                                                                                                                                                                                                                                                                                                                                                                                                                                                                                                                                                                      |                                                                                                                                                                                                                                                                                                                                                                                                                                                                                                                                                                                                                                                                                                                                                                                                                                                                                                                                                                                                                                                                                                                                                                                                                                                                                                                                                                                                                                                                                                                                                                                                                                                                                                                                                                                                                                                                                                                                                                                                                                                                                                                                                                                                                                                                                                                                                                                                                                                                                                                                                                                                                                                                                                                                                                                                                                                                                                                                                                                                                                                                                                                                                                      |           |            |\n",
      "|           |                                                                                                                                                                                                                                                                                                                                                                                                                                                                                                                                                                                                                                                                                                                                                                                                                                                                      |                           |                                                                                                                                                                                                                                                                                                                                                                                                                                                                                                                                                                 |       |      |      |      |                                                                                                                                                                                                                                                                                                                                                                                                                                                                                                                                                                                                                                                                                                                                                                                                                                                                                                     |          | A person with a serious expression, possibly with a hint of warning or urgency, is shown in the center of the image. The background is a dark, ominous color, with various symbols and graphics overlayed on top. The text appears to be a mix of cryptic messages, conspiracy theories, and warnings about a supposed \"New World Order\" and \"genocide\". The overall tone is one of alarm and outrage. | A person with a serious expression, possibly with a hint of warning or urgency, is shown in the center of the image. The background is a dark, ominous color, with various symbols and graphics overlayed on top. The text appears to be a mix of cryptic messages, conspiracy theories, and warnings about a supposed \"New World Order\" and \"genocide\". The overall tone is one of alarm and outrage.  🔴When the secret is no longer in the world...wake up 🌍👇 👿 graphene oxide under electromagnetic fields This is how you can imagine the nanometer scale in the body. 🔥🔥 Who killed the genocide 🔥🔥 🔥 New World Order 🔥 🔥Nazi World Order🔥 NUREMBERG ACTIVE CODE crimes against humanity genocide terrorism rebel high crime ->Human trafficking -> Human Farming ->Child sex | pedophilia -> Adrenochrome The GLOBALISTS are Satan. GLOBALISTS ARE Terrorists. where did they go they all go to court sergeant sponsored by [USER] 🐸Victory of Light                                                                                                              |                                                                                                                                                                                                                                                                                                                                                                                                                                                                                                                                                                                                                                                                                                                                                                                                                                                                                                                                                                                                                                                                                                                                                                                                                                                                                                                                                                                                                                                                                                                                                                                                                                                                                                                                                                                                                                                                                                                                                                                                                                                                                                                                                                                                                                                                                                                                                                                                                                                                                                                                                                                                                                                                                                                                                                                                                                                                                                                                                                                                                                                                                                                                                                      |           |            |\n"
     ]
    }
   ],
   "source": [
    "print(df_dev_desc[~df_dev_desc[\"correct\"]].to_markdown())"
   ]
  },
  {
   "cell_type": "code",
   "execution_count": 84,
   "metadata": {},
   "outputs": [
    {
     "name": "stdout",
     "output_type": "stream",
     "text": [
      "|   fact_check_id | claim                                                                                                | instances                                                                                                                                                        | title                                                                                                   | full_text                                                                                                                                                                                                    |\n",
      "|----------------:|:-----------------------------------------------------------------------------------------------------|:-----------------------------------------------------------------------------------------------------------------------------------------------------------------|:--------------------------------------------------------------------------------------------------------|:-------------------------------------------------------------------------------------------------------------------------------------------------------------------------------------------------------------|\n",
      "|          193430 | A picture showing soldiers taking off their uniforms to show civil disobedience to the Myanmar coup? | ['https://factcheckthailand.afp.com/photo-shows-discarded-uniforms-and-weapons-turkish-soldiers-during-attempted-coup-2016-th#a0cec3164f02be6f8148520087f180c8'] | This photo shows the uniforms and weapons discarded by Turkish soldiers. After the coup attempt in 2016 | This photo shows the uniforms and weapons discarded by Turkish soldiers. After the coup attempt in 2016 A picture showing soldiers taking off their uniforms to show civil disobedience to the Myanmar coup? |\n",
      "|          193487 | Covid-19 vaccine Contains graphene                                                                   | ['https://factcheckthailand.afp.com/http%253A%252F%252Fdoc.afp.com%252F9LE23J-1#108c1e8d1f67beea4f7e2ff1544fda68']                                               | Covid-19 vaccine Does not contain graphene                                                              | Covid-19 vaccine Does not contain graphene Covid-19 vaccine Contains graphene                                                                                                                                |\n"
     ]
    }
   ],
   "source": [
    "print(df_fc.loc[[193430, 193487], :].to_markdown())"
   ]
  },
  {
   "cell_type": "code",
   "execution_count": null,
   "metadata": {},
   "outputs": [],
   "source": []
  }
 ],
 "metadata": {
  "kernelspec": {
   "display_name": "factcheck",
   "language": "python",
   "name": "python3"
  },
  "language_info": {
   "codemirror_mode": {
    "name": "ipython",
    "version": 3
   },
   "file_extension": ".py",
   "mimetype": "text/x-python",
   "name": "python",
   "nbconvert_exporter": "python",
   "pygments_lexer": "ipython3",
   "version": "3.10.15"
  }
 },
 "nbformat": 4,
 "nbformat_minor": 2
}
