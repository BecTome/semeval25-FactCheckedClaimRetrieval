{
 "cells": [
  {
   "cell_type": "code",
   "execution_count": 2,
   "metadata": {},
   "outputs": [
    {
     "name": "stderr",
     "output_type": "stream",
     "text": [
      "/home/bsc/bsc830651/.conda/envs/factcheck/lib/python3.10/site-packages/flash_attn/ops/triton/layer_norm.py:959: FutureWarning: `torch.cuda.amp.custom_fwd(args...)` is deprecated. Please use `torch.amp.custom_fwd(args..., device_type='cuda')` instead.\n",
      "  def forward(\n",
      "/home/bsc/bsc830651/.conda/envs/factcheck/lib/python3.10/site-packages/flash_attn/ops/triton/layer_norm.py:1018: FutureWarning: `torch.cuda.amp.custom_bwd(args...)` is deprecated. Please use `torch.amp.custom_bwd(args..., device_type='cuda')` instead.\n",
      "  def backward(ctx, dout, *args):\n"
     ]
    }
   ],
   "source": [
    "from sentence_transformers import CrossEncoder\n",
    "\n",
    "reranker_model_name = 'jinaai/jina-reranker-v2-base-multilingual'\n",
    "rerank_model = CrossEncoder(reranker_model_name, num_labels=1, max_length=1024, trust_remote_code=True)\n"
   ]
  },
  {
   "cell_type": "code",
   "execution_count": 23,
   "metadata": {},
   "outputs": [
    {
     "name": "stderr",
     "output_type": "stream",
     "text": [
      "100%|██████████| 1/1 [00:00<00:00, 149.06it/s]\n"
     ]
    }
   ],
   "source": [
    "from torch.utils.data import DataLoader, Dataset\n",
    "import torch\n",
    "from sentence_transformers.readers import InputExample\n",
    "from tqdm import tqdm\n",
    "\n",
    "train_samples = [InputExample(texts=[\"Empty\", \"Full\"], label=1)]\n",
    "train_dataloader = DataLoader(train_samples, shuffle=True, batch_size=1)\n",
    "train_dataloader.collate_fn = rerank_model.smart_batching_collate\n",
    "\n",
    "\n",
    "for features, labels in tqdm(\n",
    "            train_dataloader\n",
    "        ):\n",
    "    model_predictions = rerank_model.model(**features, return_dict=True)\n",
    "    # logits = activation_fct(model_predictions.logits)\n",
    "    # if self.config.num_labels == 1:\n",
    "    # logits = logits.view(-1)\n",
    "    # loss_value = loss_fct(logits, labels)\n",
    "    # loss_value.backward()\n",
    "    # torch.nn.utils.clip_grad_norm_(self.model.parameters(), max_grad_norm)\n",
    "    # optimizer.step()\n"
   ]
  },
  {
   "cell_type": "code",
   "execution_count": 25,
   "metadata": {},
   "outputs": [
    {
     "data": {
      "text/plain": [
       "SequenceClassifierOutput(loss=None, logits=tensor([[-0.7891]], device='cuda:0', dtype=torch.bfloat16,\n",
       "       grad_fn=<AddmmBackward0>), hidden_states=None, attentions=None)"
      ]
     },
     "execution_count": 25,
     "metadata": {},
     "output_type": "execute_result"
    }
   ],
   "source": [
    "model_predictions"
   ]
  },
  {
   "cell_type": "code",
   "execution_count": 24,
   "metadata": {},
   "outputs": [
    {
     "data": {
      "text/plain": [
       "tensor([[0.3125]], device='cuda:0', dtype=torch.bfloat16,\n",
       "       grad_fn=<SigmoidBackward0>)"
      ]
     },
     "execution_count": 24,
     "metadata": {},
     "output_type": "execute_result"
    }
   ],
   "source": [
    "from torch import nn\n",
    "sigmoid = nn.Sigmoid()\n",
    "sigmoid(model_predictions.logits)"
   ]
  }
 ],
 "metadata": {
  "kernelspec": {
   "display_name": "factcheck",
   "language": "python",
   "name": "python3"
  },
  "language_info": {
   "codemirror_mode": {
    "name": "ipython",
    "version": 3
   },
   "file_extension": ".py",
   "mimetype": "text/x-python",
   "name": "python",
   "nbconvert_exporter": "python",
   "pygments_lexer": "ipython3",
   "version": "3.10.15"
  }
 },
 "nbformat": 4,
 "nbformat_minor": 2
}
