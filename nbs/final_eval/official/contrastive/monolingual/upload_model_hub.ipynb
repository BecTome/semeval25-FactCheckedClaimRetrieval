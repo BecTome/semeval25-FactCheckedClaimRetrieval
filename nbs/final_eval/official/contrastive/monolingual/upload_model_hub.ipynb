{
 "cells": [
  {
   "cell_type": "markdown",
   "metadata": {},
   "source": [
    "# Upload Hugging Face Models to the Hub"
   ]
  },
  {
   "cell_type": "markdown",
   "metadata": {},
   "source": [
    "In this notebook, a set of models are uploaded to the HF data. Due to an error with the config_class, the models are uploaded as a folder instead of using `push_to_hub`.\n",
    "\n",
    "**Note**: \"UPC-HLE/fc-{path}-{model_name}\" have a model card but it is because they were previously uploaded using push_to_hub.\n",
    "\n",
    "This is the error: \n",
    "\n",
    "```bash\n",
    "ValueError: The model class you are passing has a `config_class` attribute that is not consistent with the config class you passed (model has <class 'transformers_modules.jinaai.jina-reranker-v2-base-multilingual.126747772a932960028d9f4dc93bd5d9c4869be4.configuration_xlm_roberta.XLMRobertaFlashConfig'> and you passed <class 'transformers_modules.UPC-HLE.fc-monolingual_spa_reranker-jina-v2-base-multilingual.fe03bc8de2620aa865b72e3e84a00a91dddca6a6.configuration_xlm_roberta.XLMRobertaFlashConfig'>. Fix one of those so they match!\n",
    "```\n"
   ]
  },
  {
   "cell_type": "code",
   "execution_count": 1,
   "metadata": {},
   "outputs": [
    {
     "data": {
      "application/vnd.jupyter.widget-view+json": {
       "model_id": "5e82f9f4201d4d648488986b396f12f8",
       "version_major": 2,
       "version_minor": 0
      },
      "text/plain": [
       "VBox(children=(HTML(value='<center> <img\\nsrc=https://huggingface.co/front/assets/huggingface_logo-noborder.sv…"
      ]
     },
     "metadata": {},
     "output_type": "display_data"
    }
   ],
   "source": [
    "from huggingface_hub import notebook_login\n",
    "from src.utils import upload_model_to_hub\n",
    "\n",
    "notebook_login()"
   ]
  },
  {
   "cell_type": "code",
   "execution_count": null,
   "metadata": {},
   "outputs": [
    {
     "data": {
      "application/vnd.jupyter.widget-view+json": {
       "model_id": "04acd6a5876346a4be98031de72100c3",
       "version_major": 2,
       "version_minor": 0
      },
      "text/plain": [
       "triplets.csv:   0%|          | 0.00/18.5M [00:00<?, ?B/s]"
      ]
     },
     "metadata": {},
     "output_type": "display_data"
    },
    {
     "name": "stderr",
     "output_type": "stream",
     "text": [
      "2024-12-08 21:06:13,544 - INFO - Model uploaded to UPC-HLE/fc-monolingual_eng_reranker-jina-v2-base-multilingual\n"
     ]
    },
    {
     "name": "stdout",
     "output_type": "stream",
     "text": [
      "Uploaded output/official/contrastive/monolingual/20241102-171126/monolingual_eng_reranker to UPC-HLE/fc-monolingual_eng_reranker-jina-v2-base-multilingual\n",
      "\n"
     ]
    },
    {
     "data": {
      "application/vnd.jupyter.widget-view+json": {
       "model_id": "e7eb97acc8d94601a3ca67e00fe5a7c3",
       "version_major": 2,
       "version_minor": 0
      },
      "text/plain": [
       "model.safetensors:   0%|          | 0.00/557M [00:00<?, ?B/s]"
      ]
     },
     "metadata": {},
     "output_type": "display_data"
    },
    {
     "name": "stderr",
     "output_type": "stream",
     "text": [
      "2024-12-08 21:06:35,011 - INFO - Model uploaded to UPC-HLE/fc-monolingual_deu_reranker-jina-v2-base-multilingual\n"
     ]
    },
    {
     "name": "stdout",
     "output_type": "stream",
     "text": [
      "Uploaded output/official/contrastive/monolingual/20241102-171126/monolingual_deu_reranker to UPC-HLE/fc-monolingual_deu_reranker-jina-v2-base-multilingual\n",
      "\n"
     ]
    },
    {
     "data": {
      "application/vnd.jupyter.widget-view+json": {
       "model_id": "2686c63474d04b4dbf0a6c6e0cb2fa00",
       "version_major": 2,
       "version_minor": 0
      },
      "text/plain": [
       "model.safetensors:   0%|          | 0.00/557M [00:00<?, ?B/s]"
      ]
     },
     "metadata": {},
     "output_type": "display_data"
    },
    {
     "name": "stderr",
     "output_type": "stream",
     "text": [
      "2024-12-08 21:06:52,330 - INFO - Model uploaded to UPC-HLE/fc-monolingual_msa_reranker-jina-v2-base-multilingual\n"
     ]
    },
    {
     "name": "stdout",
     "output_type": "stream",
     "text": [
      "Uploaded output/official/contrastive/monolingual/20241102-171126/monolingual_msa_reranker to UPC-HLE/fc-monolingual_msa_reranker-jina-v2-base-multilingual\n",
      "\n"
     ]
    },
    {
     "data": {
      "application/vnd.jupyter.widget-view+json": {
       "model_id": "d875fc62de424532a8e5f0acc502907e",
       "version_major": 2,
       "version_minor": 0
      },
      "text/plain": [
       "model.safetensors:   0%|          | 0.00/557M [00:00<?, ?B/s]"
      ]
     },
     "metadata": {},
     "output_type": "display_data"
    },
    {
     "name": "stderr",
     "output_type": "stream",
     "text": [
      "2024-12-08 21:07:08,705 - INFO - Model uploaded to UPC-HLE/fc-monolingual_ara_reranker-jina-v2-base-multilingual\n"
     ]
    },
    {
     "name": "stdout",
     "output_type": "stream",
     "text": [
      "Uploaded output/official/contrastive/monolingual/20241102-171126/monolingual_ara_reranker to UPC-HLE/fc-monolingual_ara_reranker-jina-v2-base-multilingual\n",
      "\n"
     ]
    },
    {
     "data": {
      "application/vnd.jupyter.widget-view+json": {
       "model_id": "ef0e0efc722a469cbe52ce7197c31c29",
       "version_major": 2,
       "version_minor": 0
      },
      "text/plain": [
       "model.safetensors:   0%|          | 0.00/557M [00:00<?, ?B/s]"
      ]
     },
     "metadata": {},
     "output_type": "display_data"
    },
    {
     "data": {
      "application/vnd.jupyter.widget-view+json": {
       "model_id": "eb451abad30641d7908aaf5c8193bb97",
       "version_major": 2,
       "version_minor": 0
      },
      "text/plain": [
       "Upload 2 LFS files:   0%|          | 0/2 [00:00<?, ?it/s]"
      ]
     },
     "metadata": {},
     "output_type": "display_data"
    },
    {
     "data": {
      "application/vnd.jupyter.widget-view+json": {
       "model_id": "3cf6b9d15d53479a9a6086721aece401",
       "version_major": 2,
       "version_minor": 0
      },
      "text/plain": [
       "triplets.csv:   0%|          | 0.00/24.2M [00:00<?, ?B/s]"
      ]
     },
     "metadata": {},
     "output_type": "display_data"
    },
    {
     "name": "stderr",
     "output_type": "stream",
     "text": [
      "2024-12-08 21:07:29,008 - INFO - Model uploaded to UPC-HLE/fc-monolingual_spa_reranker-jina-v2-base-multilingual\n"
     ]
    },
    {
     "name": "stdout",
     "output_type": "stream",
     "text": [
      "Uploaded output/official/contrastive/monolingual/20241102-171126/monolingual_spa_reranker to UPC-HLE/fc-monolingual_spa_reranker-jina-v2-base-multilingual\n",
      "\n"
     ]
    },
    {
     "data": {
      "application/vnd.jupyter.widget-view+json": {
       "model_id": "343d589abeab414ba64720e766335694",
       "version_major": 2,
       "version_minor": 0
      },
      "text/plain": [
       "model.safetensors:   0%|          | 0.00/557M [00:00<?, ?B/s]"
      ]
     },
     "metadata": {},
     "output_type": "display_data"
    },
    {
     "name": "stderr",
     "output_type": "stream",
     "text": [
      "2024-12-08 21:07:45,152 - INFO - Model uploaded to UPC-HLE/fc-monolingual_fra_reranker-jina-v2-base-multilingual\n"
     ]
    },
    {
     "name": "stdout",
     "output_type": "stream",
     "text": [
      "Uploaded output/official/contrastive/monolingual/20241102-171126/monolingual_fra_reranker to UPC-HLE/fc-monolingual_fra_reranker-jina-v2-base-multilingual\n",
      "\n"
     ]
    },
    {
     "data": {
      "application/vnd.jupyter.widget-view+json": {
       "model_id": "2c454df73c92478388b29e45980ca6c9",
       "version_major": 2,
       "version_minor": 0
      },
      "text/plain": [
       "model.safetensors:   0%|          | 0.00/557M [00:00<?, ?B/s]"
      ]
     },
     "metadata": {},
     "output_type": "display_data"
    },
    {
     "name": "stderr",
     "output_type": "stream",
     "text": [
      "2024-12-08 21:08:00,775 - INFO - Model uploaded to UPC-HLE/fc-monolingual_tha_reranker-jina-v2-base-multilingual\n"
     ]
    },
    {
     "name": "stdout",
     "output_type": "stream",
     "text": [
      "Uploaded output/official/contrastive/monolingual/20241102-171126/monolingual_tha_reranker to UPC-HLE/fc-monolingual_tha_reranker-jina-v2-base-multilingual\n",
      "\n"
     ]
    },
    {
     "data": {
      "application/vnd.jupyter.widget-view+json": {
       "model_id": "d8d18198741c4371ba154aeea1a5b64d",
       "version_major": 2,
       "version_minor": 0
      },
      "text/plain": [
       "triplets.csv:   0%|          | 0.00/11.0M [00:00<?, ?B/s]"
      ]
     },
     "metadata": {},
     "output_type": "display_data"
    },
    {
     "data": {
      "application/vnd.jupyter.widget-view+json": {
       "model_id": "008369fbb39446b69957df46b31c88c9",
       "version_major": 2,
       "version_minor": 0
      },
      "text/plain": [
       "model.safetensors:   0%|          | 0.00/557M [00:00<?, ?B/s]"
      ]
     },
     "metadata": {},
     "output_type": "display_data"
    },
    {
     "data": {
      "application/vnd.jupyter.widget-view+json": {
       "model_id": "50569192764b456bb2c1ef4f2ccca0f9",
       "version_major": 2,
       "version_minor": 0
      },
      "text/plain": [
       "Upload 2 LFS files:   0%|          | 0/2 [00:00<?, ?it/s]"
      ]
     },
     "metadata": {},
     "output_type": "display_data"
    },
    {
     "name": "stderr",
     "output_type": "stream",
     "text": [
      "2024-12-08 21:08:17,063 - INFO - Model uploaded to UPC-HLE/fc-monolingual_por_reranker-jina-v2-base-multilingual\n"
     ]
    },
    {
     "name": "stdout",
     "output_type": "stream",
     "text": [
      "Uploaded output/official/contrastive/monolingual/20241102-171126/monolingual_por_reranker to UPC-HLE/fc-monolingual_por_reranker-jina-v2-base-multilingual\n",
      "\n"
     ]
    }
   ],
   "source": [
    "\n",
    "import os\n",
    "from sentence_transformers import SentenceTransformer\n",
    "from transformers import AutoConfig\n",
    "\n",
    "models_path = \"output/official/contrastive/monolingual/20241102-171126\"\n",
    "model_name = \"jina-v2-base-multilingual\"\n",
    "\n",
    "commit_message = models_path\n",
    "\n",
    "for path in os.listdir(models_path):\n",
    "    if os.path.isdir(os.path.join(models_path, path)):\n",
    "        local_model_path = os.path.join(models_path, path)\n",
    "        hf_model_path = f\"UPC-HLE/fc-{path}-{model_name}\"\n",
    "         \n",
    "        upload_model_to_hub(local_model_path, hf_model_path, commit_message, private=True, exist_ok=True)\n",
    "        print(f\"Uploaded {local_model_path} to {hf_model_path}\\n\")\n",
    "\n"
   ]
  },
  {
   "cell_type": "markdown",
   "metadata": {},
   "source": [
    "# Test the model you choose"
   ]
  },
  {
   "cell_type": "markdown",
   "metadata": {},
   "source": [
    "Select a model and compare its performance with the original model."
   ]
  },
  {
   "cell_type": "code",
   "execution_count": 13,
   "metadata": {},
   "outputs": [
    {
     "name": "stderr",
     "output_type": "stream",
     "text": [
      "2024-12-08 21:30:47,748 - INFO - Use pytorch device_name: cuda\n",
      "2024-12-08 21:30:47,749 - INFO - Load pretrained SentenceTransformer: output/official/contrastive/monolingual/20241102-171126/monolingual_eng_reranker\n",
      "2024-12-08 21:30:47,749 - WARNING - No sentence-transformers model found with name output/official/contrastive/monolingual/20241102-171126/monolingual_eng_reranker. Creating a new one with mean pooling.\n",
      "Some weights of XLMRobertaModel were not initialized from the model checkpoint at output/official/contrastive/monolingual/20241102-171126/monolingual_eng_reranker and are newly initialized: ['roberta.pooler.dense.bias', 'roberta.pooler.dense.weight']\n",
      "You should probably TRAIN this model on a down-stream task to be able to use it for predictions and inference.\n",
      "2024-12-08 21:30:48,965 - INFO - Use pytorch device_name: cuda\n",
      "2024-12-08 21:30:48,966 - INFO - Load pretrained SentenceTransformer: UPC-HLE/fc-monolingual_eng_reranker-jina-v2-base-multilingual\n",
      "Some weights of XLMRobertaModel were not initialized from the model checkpoint at UPC-HLE/fc-monolingual_eng_reranker-jina-v2-base-multilingual and are newly initialized: ['roberta.pooler.dense.bias', 'roberta.pooler.dense.weight']\n",
      "You should probably TRAIN this model on a down-stream task to be able to use it for predictions and inference.\n"
     ]
    },
    {
     "data": {
      "application/vnd.jupyter.widget-view+json": {
       "model_id": "ea004bc74adc4d0a911a796d026ed318",
       "version_major": 2,
       "version_minor": 0
      },
      "text/plain": [
       "Batches:   0%|          | 0/1 [00:00<?, ?it/s]"
      ]
     },
     "metadata": {},
     "output_type": "display_data"
    },
    {
     "data": {
      "application/vnd.jupyter.widget-view+json": {
       "model_id": "7b41774b19304f8cb2c5a6733b64f5dc",
       "version_major": 2,
       "version_minor": 0
      },
      "text/plain": [
       "Batches:   0%|          | 0/1 [00:00<?, ?it/s]"
      ]
     },
     "metadata": {},
     "output_type": "display_data"
    },
    {
     "data": {
      "application/vnd.jupyter.widget-view+json": {
       "model_id": "c421fc413d7b402491563e47d2f52f9b",
       "version_major": 2,
       "version_minor": 0
      },
      "text/plain": [
       "Batches:   0%|          | 0/1 [00:00<?, ?it/s]"
      ]
     },
     "metadata": {},
     "output_type": "display_data"
    },
    {
     "data": {
      "application/vnd.jupyter.widget-view+json": {
       "model_id": "e4121b635406462b9b29a902112fe192",
       "version_major": 2,
       "version_minor": 0
      },
      "text/plain": [
       "Batches:   0%|          | 0/1 [00:00<?, ?it/s]"
      ]
     },
     "metadata": {},
     "output_type": "display_data"
    },
    {
     "name": "stdout",
     "output_type": "stream",
     "text": [
      "tensor([[0.9377]])\n",
      "tensor([[0.9377]])\n"
     ]
    }
   ],
   "source": [
    "hf_model_path = \"UPC-HLE/fc-monolingual_eng_reranker-jina-v2-base-multilingual\"\n",
    "local_model_path = \"output/official/contrastive/monolingual/20241102-171126/monolingual_eng_reranker\"\n",
    "\n",
    "st0 = SentenceTransformer(local_model_path, trust_remote_code=True)\n",
    "st1 = SentenceTransformer(hf_model_path, trust_remote_code=True)\n",
    "\n",
    "sen1 = \"Donald Trump is the president of the United States of America.\"\n",
    "sen2 = \"The president of the United States of America is DT.\"\n",
    "\n",
    "sim1 = st0.similarity(st0.encode(sen1), st0.encode(sen2))\n",
    "sim2 = st1.similarity(st1.encode(sen1), st1.encode(sen2))\n",
    "\n",
    "print(sim1)\n",
    "print(sim2)\n",
    "\n",
    "assert sim1 == sim2, \"The models are not equal\""
   ]
  },
  {
   "cell_type": "code",
   "execution_count": null,
   "metadata": {},
   "outputs": [],
   "source": []
  }
 ],
 "metadata": {
  "kernelspec": {
   "display_name": "factcheck",
   "language": "python",
   "name": "python3"
  },
  "language_info": {
   "codemirror_mode": {
    "name": "ipython",
    "version": 3
   },
   "file_extension": ".py",
   "mimetype": "text/x-python",
   "name": "python",
   "nbconvert_exporter": "python",
   "pygments_lexer": "ipython3",
   "version": "3.10.15"
  }
 },
 "nbformat": 4,
 "nbformat_minor": 2
}
