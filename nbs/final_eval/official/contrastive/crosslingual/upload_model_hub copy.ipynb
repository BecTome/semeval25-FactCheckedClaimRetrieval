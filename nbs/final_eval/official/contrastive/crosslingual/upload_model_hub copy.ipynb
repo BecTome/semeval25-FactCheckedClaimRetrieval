{
 "cells": [
  {
   "cell_type": "markdown",
   "metadata": {},
   "source": [
    "# Upload Hugging Face Models to the Hub"
   ]
  },
  {
   "cell_type": "markdown",
   "metadata": {},
   "source": [
    "In this notebook, a set of models are uploaded to the HF data. Due to an error with the config_class, the models are uploaded as a folder instead of using `push_to_hub`.\n",
    "\n",
    "**Note**: \"UPC-HLE/fc-{path}-{model_name}\" have a model card but it is because they were previously uploaded using push_to_hub.\n",
    "\n",
    "This is the error: \n",
    "\n",
    "```bash\n",
    "ValueError: The model class you are passing has a `config_class` attribute that is not consistent with the config class you passed (model has <class 'transformers_modules.jinaai.jina-reranker-v2-base-multilingual.126747772a932960028d9f4dc93bd5d9c4869be4.configuration_xlm_roberta.XLMRobertaFlashConfig'> and you passed <class 'transformers_modules.UPC-HLE.fc-monolingual_spa_reranker-jina-v2-base-multilingual.fe03bc8de2620aa865b72e3e84a00a91dddca6a6.configuration_xlm_roberta.XLMRobertaFlashConfig'>. Fix one of those so they match!\n",
    "```\n"
   ]
  },
  {
   "cell_type": "code",
   "execution_count": 1,
   "metadata": {},
   "outputs": [
    {
     "data": {
      "application/vnd.jupyter.widget-view+json": {
       "model_id": "f51ba2f78b6049f7baba50aaad2caa0d",
       "version_major": 2,
       "version_minor": 0
      },
      "text/plain": [
       "VBox(children=(HTML(value='<center> <img\\nsrc=https://huggingface.co/front/assets/huggingface_logo-noborder.sv…"
      ]
     },
     "metadata": {},
     "output_type": "display_data"
    }
   ],
   "source": [
    "from huggingface_hub import notebook_login\n",
    "from src.utils import upload_model_to_hub\n",
    "\n",
    "notebook_login()"
   ]
  },
  {
   "cell_type": "code",
   "execution_count": 3,
   "metadata": {},
   "outputs": [
    {
     "name": "stderr",
     "output_type": "stream",
     "text": [
      "No files have been modified since last commit. Skipping to prevent empty commit.\n",
      "2024-12-08 21:39:27,447 - WARNING - No files have been modified since last commit. Skipping to prevent empty commit.\n",
      "2024-12-08 21:39:27,586 - INFO - Model uploaded to UPC-HLE/fc-crosslingual-jina-v2-base-multilingual\n"
     ]
    },
    {
     "name": "stdout",
     "output_type": "stream",
     "text": [
      "Uploaded output/official/contrastive/crosslingual/20241031-185451/crosslingual to UPC-HLE/fc-crosslingual-jina-v2-base-multilingual\n",
      "\n"
     ]
    }
   ],
   "source": [
    "\n",
    "import os\n",
    "from sentence_transformers import SentenceTransformer\n",
    "from transformers import AutoConfig\n",
    "\n",
    "models_path = \"output/official/contrastive/crosslingual/20241031-185451\"\n",
    "model_name = \"jina-v2-base-multilingual\"\n",
    "\n",
    "commit_message = models_path\n",
    "\n",
    "for path in os.listdir(models_path):\n",
    "    if os.path.isdir(os.path.join(models_path, path)):\n",
    "        local_model_path = os.path.join(models_path, path)\n",
    "        hf_model_path = f\"UPC-HLE/fc-{path}-{model_name}\"\n",
    "         \n",
    "        upload_model_to_hub(local_model_path, hf_model_path, commit_message, private=True, exist_ok=True)\n",
    "        print(f\"Uploaded {local_model_path} to {hf_model_path}\\n\")\n",
    "\n"
   ]
  },
  {
   "cell_type": "markdown",
   "metadata": {},
   "source": [
    "# Test the model you choose"
   ]
  },
  {
   "cell_type": "markdown",
   "metadata": {},
   "source": [
    "Select a model and compare its performance with the original model."
   ]
  },
  {
   "cell_type": "code",
   "execution_count": 4,
   "metadata": {},
   "outputs": [
    {
     "name": "stderr",
     "output_type": "stream",
     "text": [
      "2024-12-08 21:40:15,324 - INFO - Use pytorch device_name: cuda\n",
      "2024-12-08 21:40:15,325 - INFO - Load pretrained SentenceTransformer: output/official/contrastive/crosslingual/20241031-185451/crosslingual\n",
      "2024-12-08 21:40:15,326 - WARNING - No sentence-transformers model found with name output/official/contrastive/crosslingual/20241031-185451/crosslingual. Creating a new one with mean pooling.\n"
     ]
    },
    {
     "name": "stderr",
     "output_type": "stream",
     "text": [
      "/home/bsc/bsc830651/.conda/envs/factcheck/lib/python3.10/site-packages/flash_attn/ops/triton/layer_norm.py:959: FutureWarning: `torch.cuda.amp.custom_fwd(args...)` is deprecated. Please use `torch.amp.custom_fwd(args..., device_type='cuda')` instead.\n",
      "  def forward(\n",
      "/home/bsc/bsc830651/.conda/envs/factcheck/lib/python3.10/site-packages/flash_attn/ops/triton/layer_norm.py:1018: FutureWarning: `torch.cuda.amp.custom_bwd(args...)` is deprecated. Please use `torch.amp.custom_bwd(args..., device_type='cuda')` instead.\n",
      "  def backward(ctx, dout, *args):\n",
      "Some weights of XLMRobertaModel were not initialized from the model checkpoint at output/official/contrastive/crosslingual/20241031-185451/crosslingual and are newly initialized: ['roberta.pooler.dense.bias', 'roberta.pooler.dense.weight']\n",
      "You should probably TRAIN this model on a down-stream task to be able to use it for predictions and inference.\n",
      "2024-12-08 21:40:16,738 - INFO - Use pytorch device_name: cuda\n",
      "2024-12-08 21:40:16,738 - INFO - Load pretrained SentenceTransformer: UPC-HLE/fc-crosslingual-jina-v2-base-multilingual\n",
      "2024-12-08 21:40:16,881 - WARNING - No sentence-transformers model found with name UPC-HLE/fc-crosslingual-jina-v2-base-multilingual. Creating a new one with mean pooling.\n"
     ]
    },
    {
     "data": {
      "application/vnd.jupyter.widget-view+json": {
       "model_id": "702e9324b6d542b3866b5280041d56c5",
       "version_major": 2,
       "version_minor": 0
      },
      "text/plain": [
       "config.json:   0%|          | 0.00/1.44k [00:00<?, ?B/s]"
      ]
     },
     "metadata": {},
     "output_type": "display_data"
    },
    {
     "data": {
      "application/vnd.jupyter.widget-view+json": {
       "model_id": "a61171b240bc4fe7bf828229676dd281",
       "version_major": 2,
       "version_minor": 0
      },
      "text/plain": [
       "model.safetensors:   0%|          | 0.00/557M [00:00<?, ?B/s]"
      ]
     },
     "metadata": {},
     "output_type": "display_data"
    },
    {
     "name": "stderr",
     "output_type": "stream",
     "text": [
      "Some weights of XLMRobertaModel were not initialized from the model checkpoint at UPC-HLE/fc-crosslingual-jina-v2-base-multilingual and are newly initialized: ['roberta.pooler.dense.bias', 'roberta.pooler.dense.weight']\n",
      "You should probably TRAIN this model on a down-stream task to be able to use it for predictions and inference.\n"
     ]
    },
    {
     "data": {
      "application/vnd.jupyter.widget-view+json": {
       "model_id": "09837c482b9048948e75a4e49a952a25",
       "version_major": 2,
       "version_minor": 0
      },
      "text/plain": [
       "tokenizer_config.json:   0%|          | 0.00/1.15k [00:00<?, ?B/s]"
      ]
     },
     "metadata": {},
     "output_type": "display_data"
    },
    {
     "data": {
      "application/vnd.jupyter.widget-view+json": {
       "model_id": "c17d0dd07d52472bbac2aa67f8b7e33c",
       "version_major": 2,
       "version_minor": 0
      },
      "text/plain": [
       "tokenizer.json:   0%|          | 0.00/17.1M [00:00<?, ?B/s]"
      ]
     },
     "metadata": {},
     "output_type": "display_data"
    },
    {
     "data": {
      "application/vnd.jupyter.widget-view+json": {
       "model_id": "8fbeb1845de84d0aadd09a2a9fa0f2aa",
       "version_major": 2,
       "version_minor": 0
      },
      "text/plain": [
       "special_tokens_map.json:   0%|          | 0.00/964 [00:00<?, ?B/s]"
      ]
     },
     "metadata": {},
     "output_type": "display_data"
    },
    {
     "data": {
      "application/vnd.jupyter.widget-view+json": {
       "model_id": "95bdf02cbfb240789b3538d020d3f2d0",
       "version_major": 2,
       "version_minor": 0
      },
      "text/plain": [
       "Batches:   0%|          | 0/1 [00:00<?, ?it/s]"
      ]
     },
     "metadata": {},
     "output_type": "display_data"
    },
    {
     "data": {
      "application/vnd.jupyter.widget-view+json": {
       "model_id": "32b07a3963b54ed6b4f1fbb9dd680ee2",
       "version_major": 2,
       "version_minor": 0
      },
      "text/plain": [
       "Batches:   0%|          | 0/1 [00:00<?, ?it/s]"
      ]
     },
     "metadata": {},
     "output_type": "display_data"
    },
    {
     "data": {
      "application/vnd.jupyter.widget-view+json": {
       "model_id": "edd79965863d460788ba328215b42b3c",
       "version_major": 2,
       "version_minor": 0
      },
      "text/plain": [
       "Batches:   0%|          | 0/1 [00:00<?, ?it/s]"
      ]
     },
     "metadata": {},
     "output_type": "display_data"
    },
    {
     "data": {
      "application/vnd.jupyter.widget-view+json": {
       "model_id": "4e734d11638d4f14a75dba65bc8e74bd",
       "version_major": 2,
       "version_minor": 0
      },
      "text/plain": [
       "Batches:   0%|          | 0/1 [00:00<?, ?it/s]"
      ]
     },
     "metadata": {},
     "output_type": "display_data"
    },
    {
     "name": "stdout",
     "output_type": "stream",
     "text": [
      "tensor([[0.9532]])\n",
      "tensor([[0.9532]])\n"
     ]
    }
   ],
   "source": [
    "hf_model_path = \"UPC-HLE/fc-crosslingual-jina-v2-base-multilingual\"\n",
    "local_model_path = \"output/official/contrastive/crosslingual/20241031-185451/crosslingual\"\n",
    "\n",
    "st0 = SentenceTransformer(local_model_path, trust_remote_code=True)\n",
    "st1 = SentenceTransformer(hf_model_path, trust_remote_code=True)\n",
    "\n",
    "sen1 = \"Donald Trump is the president of the United States of America.\"\n",
    "sen2 = \"The president of the United States of America is DT.\"\n",
    "\n",
    "sim1 = st0.similarity(st0.encode(sen1), st0.encode(sen2))\n",
    "sim2 = st1.similarity(st1.encode(sen1), st1.encode(sen2))\n",
    "\n",
    "print(sim1)\n",
    "print(sim2)\n",
    "\n",
    "assert sim1 == sim2, \"The models are not equal\""
   ]
  },
  {
   "cell_type": "code",
   "execution_count": null,
   "metadata": {},
   "outputs": [],
   "source": []
  }
 ],
 "metadata": {
  "kernelspec": {
   "display_name": "factcheck",
   "language": "python",
   "name": "python3"
  },
  "language_info": {
   "codemirror_mode": {
    "name": "ipython",
    "version": 3
   },
   "file_extension": ".py",
   "mimetype": "text/x-python",
   "name": "python",
   "nbconvert_exporter": "python",
   "pygments_lexer": "ipython3",
   "version": "3.10.15"
  }
 },
 "nbformat": 4,
 "nbformat_minor": 2
}
