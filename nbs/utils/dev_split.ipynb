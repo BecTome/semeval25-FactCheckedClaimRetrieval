{
 "cells": [
  {
   "cell_type": "markdown",
   "metadata": {},
   "source": [
    "# Split in Local Development"
   ]
  },
  {
   "cell_type": "markdown",
   "metadata": {},
   "source": [
    "In the first phase of the competition there is a development test which is used as first test in CodaBench. In this notebook we are going to split the training set again, generating a new development set.\n",
    "\n",
    "Different strategies may be followed:\n",
    "- Random split: Just getting, for example, 10% of the training set as development set.\n",
    "- Avoid overlapping between train gold standard and development gold standard\n",
    "- Avoid posts overlapping between train and development\n"
   ]
  },
  {
   "cell_type": "markdown",
   "metadata": {},
   "source": [
    "## Monolingual Task Split"
   ]
  },
  {
   "cell_type": "markdown",
   "metadata": {},
   "source": [
    "Logically, it will be done in the same way for all languages."
   ]
  },
  {
   "cell_type": "code",
   "execution_count": 1,
   "metadata": {},
   "outputs": [],
   "source": [
    "from src.datasets import TextConcatPosts, Dataset\n",
    "\n",
    "tasks_path = \"data/complete_data/tasks.json\" # This is the file that will be replaced in the final version with new split\n",
    "posts_path = \"data/complete_data/posts.csv\"\n",
    "fact_checks_path = \"data/complete_data/fact_checks.csv\"\n",
    "gs_path = \"data/complete_data/pairs.csv\"\n",
    "\n",
    "posts = TextConcatPosts(posts_path, tasks_path, task_name=\"monolingual\", gs_path=gs_path)\n",
    "# fact_checks = BaseFactCheckDataset(fact_checks_path, tasks_path, task_name=\"monolingual\")\n",
    "\n",
    "# df_fc = fact_checks.df\n",
    "df_posts_train = posts.df_train"
   ]
  },
  {
   "cell_type": "markdown",
   "metadata": {},
   "source": [
    "## Duplicated Values"
   ]
  },
  {
   "cell_type": "markdown",
   "metadata": {},
   "source": [
    "It would be very easy for the model to predict the fact checking label of a post if it has already seen it in the training set. Therefore, we should avoid having the same post in both the training and development sets.\n",
    "\n",
    "This task is not completely straightforward, as we have to take into account that the same post can be written in slightly different ways. For example with different amount of spaces, emojis, caps, etc.\n",
    "\n",
    "Possibilities:\n",
    "- `text`is empty but there is `ocr`: Check duplicates in `full_text`\n",
    "- `text` is not empty and duplicated but `ocr` is not: not duplicated\n",
    "\n",
    "Duplicated = same `full_text` (OCR + text)"
   ]
  },
  {
   "cell_type": "code",
   "execution_count": 2,
   "metadata": {},
   "outputs": [],
   "source": [
    "full_text_dup = df_posts_train.duplicated(subset=[\"full_text\"], keep=False)#& (df_posts_train.full_text != \"\")\n",
    "text_dup = df_posts_train.duplicated(subset=[\"text\"], keep=False) & (df_posts_train.text != \"\")"
   ]
  },
  {
   "cell_type": "code",
   "execution_count": 3,
   "metadata": {},
   "outputs": [
    {
     "name": "stdout",
     "output_type": "stream",
     "text": [
      "[OCR + Text] total duplicates 27 (0.006205470006894967)\n",
      "[Text] total duplicates 60 (0.01576872536136662)\n"
     ]
    },
    {
     "data": {
      "text/html": [
       "<div>\n",
       "<style scoped>\n",
       "    .dataframe tbody tr th:only-of-type {\n",
       "        vertical-align: middle;\n",
       "    }\n",
       "\n",
       "    .dataframe tbody tr th {\n",
       "        vertical-align: top;\n",
       "    }\n",
       "\n",
       "    .dataframe thead th {\n",
       "        text-align: right;\n",
       "    }\n",
       "</style>\n",
       "<table border=\"1\" class=\"dataframe\">\n",
       "  <thead>\n",
       "    <tr style=\"text-align: right;\">\n",
       "      <th></th>\n",
       "      <th>ocr</th>\n",
       "      <th>verdicts</th>\n",
       "      <th>text</th>\n",
       "      <th>lan</th>\n",
       "      <th>fb</th>\n",
       "      <th>tw</th>\n",
       "      <th>ig</th>\n",
       "      <th>full_text</th>\n",
       "      <th>gs</th>\n",
       "    </tr>\n",
       "    <tr>\n",
       "      <th>post_id</th>\n",
       "      <th></th>\n",
       "      <th></th>\n",
       "      <th></th>\n",
       "      <th></th>\n",
       "      <th></th>\n",
       "      <th></th>\n",
       "      <th></th>\n",
       "      <th></th>\n",
       "      <th></th>\n",
       "    </tr>\n",
       "  </thead>\n",
       "  <tbody>\n",
       "    <tr>\n",
       "      <th>4809</th>\n",
       "      <td></td>\n",
       "      <td>False information</td>\n",
       "      <td>A 40-ton truck lifted by 2,000 drones [URL]</td>\n",
       "      <td>eng</td>\n",
       "      <td>1</td>\n",
       "      <td>0</td>\n",
       "      <td>0</td>\n",
       "      <td>A 40-ton truck lifted by 2,000 drones [URL]</td>\n",
       "      <td>[132558]</td>\n",
       "    </tr>\n",
       "    <tr>\n",
       "      <th>4810</th>\n",
       "      <td></td>\n",
       "      <td></td>\n",
       "      <td>A 40-ton truck lifted by 2,000 drones [URL]</td>\n",
       "      <td>eng</td>\n",
       "      <td>0</td>\n",
       "      <td>1</td>\n",
       "      <td>0</td>\n",
       "      <td>A 40-ton truck lifted by 2,000 drones [URL]</td>\n",
       "      <td>[132558]</td>\n",
       "    </tr>\n",
       "    <tr>\n",
       "      <th>6945</th>\n",
       "      <td></td>\n",
       "      <td>False information.</td>\n",
       "      <td>Breaking News: Trump Rejects New Arms Deal wit...</td>\n",
       "      <td>eng</td>\n",
       "      <td>2</td>\n",
       "      <td>0</td>\n",
       "      <td>0</td>\n",
       "      <td>Breaking News: Trump Rejects New Arms Deal wi...</td>\n",
       "      <td>[133966]</td>\n",
       "    </tr>\n",
       "    <tr>\n",
       "      <th>6946</th>\n",
       "      <td></td>\n",
       "      <td></td>\n",
       "      <td>Breaking News: Trump Rejects New Arms Deal wit...</td>\n",
       "      <td>eng</td>\n",
       "      <td>1</td>\n",
       "      <td>0</td>\n",
       "      <td>0</td>\n",
       "      <td>Breaking News: Trump Rejects New Arms Deal wi...</td>\n",
       "      <td>[133966]</td>\n",
       "    </tr>\n",
       "  </tbody>\n",
       "</table>\n",
       "</div>"
      ],
      "text/plain": [
       "        ocr            verdicts  \\\n",
       "post_id                           \n",
       "4809          False information   \n",
       "4810                              \n",
       "6945         False information.   \n",
       "6946                              \n",
       "\n",
       "                                                      text  lan  fb  tw  ig  \\\n",
       "post_id                                                                       \n",
       "4809           A 40-ton truck lifted by 2,000 drones [URL]  eng   1   0   0   \n",
       "4810           A 40-ton truck lifted by 2,000 drones [URL]  eng   0   1   0   \n",
       "6945     Breaking News: Trump Rejects New Arms Deal wit...  eng   2   0   0   \n",
       "6946     Breaking News: Trump Rejects New Arms Deal wit...  eng   1   0   0   \n",
       "\n",
       "                                                 full_text        gs  \n",
       "post_id                                                               \n",
       "4809           A 40-ton truck lifted by 2,000 drones [URL]  [132558]  \n",
       "4810           A 40-ton truck lifted by 2,000 drones [URL]  [132558]  \n",
       "6945      Breaking News: Trump Rejects New Arms Deal wi...  [133966]  \n",
       "6946      Breaking News: Trump Rejects New Arms Deal wi...  [133966]  "
      ]
     },
     "execution_count": 3,
     "metadata": {},
     "output_type": "execute_result"
    }
   ],
   "source": [
    "print(\"[OCR + Text] total duplicates\", df_posts_train[\"full_text\"].duplicated().sum(), f\"({df_posts_train['full_text'].duplicated().mean()})\")\n",
    "print(\"[Text] total duplicates\", df_posts_train.loc[df_posts_train.text != '', 'text'].duplicated().sum(), f\"({df_posts_train.loc[df_posts_train.text != '', 'text'].duplicated().mean()})\")\n",
    "df_posts_train[full_text_dup].sort_values(\"full_text\").head(4)"
   ]
  },
  {
   "cell_type": "markdown",
   "metadata": {},
   "source": [
    "## Effective indices"
   ]
  },
  {
   "cell_type": "code",
   "execution_count": 4,
   "metadata": {},
   "outputs": [],
   "source": [
    "def get_split_indices(df, test_size=0.1, random_state=42, stratify_by=None):\n",
    "    \n",
    "    dup_criteria = df.duplicated(subset=[\"full_text\"], keep=False)#& (df_posts_train.full_text != \"\")\n",
    "\n",
    "    df_dups = df[dup_criteria].copy()\n",
    "    df_not_dups = df[~dup_criteria].copy()\n",
    "\n",
    "    # idxs_dev = df_not_dups.sample(frac=test_size, random_state=random_state).index\n",
    "\n",
    "    # idx_train = df_not_dups.index.difference(idxs_dev).union(df_dups.index)\n",
    "    \n",
    "    from sklearn.model_selection import train_test_split\n",
    "    idx_train, idxs_dev = train_test_split(df_not_dups.index, test_size=test_size, random_state=random_state)\n",
    "    \n",
    "    if stratify_by is not None:\n",
    "        print(df_not_dups[stratify_by].value_counts())\n",
    "        idx_train, idxs_dev = train_test_split(df_not_dups.index, test_size=test_size, random_state=random_state, stratify=df_not_dups[stratify_by].values)\n",
    "    \n",
    "    idx_train = idx_train.union(df_dups.index)\n",
    "\n",
    "    print(\"Total\", len(df))\n",
    "    print(\"Train\", len(idx_train))\n",
    "    print(\"Dev\", len(idxs_dev))\n",
    "\n",
    "    assert len(df) == len(idx_train) + len(idxs_dev)\n",
    "\n",
    "\n",
    "    return idx_train.tolist(), idxs_dev.tolist()"
   ]
  },
  {
   "cell_type": "code",
   "execution_count": 5,
   "metadata": {},
   "outputs": [
    {
     "name": "stdout",
     "output_type": "stream",
     "text": [
      "Total 4351\n",
      "Train 3921\n",
      "Dev 430\n"
     ]
    }
   ],
   "source": [
    "idx_train, idxs_dev = get_split_indices(df_posts_train, test_size=0.1, random_state=42)"
   ]
  },
  {
   "cell_type": "code",
   "execution_count": 6,
   "metadata": {},
   "outputs": [
    {
     "data": {
      "text/plain": [
       "0.10985980234428867"
      ]
     },
     "execution_count": 6,
     "metadata": {},
     "output_type": "execute_result"
    }
   ],
   "source": [
    "posts.df_dev.shape[0] / df_posts_train.shape[0]"
   ]
  },
  {
   "cell_type": "markdown",
   "metadata": {},
   "source": [
    "# Cross-lingual Task Split"
   ]
  },
  {
   "cell_type": "markdown",
   "metadata": {},
   "source": [
    "In this case, it could happen that there is literally the same post in two different languages. In this case, we should avoid having the same post in both the training and development sets. For that, some scores of parallelism between the posts in different languages could be calculated.\n",
    "\n",
    "Also, and more important, it is possible that there is more imbalance in the training set for some languages than for others. In this case, we should take into account the language when splitting the training set, stratifying by language."
   ]
  },
  {
   "cell_type": "code",
   "execution_count": 7,
   "metadata": {},
   "outputs": [],
   "source": [
    "posts_xl = TextConcatPosts(posts_path, tasks_path, task_name=\"crosslingual\", gs_path=gs_path)\n",
    "# fact_checks = BaseFactCheckDataset(fact_checks_path, tasks_path, task_name=\"monolingual\")\n",
    "\n",
    "# df_fc = fact_checks.df\n",
    "df_posts_train_xl = posts_xl.df_train"
   ]
  },
  {
   "cell_type": "code",
   "execution_count": 8,
   "metadata": {},
   "outputs": [
    {
     "data": {
      "text/html": [
       "<div>\n",
       "<style scoped>\n",
       "    .dataframe tbody tr th:only-of-type {\n",
       "        vertical-align: middle;\n",
       "    }\n",
       "\n",
       "    .dataframe tbody tr th {\n",
       "        vertical-align: top;\n",
       "    }\n",
       "\n",
       "    .dataframe thead th {\n",
       "        text-align: right;\n",
       "    }\n",
       "</style>\n",
       "<table border=\"1\" class=\"dataframe\">\n",
       "  <thead>\n",
       "    <tr style=\"text-align: right;\">\n",
       "      <th></th>\n",
       "      <th>ocr</th>\n",
       "      <th>verdicts</th>\n",
       "      <th>text</th>\n",
       "      <th>lan</th>\n",
       "      <th>fb</th>\n",
       "      <th>tw</th>\n",
       "      <th>ig</th>\n",
       "      <th>full_text</th>\n",
       "      <th>gs</th>\n",
       "    </tr>\n",
       "    <tr>\n",
       "      <th>post_id</th>\n",
       "      <th></th>\n",
       "      <th></th>\n",
       "      <th></th>\n",
       "      <th></th>\n",
       "      <th></th>\n",
       "      <th></th>\n",
       "      <th></th>\n",
       "      <th></th>\n",
       "      <th></th>\n",
       "    </tr>\n",
       "  </thead>\n",
       "  <tbody>\n",
       "    <tr>\n",
       "      <th>15920</th>\n",
       "      <td>SPÉCIAL LAÏCS, OUI, FACHOS, NON! CHARLIE HEBD ...</td>\n",
       "      <td>False information</td>\n",
       "      <td>Os franceses fazem chacota do STF brasileiro.</td>\n",
       "      <td>por</td>\n",
       "      <td>1</td>\n",
       "      <td>0</td>\n",
       "      <td>0</td>\n",
       "      <td>SPÉCIAL LAÏCS, OUI, FACHOS, NON! CHARLIE HEBD ...</td>\n",
       "      <td>[36894, 113671]</td>\n",
       "    </tr>\n",
       "    <tr>\n",
       "      <th>6242</th>\n",
       "      <td>Charme Listene Audrey Courreges [USER] Infirmi...</td>\n",
       "      <td>False information</td>\n",
       "      <td>Audrey Courreges - Infirmière... 🖖</td>\n",
       "      <td>fra</td>\n",
       "      <td>1</td>\n",
       "      <td>0</td>\n",
       "      <td>0</td>\n",
       "      <td>Charme Listene Audrey Courreges [USER] Infirmi...</td>\n",
       "      <td>[79534]</td>\n",
       "    </tr>\n",
       "    <tr>\n",
       "      <th>11115</th>\n",
       "      <td></td>\n",
       "      <td>False information</td>\n",
       "      <td>HINCHADA DE FLAMENGO ECHÓ CAGANDO DEL ESTADIO ...</td>\n",
       "      <td>spa</td>\n",
       "      <td>1</td>\n",
       "      <td>0</td>\n",
       "      <td>0</td>\n",
       "      <td>HINCHADA DE FLAMENGO ECHÓ CAGANDO DEL ESTADIO...</td>\n",
       "      <td>[51321]</td>\n",
       "    </tr>\n",
       "    <tr>\n",
       "      <th>1584</th>\n",
       "      <td>OC Por que essa mulher ligou 18 vezes para Adé...</td>\n",
       "      <td>False information</td>\n",
       "      <td></td>\n",
       "      <td>por</td>\n",
       "      <td>1</td>\n",
       "      <td>0</td>\n",
       "      <td>0</td>\n",
       "      <td>OC Por que essa mulher ligou 18 vezes para Adé...</td>\n",
       "      <td>[86648, 86649]</td>\n",
       "    </tr>\n",
       "    <tr>\n",
       "      <th>23754</th>\n",
       "      <td></td>\n",
       "      <td>Altered photo</td>\n",
       "      <td>ڈیزل کہ چاہنے والے.... جو عالم مانتے ہیں.........</td>\n",
       "      <td>other</td>\n",
       "      <td>2</td>\n",
       "      <td>0</td>\n",
       "      <td>0</td>\n",
       "      <td>ڈیزل کہ چاہنے والے.... جو عالم مانتے ہیں........</td>\n",
       "      <td>[103821]</td>\n",
       "    </tr>\n",
       "  </tbody>\n",
       "</table>\n",
       "</div>"
      ],
      "text/plain": [
       "                                                       ocr           verdicts  \\\n",
       "post_id                                                                         \n",
       "15920    SPÉCIAL LAÏCS, OUI, FACHOS, NON! CHARLIE HEBD ...  False information   \n",
       "6242     Charme Listene Audrey Courreges [USER] Infirmi...  False information   \n",
       "11115                                                       False information   \n",
       "1584     OC Por que essa mulher ligou 18 vezes para Adé...  False information   \n",
       "23754                                                           Altered photo   \n",
       "\n",
       "                                                      text    lan  fb  tw  ig  \\\n",
       "post_id                                                                         \n",
       "15920        Os franceses fazem chacota do STF brasileiro.    por   1   0   0   \n",
       "6242                    Audrey Courreges - Infirmière... 🖖    fra   1   0   0   \n",
       "11115    HINCHADA DE FLAMENGO ECHÓ CAGANDO DEL ESTADIO ...    spa   1   0   0   \n",
       "1584                                                          por   1   0   0   \n",
       "23754    ڈیزل کہ چاہنے والے.... جو عالم مانتے ہیں.........  other   2   0   0   \n",
       "\n",
       "                                                 full_text               gs  \n",
       "post_id                                                                      \n",
       "15920    SPÉCIAL LAÏCS, OUI, FACHOS, NON! CHARLIE HEBD ...  [36894, 113671]  \n",
       "6242     Charme Listene Audrey Courreges [USER] Infirmi...          [79534]  \n",
       "11115     HINCHADA DE FLAMENGO ECHÓ CAGANDO DEL ESTADIO...          [51321]  \n",
       "1584     OC Por que essa mulher ligou 18 vezes para Adé...   [86648, 86649]  \n",
       "23754     ڈیزل کہ چاہنے والے.... جو عالم مانتے ہیں........         [103821]  "
      ]
     },
     "execution_count": 8,
     "metadata": {},
     "output_type": "execute_result"
    }
   ],
   "source": [
    "df_posts_train_xl.sample(5)"
   ]
  },
  {
   "cell_type": "code",
   "execution_count": 9,
   "metadata": {},
   "outputs": [
    {
     "name": "stdout",
     "output_type": "stream",
     "text": [
      "lan\n",
      "other    2375\n",
      "spa       787\n",
      "eng       626\n",
      "por       369\n",
      "fra       254\n",
      "msa       184\n",
      "ara       136\n",
      "tha       106\n",
      "deu        88\n",
      "            2\n",
      "Name: count, dtype: int64\n",
      "Total 4972\n",
      "Train 4479\n",
      "Dev 493\n"
     ]
    }
   ],
   "source": [
    "idx_train_xl, idxs_dev_xl = get_split_indices(df_posts_train_xl, test_size=0.1, random_state=42, stratify_by=\"lan\")"
   ]
  },
  {
   "cell_type": "code",
   "execution_count": 10,
   "metadata": {},
   "outputs": [
    {
     "data": {
      "text/plain": [
       "<Axes: >"
      ]
     },
     "execution_count": 10,
     "metadata": {},
     "output_type": "execute_result"
    },
    {
     "data": {
      "image/png": "[encoded data removed]",
      "text/plain": [
       "<Figure size 640x480 with 1 Axes>"
      ]
     },
     "metadata": {},
     "output_type": "display_data"
    }
   ],
   "source": [
    "df_posts_train_xl.loc[idx_train_xl, \"lan\"].sort_values().hist(bins=20)"
   ]
  },
  {
   "cell_type": "code",
   "execution_count": 11,
   "metadata": {},
   "outputs": [
    {
     "data": {
      "text/plain": [
       "<Axes: >"
      ]
     },
     "execution_count": 11,
     "metadata": {},
     "output_type": "execute_result"
    },
    {
     "data": {
      "image/png": "[encoded data removed]",
      "text/plain": [
       "<Figure size 640x480 with 1 Axes>"
      ]
     },
     "metadata": {},
     "output_type": "display_data"
    }
   ],
   "source": [
    "df_posts_train_xl.loc[idxs_dev_xl, \"lan\"].sort_values().hist(bins=20)"
   ]
  },
  {
   "cell_type": "markdown",
   "metadata": {},
   "source": [
    "# Index Creation"
   ]
  },
  {
   "cell_type": "code",
   "execution_count": 12,
   "metadata": {},
   "outputs": [
    {
     "name": "stderr",
     "output_type": "stream",
     "text": [
      " 12%|█▎        | 1/8 [00:01<00:13,  1.99s/it]"
     ]
    },
    {
     "name": "stdout",
     "output_type": "stream",
     "text": [
      "Total 1596\n",
      "Train 1437\n",
      "Dev 159\n"
     ]
    },
    {
     "name": "stderr",
     "output_type": "stream",
     "text": [
      " 25%|██▌       | 2/8 [00:04<00:13,  2.31s/it]"
     ]
    },
    {
     "name": "stdout",
     "output_type": "stream",
     "text": [
      "Total 5628\n",
      "Train 5070\n",
      "Dev 558\n"
     ]
    },
    {
     "name": "stderr",
     "output_type": "stream",
     "text": [
      " 38%|███▊      | 3/8 [00:06<00:10,  2.14s/it]"
     ]
    },
    {
     "name": "stdout",
     "output_type": "stream",
     "text": [
      "Total 4351\n",
      "Train 3921\n",
      "Dev 430\n"
     ]
    },
    {
     "name": "stderr",
     "output_type": "stream",
     "text": [
      " 50%|█████     | 4/8 [00:08<00:08,  2.05s/it]"
     ]
    },
    {
     "name": "stdout",
     "output_type": "stream",
     "text": [
      "Total 2571\n",
      "Train 2315\n",
      "Dev 256\n"
     ]
    },
    {
     "name": "stderr",
     "output_type": "stream",
     "text": [
      " 62%|██████▎   | 5/8 [00:10<00:05,  1.96s/it]"
     ]
    },
    {
     "name": "stdout",
     "output_type": "stream",
     "text": [
      "Total 465\n",
      "Train 418\n",
      "Dev 47\n"
     ]
    },
    {
     "name": "stderr",
     "output_type": "stream",
     "text": [
      " 75%|███████▌  | 6/8 [00:12<00:03,  1.93s/it]"
     ]
    },
    {
     "name": "stdout",
     "output_type": "stream",
     "text": [
      "Total 667\n",
      "Train 600\n",
      "Dev 67\n"
     ]
    },
    {
     "name": "stderr",
     "output_type": "stream",
     "text": [
      " 88%|████████▊ | 7/8 [00:13<00:01,  1.90s/it]"
     ]
    },
    {
     "name": "stdout",
     "output_type": "stream",
     "text": [
      "Total 1062\n",
      "Train 957\n",
      "Dev 105\n"
     ]
    },
    {
     "name": "stderr",
     "output_type": "stream",
     "text": [
      "100%|██████████| 8/8 [00:15<00:00,  1.97s/it]"
     ]
    },
    {
     "name": "stdout",
     "output_type": "stream",
     "text": [
      "Total 676\n",
      "Train 608\n",
      "Dev 68\n"
     ]
    },
    {
     "name": "stderr",
     "output_type": "stream",
     "text": [
      "\n"
     ]
    }
   ],
   "source": [
    "from tqdm import tqdm\n",
    "new_tasks_mono = posts.tasks[\"monolingual\"].copy()\n",
    "\n",
    "for lan in tqdm(new_tasks_mono.keys()):\n",
    "    posts = TextConcatPosts(posts_path, tasks_path, task_name=\"monolingual\", gs_path=gs_path, lang=lan)\n",
    "    df_posts_train = posts.df_train\n",
    "\n",
    "    idx_train, idxs_dev = get_split_indices(df_posts_train, test_size=0.1, random_state=42)\n",
    "    \n",
    "    new_tasks_mono[lan][\"posts_train\"] = idx_train\n",
    "    new_tasks_mono[lan][\"posts_dev\"] = idxs_dev"
   ]
  },
  {
   "cell_type": "code",
   "execution_count": 13,
   "metadata": {},
   "outputs": [
    {
     "name": "stdout",
     "output_type": "stream",
     "text": [
      "Total 4972\n",
      "Train 4479\n",
      "Dev 493\n"
     ]
    }
   ],
   "source": [
    "posts_xl = TextConcatPosts(posts_path, tasks_path, task_name=\"crosslingual\", gs_path=gs_path)\n",
    "df_posts_train_xl = posts_xl.df_train\n",
    "\n",
    "new_tasks_xl = posts.tasks[\"crosslingual\"].copy()\n",
    "\n",
    "posts = TextConcatPosts(posts_path, tasks_path, task_name=\"crosslingual\", gs_path=gs_path)\n",
    "df_posts_train = posts.df_train\n",
    "\n",
    "idx_train, idxs_dev = get_split_indices(df_posts_train, test_size=0.1, random_state=42)\n",
    "\n",
    "new_tasks_xl[\"posts_train\"] = idx_train\n",
    "new_tasks_xl[\"posts_dev\"] = idxs_dev"
   ]
  },
  {
   "cell_type": "code",
   "execution_count": 14,
   "metadata": {},
   "outputs": [],
   "source": [
    "new_tasks = posts.tasks.copy()\n",
    "new_tasks[\"monolingual\"] = new_tasks_mono\n",
    "new_tasks[\"crosslingual\"] = new_tasks_xl"
   ]
  },
  {
   "cell_type": "code",
   "execution_count": 15,
   "metadata": {},
   "outputs": [
    {
     "name": "stdout",
     "output_type": "stream",
     "text": [
      "fra 1437 159\n",
      "spa 5070 558\n",
      "eng 3921 430\n",
      "por 2315 256\n",
      "tha 418 47\n",
      "deu 600 67\n",
      "msa 957 105\n",
      "ara 608 68\n",
      "cross 4479 493\n"
     ]
    }
   ],
   "source": [
    "for lan in new_tasks[\"monolingual\"].keys():\n",
    "    print(lan, len(new_tasks[\"monolingual\"][lan][\"posts_train\"]), len(new_tasks[\"monolingual\"][lan][\"posts_dev\"]))\n",
    "    \n",
    "print(\"cross\", len(new_tasks[\"crosslingual\"][\"posts_train\"]), len(new_tasks[\"crosslingual\"][\"posts_dev\"]))"
   ]
  },
  {
   "cell_type": "code",
   "execution_count": 16,
   "metadata": {},
   "outputs": [
    {
     "name": "stdout",
     "output_type": "stream",
     "text": [
      "fra 1596 188 0.11779448621553884\n",
      "spa 5628 615 0.10927505330490406\n",
      "eng 4351 478 0.10985980234428867\n",
      "por 2571 302 0.11746402178140801\n",
      "tha 465 42 0.09032258064516129\n",
      "deu 667 83 0.12443778110944528\n",
      "msa 1062 105 0.09887005649717515\n",
      "ara 676 78 0.11538461538461539\n",
      "cross 4972 552\n"
     ]
    }
   ],
   "source": [
    "for lan in posts.tasks[\"monolingual\"].keys():\n",
    "    print(lan, len(posts.tasks[\"monolingual\"][lan][\"posts_train\"]), len(posts.tasks[\"monolingual\"][lan][\"posts_dev\"]), len(posts.tasks[\"monolingual\"][lan][\"posts_dev\"]) / len(posts.tasks[\"monolingual\"][lan][\"posts_train\"]))\n",
    "    \n",
    "print(\"cross\", len(posts.tasks[\"crosslingual\"][\"posts_train\"]), len(posts.tasks[\"crosslingual\"][\"posts_dev\"]))"
   ]
  },
  {
   "cell_type": "code",
   "execution_count": 17,
   "metadata": {},
   "outputs": [],
   "source": [
    "import json\n",
    "tasks_path = \"data/splits/tasks_local_dev.json\"\n",
    "\n",
    "with open(tasks_path, \"w\") as f:\n",
    "    json.dump(new_tasks, f, indent=4)"
   ]
  },
  {
   "cell_type": "markdown",
   "metadata": {},
   "source": [
    "# Check it is working"
   ]
  },
  {
   "cell_type": "code",
   "execution_count": 24,
   "metadata": {},
   "outputs": [],
   "source": [
    "from src.datasets import TextConcatPosts, Dataset\n",
    "\n",
    "tasks_path = \"data/splits/tasks_local_dev.json\" # This is the file that will be replaced in the final version with new split\n",
    "posts_path = \"data/complete_data/posts.csv\"\n",
    "fact_checks_path = \"data/complete_data/fact_checks.csv\"\n",
    "gs_path = \"data/complete_data/pairs.csv\"\n",
    "\n",
    "posts = TextConcatPosts(posts_path, tasks_path, task_name=\"crosslingual\", gs_path=gs_path)\n",
    "df_posts_train = posts.df_train\n",
    "df_posts_dev = posts.df_dev"
   ]
  },
  {
   "cell_type": "code",
   "execution_count": 25,
   "metadata": {},
   "outputs": [
    {
     "data": {
      "text/html": [
       "<div>\n",
       "<style scoped>\n",
       "    .dataframe tbody tr th:only-of-type {\n",
       "        vertical-align: middle;\n",
       "    }\n",
       "\n",
       "    .dataframe tbody tr th {\n",
       "        vertical-align: top;\n",
       "    }\n",
       "\n",
       "    .dataframe thead th {\n",
       "        text-align: right;\n",
       "    }\n",
       "</style>\n",
       "<table border=\"1\" class=\"dataframe\">\n",
       "  <thead>\n",
       "    <tr style=\"text-align: right;\">\n",
       "      <th></th>\n",
       "      <th>ocr</th>\n",
       "      <th>verdicts</th>\n",
       "      <th>text</th>\n",
       "      <th>lan</th>\n",
       "      <th>fb</th>\n",
       "      <th>tw</th>\n",
       "      <th>ig</th>\n",
       "      <th>full_text</th>\n",
       "      <th>gs</th>\n",
       "    </tr>\n",
       "    <tr>\n",
       "      <th>post_id</th>\n",
       "      <th></th>\n",
       "      <th></th>\n",
       "      <th></th>\n",
       "      <th></th>\n",
       "      <th></th>\n",
       "      <th></th>\n",
       "      <th></th>\n",
       "      <th></th>\n",
       "      <th></th>\n",
       "    </tr>\n",
       "  </thead>\n",
       "  <tbody>\n",
       "    <tr>\n",
       "      <th>3</th>\n",
       "      <td>\"Australia 50 MILLONES de dosis de \"vacuna\" re...</td>\n",
       "      <td>False</td>\n",
       "      <td></td>\n",
       "      <td>fra</td>\n",
       "      <td>0</td>\n",
       "      <td>0</td>\n",
       "      <td>1</td>\n",
       "      <td>\"Australia 50 MILLONES de dosis de \"vacuna\" re...</td>\n",
       "      <td>[50973]</td>\n",
       "    </tr>\n",
       "    <tr>\n",
       "      <th>16</th>\n",
       "      <td>\"Estrictamente y hablando con sentido, la conq...</td>\n",
       "      <td>Partly false information</td>\n",
       "      <td></td>\n",
       "      <td>spa</td>\n",
       "      <td>1</td>\n",
       "      <td>0</td>\n",
       "      <td>0</td>\n",
       "      <td>\"Estrictamente y hablando con sentido, la conq...</td>\n",
       "      <td>[38000]</td>\n",
       "    </tr>\n",
       "    <tr>\n",
       "      <th>30</th>\n",
       "      <td>\"No es necesario creer en Dios para ser una bu...</td>\n",
       "      <td>False information</td>\n",
       "      <td></td>\n",
       "      <td>spa</td>\n",
       "      <td>1</td>\n",
       "      <td>0</td>\n",
       "      <td>0</td>\n",
       "      <td>\"No es necesario creer en Dios para ser una bu...</td>\n",
       "      <td>[3857]</td>\n",
       "    </tr>\n",
       "    <tr>\n",
       "      <th>60</th>\n",
       "      <td>#Artés Presidente #Save Palestine ... [USER] M...</td>\n",
       "      <td>Partly false information</td>\n",
       "      <td></td>\n",
       "      <td>spa</td>\n",
       "      <td>1</td>\n",
       "      <td>0</td>\n",
       "      <td>0</td>\n",
       "      <td>#Artés Presidente #Save Palestine ... [USER] M...</td>\n",
       "      <td>[50802]</td>\n",
       "    </tr>\n",
       "    <tr>\n",
       "      <th>62</th>\n",
       "      <td>#CNN: Child soldiers are ok if they are to def...</td>\n",
       "      <td>Altered photo</td>\n",
       "      <td></td>\n",
       "      <td>eng</td>\n",
       "      <td>1</td>\n",
       "      <td>0</td>\n",
       "      <td>0</td>\n",
       "      <td>#CNN: Child soldiers are ok if they are to def...</td>\n",
       "      <td>[34139, 134205]</td>\n",
       "    </tr>\n",
       "  </tbody>\n",
       "</table>\n",
       "</div>"
      ],
      "text/plain": [
       "                                                       ocr  \\\n",
       "post_id                                                      \n",
       "3        \"Australia 50 MILLONES de dosis de \"vacuna\" re...   \n",
       "16       \"Estrictamente y hablando con sentido, la conq...   \n",
       "30       \"No es necesario creer en Dios para ser una bu...   \n",
       "60       #Artés Presidente #Save Palestine ... [USER] M...   \n",
       "62       #CNN: Child soldiers are ok if they are to def...   \n",
       "\n",
       "                         verdicts text  lan  fb  tw  ig  \\\n",
       "post_id                                                   \n",
       "3                           False       fra   0   0   1   \n",
       "16       Partly false information       spa   1   0   0   \n",
       "30              False information       spa   1   0   0   \n",
       "60       Partly false information       spa   1   0   0   \n",
       "62                  Altered photo       eng   1   0   0   \n",
       "\n",
       "                                                 full_text               gs  \n",
       "post_id                                                                      \n",
       "3        \"Australia 50 MILLONES de dosis de \"vacuna\" re...          [50973]  \n",
       "16       \"Estrictamente y hablando con sentido, la conq...          [38000]  \n",
       "30       \"No es necesario creer en Dios para ser una bu...           [3857]  \n",
       "60       #Artés Presidente #Save Palestine ... [USER] M...          [50802]  \n",
       "62       #CNN: Child soldiers are ok if they are to def...  [34139, 134205]  "
      ]
     },
     "execution_count": 25,
     "metadata": {},
     "output_type": "execute_result"
    }
   ],
   "source": [
    "df_posts_train.head()"
   ]
  },
  {
   "cell_type": "code",
   "execution_count": 26,
   "metadata": {},
   "outputs": [
    {
     "data": {
      "text/plain": [
       "['fra', 'spa', 'eng', 'por', 'tha', 'deu', 'msa', 'ara']"
      ]
     },
     "execution_count": 26,
     "metadata": {},
     "output_type": "execute_result"
    }
   ],
   "source": [
    "posts.langs"
   ]
  },
  {
   "cell_type": "code",
   "execution_count": 32,
   "metadata": {},
   "outputs": [
    {
     "data": {
      "image/png": "[encoded data removed]",
      "text/plain": [
       "<Figure size 1200x400 with 2 Axes>"
      ]
     },
     "metadata": {},
     "output_type": "display_data"
    }
   ],
   "source": [
    "import matplotlib.pyplot as plt\n",
    "fig, ax = plt.subplots(1, 2, figsize=(12, 4))\n",
    "\n",
    "df_posts_train[\"lan\"].sort_values().hist(bins=20, ax=ax[0])\n",
    "df_posts_dev[\"lan\"].sort_values().hist(bins=20, ax=ax[1])\n",
    "\n",
    "ax[0].set_title(\"Train\")\n",
    "ax[1].set_title(\"Dev\")\n",
    "\n",
    "fig.suptitle(\"Language distribution\")\n",
    "fig.tight_layout()\n"
   ]
  },
  {
   "cell_type": "code",
   "execution_count": 22,
   "metadata": {},
   "outputs": [
    {
     "data": {
      "text/html": [
       "<div>\n",
       "<style scoped>\n",
       "    .dataframe tbody tr th:only-of-type {\n",
       "        vertical-align: middle;\n",
       "    }\n",
       "\n",
       "    .dataframe tbody tr th {\n",
       "        vertical-align: top;\n",
       "    }\n",
       "\n",
       "    .dataframe thead th {\n",
       "        text-align: right;\n",
       "    }\n",
       "</style>\n",
       "<table border=\"1\" class=\"dataframe\">\n",
       "  <thead>\n",
       "    <tr style=\"text-align: right;\">\n",
       "      <th></th>\n",
       "      <th>post_id</th>\n",
       "      <th>instances</th>\n",
       "      <th>ocr</th>\n",
       "      <th>verdicts</th>\n",
       "      <th>text</th>\n",
       "    </tr>\n",
       "  </thead>\n",
       "  <tbody>\n",
       "    <tr>\n",
       "      <th>0</th>\n",
       "      <td>0</td>\n",
       "      <td>[(1608571882.0, fb)]</td>\n",
       "      <td>[(! Dreister Impf-Fake von Markus Söder! Es is...</td>\n",
       "      <td>['False information']</td>\n",
       "      <td></td>\n",
       "    </tr>\n",
       "    <tr>\n",
       "      <th>1</th>\n",
       "      <td>1</td>\n",
       "      <td>[(1586139153.0, fb)]</td>\n",
       "      <td>[(!! WARNING !! A new thing circulating now. P...</td>\n",
       "      <td>['False information']</td>\n",
       "      <td></td>\n",
       "    </tr>\n",
       "    <tr>\n",
       "      <th>2</th>\n",
       "      <td>2</td>\n",
       "      <td>[(1610052141.0, fb), (1610072448.0, fb)]</td>\n",
       "      <td>[(\"Actually, he's a damn sight better than any...</td>\n",
       "      <td>['Missing context']</td>\n",
       "      <td></td>\n",
       "    </tr>\n",
       "    <tr>\n",
       "      <th>3</th>\n",
       "      <td>3</td>\n",
       "      <td>[(1645187790.0, ig)]</td>\n",
       "      <td>[(\"Australia 50 MILLONES de dosis de \"vacuna\" ...</td>\n",
       "      <td>['False']</td>\n",
       "      <td></td>\n",
       "    </tr>\n",
       "    <tr>\n",
       "      <th>4</th>\n",
       "      <td>4</td>\n",
       "      <td>[(1581697500.0, fb)]</td>\n",
       "      <td>[(\"Bienaventurados los perseguidos por mi caus...</td>\n",
       "      <td>[]</td>\n",
       "      <td></td>\n",
       "    </tr>\n",
       "  </tbody>\n",
       "</table>\n",
       "</div>"
      ],
      "text/plain": [
       "   post_id                                 instances  \\\n",
       "0        0                      [(1608571882.0, fb)]   \n",
       "1        1                      [(1586139153.0, fb)]   \n",
       "2        2  [(1610052141.0, fb), (1610072448.0, fb)]   \n",
       "3        3                      [(1645187790.0, ig)]   \n",
       "4        4                      [(1581697500.0, fb)]   \n",
       "\n",
       "                                                 ocr               verdicts  \\\n",
       "0  [(! Dreister Impf-Fake von Markus Söder! Es is...  ['False information']   \n",
       "1  [(!! WARNING !! A new thing circulating now. P...  ['False information']   \n",
       "2  [(\"Actually, he's a damn sight better than any...    ['Missing context']   \n",
       "3  [(\"Australia 50 MILLONES de dosis de \"vacuna\" ...              ['False']   \n",
       "4  [(\"Bienaventurados los perseguidos por mi caus...                     []   \n",
       "\n",
       "  text  \n",
       "0       \n",
       "1       \n",
       "2       \n",
       "3       \n",
       "4       "
      ]
     },
     "execution_count": 22,
     "metadata": {},
     "output_type": "execute_result"
    }
   ],
   "source": [
    "\n",
    "ds = Dataset(posts_path, tasks_path, task_name=\"crosslingual\")\n",
    "ds.df.head()"
   ]
  },
  {
   "cell_type": "code",
   "execution_count": 23,
   "metadata": {},
   "outputs": [
    {
     "data": {
      "text/plain": [
       "0        deu\n",
       "1        eng\n",
       "2        eng\n",
       "3        fra\n",
       "4        spa\n",
       "        ... \n",
       "24426       \n",
       "24427    eng\n",
       "24428       \n",
       "24429    eng\n",
       "24430    kor\n",
       "Name: ocr, Length: 24431, dtype: object"
      ]
     },
     "execution_count": 23,
     "metadata": {},
     "output_type": "execute_result"
    }
   ],
   "source": [
    "ds.df[\"ocr\"].apply(lambda x: x[0][-1][0][0] if (isinstance(x, list)&len(x)>0) else \"\")"
   ]
  },
  {
   "cell_type": "code",
   "execution_count": null,
   "metadata": {},
   "outputs": [],
   "source": []
  }
 ],
 "metadata": {
  "kernelspec": {
   "display_name": "factcheck",
   "language": "python",
   "name": "python3"
  },
  "language_info": {
   "codemirror_mode": {
    "name": "ipython",
    "version": 3
   },
   "file_extension": ".py",
   "mimetype": "text/x-python",
   "name": "python",
   "nbconvert_exporter": "python",
   "pygments_lexer": "ipython3",
   "version": "3.10.15"
  }
 },
 "nbformat": 4,
 "nbformat_minor": 2
}
