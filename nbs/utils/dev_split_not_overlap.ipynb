{
 "cells": [
  {
   "cell_type": "markdown",
   "metadata": {},
   "source": [
    "# Split in Local Development"
   ]
  },
  {
   "cell_type": "markdown",
   "metadata": {},
   "source": [
    "In the first phase of the competition there is a development test which is used as first test in CodaBench. In this notebook we are going to split the training set again, generating a new development set.\n",
    "\n",
    "Different strategies may be followed:\n",
    "- Random split: Just getting, for example, 10% of the training set as development set.\n",
    "- Avoid overlapping between train gold standard and development gold standard\n",
    "- Avoid posts overlapping between train and development\n"
   ]
  },
  {
   "cell_type": "markdown",
   "metadata": {},
   "source": [
    "## Monolingual Task Split"
   ]
  },
  {
   "cell_type": "markdown",
   "metadata": {},
   "source": [
    "Logically, it will be done in the same way for all languages."
   ]
  },
  {
   "cell_type": "code",
   "execution_count": 1,
   "metadata": {},
   "outputs": [],
   "source": [
    "from src.datasets import TextConcatPosts, Dataset\n",
    "\n",
    "tasks_path = \"data/complete_data/tasks.json\" # This is the file that will be replaced in the final version with new split\n",
    "posts_path = \"data/complete_data/posts.csv\"\n",
    "fact_checks_path = \"data/complete_data/fact_checks.csv\"\n",
    "gs_path = \"data/complete_data/pairs.csv\"\n",
    "\n",
    "posts = TextConcatPosts(posts_path, tasks_path, task_name=\"monolingual\", gs_path=gs_path)\n",
    "# fact_checks = BaseFactCheckDataset(fact_checks_path, tasks_path, task_name=\"monolingual\")\n",
    "\n",
    "# df_fc = fact_checks.df\n",
    "df_posts_train = posts.df_train"
   ]
  },
  {
   "cell_type": "markdown",
   "metadata": {},
   "source": [
    "## Duplicated Values"
   ]
  },
  {
   "cell_type": "markdown",
   "metadata": {},
   "source": [
    "It would be very easy for the model to predict the fact checking label of a post if it has already seen it in the training set. Therefore, we should avoid having the same post in both the training and development sets.\n",
    "\n",
    "This task is not completely straightforward, as we have to take into account that the same post can be written in slightly different ways. For example with different amount of spaces, emojis, caps, etc.\n",
    "\n",
    "Possibilities:\n",
    "- `text`is empty but there is `ocr`: Check duplicates in `full_text`\n",
    "- `text` is not empty and duplicated but `ocr` is not: not duplicated\n",
    "\n",
    "Duplicated = same `full_text` (OCR + text)"
   ]
  },
  {
   "cell_type": "code",
   "execution_count": 2,
   "metadata": {},
   "outputs": [],
   "source": [
    "full_text_dup = df_posts_train.duplicated(subset=[\"full_text\"], keep=False)#& (df_posts_train.full_text != \"\")\n",
    "text_dup = df_posts_train.duplicated(subset=[\"text\"], keep=False) & (df_posts_train.text != \"\")"
   ]
  },
  {
   "cell_type": "code",
   "execution_count": 3,
   "metadata": {},
   "outputs": [
    {
     "name": "stdout",
     "output_type": "stream",
     "text": [
      "[OCR + Text] total duplicates 27 (0.006205470006894967)\n",
      "[Text] total duplicates 60 (0.01576872536136662)\n"
     ]
    },
    {
     "data": {
      "text/html": [
       "<div>\n",
       "<style scoped>\n",
       "    .dataframe tbody tr th:only-of-type {\n",
       "        vertical-align: middle;\n",
       "    }\n",
       "\n",
       "    .dataframe tbody tr th {\n",
       "        vertical-align: top;\n",
       "    }\n",
       "\n",
       "    .dataframe thead th {\n",
       "        text-align: right;\n",
       "    }\n",
       "</style>\n",
       "<table border=\"1\" class=\"dataframe\">\n",
       "  <thead>\n",
       "    <tr style=\"text-align: right;\">\n",
       "      <th></th>\n",
       "      <th>ocr</th>\n",
       "      <th>verdicts</th>\n",
       "      <th>text</th>\n",
       "      <th>lan</th>\n",
       "      <th>fb</th>\n",
       "      <th>tw</th>\n",
       "      <th>ig</th>\n",
       "      <th>full_text</th>\n",
       "      <th>gs</th>\n",
       "    </tr>\n",
       "    <tr>\n",
       "      <th>post_id</th>\n",
       "      <th></th>\n",
       "      <th></th>\n",
       "      <th></th>\n",
       "      <th></th>\n",
       "      <th></th>\n",
       "      <th></th>\n",
       "      <th></th>\n",
       "      <th></th>\n",
       "      <th></th>\n",
       "    </tr>\n",
       "  </thead>\n",
       "  <tbody>\n",
       "    <tr>\n",
       "      <th>4809</th>\n",
       "      <td></td>\n",
       "      <td>False information</td>\n",
       "      <td>A 40-ton truck lifted by 2,000 drones [URL]</td>\n",
       "      <td>eng</td>\n",
       "      <td>1</td>\n",
       "      <td>0</td>\n",
       "      <td>0</td>\n",
       "      <td>A 40-ton truck lifted by 2,000 drones [URL]</td>\n",
       "      <td>[132558]</td>\n",
       "    </tr>\n",
       "    <tr>\n",
       "      <th>4810</th>\n",
       "      <td></td>\n",
       "      <td></td>\n",
       "      <td>A 40-ton truck lifted by 2,000 drones [URL]</td>\n",
       "      <td>eng</td>\n",
       "      <td>0</td>\n",
       "      <td>1</td>\n",
       "      <td>0</td>\n",
       "      <td>A 40-ton truck lifted by 2,000 drones [URL]</td>\n",
       "      <td>[132558]</td>\n",
       "    </tr>\n",
       "    <tr>\n",
       "      <th>6945</th>\n",
       "      <td></td>\n",
       "      <td>False information.</td>\n",
       "      <td>Breaking News: Trump Rejects New Arms Deal wit...</td>\n",
       "      <td>eng</td>\n",
       "      <td>2</td>\n",
       "      <td>0</td>\n",
       "      <td>0</td>\n",
       "      <td>Breaking News: Trump Rejects New Arms Deal wi...</td>\n",
       "      <td>[133966]</td>\n",
       "    </tr>\n",
       "    <tr>\n",
       "      <th>6946</th>\n",
       "      <td></td>\n",
       "      <td></td>\n",
       "      <td>Breaking News: Trump Rejects New Arms Deal wit...</td>\n",
       "      <td>eng</td>\n",
       "      <td>1</td>\n",
       "      <td>0</td>\n",
       "      <td>0</td>\n",
       "      <td>Breaking News: Trump Rejects New Arms Deal wi...</td>\n",
       "      <td>[133966]</td>\n",
       "    </tr>\n",
       "  </tbody>\n",
       "</table>\n",
       "</div>"
      ],
      "text/plain": [
       "        ocr            verdicts  \\\n",
       "post_id                           \n",
       "4809          False information   \n",
       "4810                              \n",
       "6945         False information.   \n",
       "6946                              \n",
       "\n",
       "                                                      text  lan  fb  tw  ig  \\\n",
       "post_id                                                                       \n",
       "4809           A 40-ton truck lifted by 2,000 drones [URL]  eng   1   0   0   \n",
       "4810           A 40-ton truck lifted by 2,000 drones [URL]  eng   0   1   0   \n",
       "6945     Breaking News: Trump Rejects New Arms Deal wit...  eng   2   0   0   \n",
       "6946     Breaking News: Trump Rejects New Arms Deal wit...  eng   1   0   0   \n",
       "\n",
       "                                                 full_text        gs  \n",
       "post_id                                                               \n",
       "4809           A 40-ton truck lifted by 2,000 drones [URL]  [132558]  \n",
       "4810           A 40-ton truck lifted by 2,000 drones [URL]  [132558]  \n",
       "6945      Breaking News: Trump Rejects New Arms Deal wi...  [133966]  \n",
       "6946      Breaking News: Trump Rejects New Arms Deal wi...  [133966]  "
      ]
     },
     "execution_count": 3,
     "metadata": {},
     "output_type": "execute_result"
    }
   ],
   "source": [
    "print(\"[OCR + Text] total duplicates\", df_posts_train[\"full_text\"].duplicated().sum(), f\"({df_posts_train['full_text'].duplicated().mean()})\")\n",
    "print(\"[Text] total duplicates\", df_posts_train.loc[df_posts_train.text != '', 'text'].duplicated().sum(), f\"({df_posts_train.loc[df_posts_train.text != '', 'text'].duplicated().mean()})\")\n",
    "df_posts_train[full_text_dup].sort_values(\"full_text\").head(4)"
   ]
  },
  {
   "cell_type": "markdown",
   "metadata": {},
   "source": [
    "## Effective indices"
   ]
  },
  {
   "cell_type": "code",
   "execution_count": 4,
   "metadata": {},
   "outputs": [
    {
     "name": "stdout",
     "output_type": "stream",
     "text": [
      "|   post_id | gs                        |\n",
      "|----------:|:--------------------------|\n",
      "|       166 | [48051, 102767]           |\n",
      "|       222 | [84288, 131936]           |\n",
      "|       231 | [4437, 41013]             |\n",
      "|       259 | [23791, 23795]            |\n",
      "|       286 | [86695, 97629]            |\n",
      "|       294 | [433, 1501, 47014, 47042] |\n",
      "|       311 | [56129, 149207]           |\n",
      "|       319 | [105482, 134630]          |\n",
      "|       320 | [34240, 34246]            |\n",
      "|       372 | [97170, 155277]           |\n"
     ]
    }
   ],
   "source": [
    "print(df_posts_train[df_posts_train.gs.apply(len)>1][[\"gs\"]].head(10).to_markdown())"
   ]
  },
  {
   "cell_type": "code",
   "execution_count": 5,
   "metadata": {},
   "outputs": [],
   "source": [
    "from sklearn.model_selection import train_test_split\n",
    "# Step 1: Flatten the gs column to get all unique gs codes\n",
    "all_gs = set([item for sublist in df_posts_train['gs'] for item in sublist])\n",
    "\n",
    "# Step 2: Split these unique gs codes into train and test\n",
    "gs_train, gs_test = train_test_split(list(all_gs), test_size=0.1, random_state=42)\n",
    "\n",
    "# Step 3: Create train and test DataFrames by checking if any element in `gs` is in gs_train or gs_test\n",
    "train_df = df_posts_train[df_posts_train['gs'].apply(lambda x: any(item in gs_train for item in x))]\n",
    "test_df = df_posts_train[df_posts_train['gs'].apply(lambda x: any(item in gs_test for item in x))]\n"
   ]
  },
  {
   "cell_type": "code",
   "execution_count": 6,
   "metadata": {},
   "outputs": [
    {
     "data": {
      "text/plain": [
       "((3982, 9), (534, 9), 0.1341034655951783)"
      ]
     },
     "execution_count": 6,
     "metadata": {},
     "output_type": "execute_result"
    }
   ],
   "source": [
    "train_df.shape, test_df.shape, test_df.shape[0] / train_df.shape[0]"
   ]
  },
  {
   "cell_type": "code",
   "execution_count": 7,
   "metadata": {},
   "outputs": [],
   "source": [
    "gs_list = df_posts_train.explode(\"gs\").gs.tolist()"
   ]
  },
  {
   "cell_type": "code",
   "execution_count": 8,
   "metadata": {},
   "outputs": [],
   "source": [
    "# remove from index\n"
   ]
  },
  {
   "cell_type": "code",
   "execution_count": 9,
   "metadata": {},
   "outputs": [],
   "source": [
    "def get_split_indices(df, test_size=0.1, random_state=42, stratify_by=None):\n",
    "    \n",
    "    dup_criteria = df.duplicated(subset=[\"full_text\"], keep=False)#& (df_posts_train.full_text != \"\")\n",
    "\n",
    "    df_dups = df[dup_criteria].copy()\n",
    "    df_not_dups = df[~dup_criteria].copy()\n",
    "    # df_not_dups = df.copy()\n",
    "\n",
    "    # idxs_dev = df_not_dups.sample(frac=test_size, random_state=random_state).index\n",
    "\n",
    "    # idx_train = df_not_dups.index.difference(idxs_dev).union(df_dups.index)\n",
    "    \n",
    "    from sklearn.model_selection import train_test_split\n",
    "    # idx_train, idxs_dev = train_test_split(df_not_dups.index, test_size=test_size, random_state=random_state)\n",
    "    \n",
    "    # Step 1: Flatten the gs column to get all unique gs codes\n",
    "    all_gs = set([item for sublist in df_not_dups['gs'] for item in sublist])\n",
    "    # Step 2: Split these unique gs codes into train and test\n",
    "    gs_train, gs_dev = train_test_split(list(all_gs), test_size=test_size, random_state=random_state)\n",
    "\n",
    "    gs_dups = set([item for sublist in df_dups['gs'] for item in sublist])\n",
    "    gs_train = set(gs_train).union(gs_dups)\n",
    "    gs_train, gs_dev = list(gs_train), list(gs_dev)\n",
    "    \n",
    "    \n",
    "    # Step 3: Create train and test DataFrames by checking if any element in `gs` is in gs_train or gs_test\n",
    "    mask_in_train = df['gs'].apply(lambda x: any(item in gs_train for item in x))\n",
    "    # mask_in_dups = df_dups['gs'].apply(lambda x: any(item in gs_train for item in x))\n",
    "    mask_in_dev = df['gs'].apply(lambda x: any(item in gs_dev for item in x))\n",
    "    mask_in_both = mask_in_train & mask_in_dev\n",
    "    \n",
    "    idx_train = df[mask_in_train].index\n",
    "    idx_train_exclusive = df[mask_in_train&(~mask_in_dev)].index\n",
    "    idx_dev = df[mask_in_dev].index\n",
    "    idx_dev_exclusive = df[mask_in_dev&(~mask_in_train)].index\n",
    "    \n",
    "    idx_both = df[mask_in_both]\n",
    "    \n",
    "    \n",
    "    # idxs_dev_not_over = df_not_dups[mask_in_dev&(~mask_in_train)].index\n",
    "    # idxs_dev_over = df_not_dups[mask_in_dev].index\n",
    "    # idxs_dev_intersec = df_not_dups[mask_in_dev&mask_in_train].index\n",
    "    \n",
    "    # idx_train = idx_train.union(df_dups.index)\n",
    "    \n",
    "    print(\"Total\", len(df))\n",
    "    print(\"Train\", len(idx_train))\n",
    "    # print(\"Train (No Overlap)\", len(idx_train_exclusive))\n",
    "    # print(\"Dev\", len(idx_dev))\n",
    "    print(\"Dev (No Overlap)\", len(idx_dev_exclusive))\n",
    "    print(\"Sum\", len(idx_train) + len(idx_dev_exclusive))\n",
    "\n",
    "    # print(\"Dev (Intersection)\", len(idx_both))\n",
    "\n",
    "    assert len(df) == len(idx_train) + len(idx_dev_exclusive)\n",
    "\n",
    "    return idx_train.tolist(), idx_dev_exclusive.tolist()"
   ]
  },
  {
   "cell_type": "code",
   "execution_count": 10,
   "metadata": {},
   "outputs": [
    {
     "name": "stdout",
     "output_type": "stream",
     "text": [
      "Total 4351\n",
      "Train 4012\n",
      "Dev (No Overlap) 339\n",
      "Sum 4351\n"
     ]
    }
   ],
   "source": [
    "idx_train, idxs_dev = get_split_indices(df_posts_train, test_size=0.1, random_state=42)"
   ]
  },
  {
   "cell_type": "code",
   "execution_count": 11,
   "metadata": {},
   "outputs": [
    {
     "data": {
      "text/plain": [
       "4351"
      ]
     },
     "execution_count": 11,
     "metadata": {},
     "output_type": "execute_result"
    }
   ],
   "source": [
    "len(df_posts_train)"
   ]
  },
  {
   "cell_type": "code",
   "execution_count": 12,
   "metadata": {},
   "outputs": [
    {
     "data": {
      "text/plain": [
       "(4012, 339)"
      ]
     },
     "execution_count": 12,
     "metadata": {},
     "output_type": "execute_result"
    }
   ],
   "source": [
    "len(idx_train), len(idxs_dev)"
   ]
  },
  {
   "cell_type": "code",
   "execution_count": 13,
   "metadata": {},
   "outputs": [
    {
     "data": {
      "text/plain": [
       "0.10985980234428867"
      ]
     },
     "execution_count": 13,
     "metadata": {},
     "output_type": "execute_result"
    }
   ],
   "source": [
    "posts.df_dev.shape[0] / df_posts_train.shape[0]"
   ]
  },
  {
   "cell_type": "code",
   "execution_count": 14,
   "metadata": {},
   "outputs": [
    {
     "data": {
      "text/plain": [
       "(4012, 339, 4351, 4351, 0.08449651046859422)"
      ]
     },
     "execution_count": 14,
     "metadata": {},
     "output_type": "execute_result"
    }
   ],
   "source": [
    "len(idx_train), len(idxs_dev), len(idx_train) + len(idxs_dev), len(df_posts_train), len(idxs_dev) / len(idx_train)"
   ]
  },
  {
   "cell_type": "markdown",
   "metadata": {},
   "source": [
    "# Cross-lingual Task Split"
   ]
  },
  {
   "cell_type": "markdown",
   "metadata": {},
   "source": [
    "In this case, it could happen that there is literally the same post in two different languages. In this case, we should avoid having the same post in both the training and development sets. For that, some scores of parallelism between the posts in different languages could be calculated.\n",
    "\n",
    "Also, and more important, it is possible that there is more imbalance in the training set for some languages than for others. In this case, we should take into account the language when splitting the training set, stratifying by language."
   ]
  },
  {
   "cell_type": "code",
   "execution_count": 15,
   "metadata": {},
   "outputs": [],
   "source": [
    "posts_xl = TextConcatPosts(posts_path, tasks_path, task_name=\"crosslingual\", gs_path=gs_path)\n",
    "# fact_checks = BaseFactCheckDataset(fact_checks_path, tasks_path, task_name=\"monolingual\")\n",
    "\n",
    "# df_fc = fact_checks.df\n",
    "df_posts_train_xl = posts_xl.df_train"
   ]
  },
  {
   "cell_type": "code",
   "execution_count": 16,
   "metadata": {},
   "outputs": [
    {
     "data": {
      "text/html": [
       "<div>\n",
       "<style scoped>\n",
       "    .dataframe tbody tr th:only-of-type {\n",
       "        vertical-align: middle;\n",
       "    }\n",
       "\n",
       "    .dataframe tbody tr th {\n",
       "        vertical-align: top;\n",
       "    }\n",
       "\n",
       "    .dataframe thead th {\n",
       "        text-align: right;\n",
       "    }\n",
       "</style>\n",
       "<table border=\"1\" class=\"dataframe\">\n",
       "  <thead>\n",
       "    <tr style=\"text-align: right;\">\n",
       "      <th></th>\n",
       "      <th>ocr</th>\n",
       "      <th>verdicts</th>\n",
       "      <th>text</th>\n",
       "      <th>lan</th>\n",
       "      <th>fb</th>\n",
       "      <th>tw</th>\n",
       "      <th>ig</th>\n",
       "      <th>full_text</th>\n",
       "      <th>gs</th>\n",
       "    </tr>\n",
       "    <tr>\n",
       "      <th>post_id</th>\n",
       "      <th></th>\n",
       "      <th></th>\n",
       "      <th></th>\n",
       "      <th></th>\n",
       "      <th></th>\n",
       "      <th></th>\n",
       "      <th></th>\n",
       "      <th></th>\n",
       "      <th></th>\n",
       "    </tr>\n",
       "  </thead>\n",
       "  <tbody>\n",
       "    <tr>\n",
       "      <th>9120</th>\n",
       "      <td></td>\n",
       "      <td>False information</td>\n",
       "      <td>Eeeeh seigneur, piégé jusqu’au coup par la Fra...</td>\n",
       "      <td>fra</td>\n",
       "      <td>1</td>\n",
       "      <td>0</td>\n",
       "      <td>0</td>\n",
       "      <td>Eeeeh seigneur, piégé jusqu’au coup par la Fr...</td>\n",
       "      <td>[36713]</td>\n",
       "    </tr>\n",
       "    <tr>\n",
       "      <th>6765</th>\n",
       "      <td>Menü Bild Ukraine-Krise FEURIGER HASS ZERSTÖRT...</td>\n",
       "      <td>False information</td>\n",
       "      <td>Bild: Refugiados ucranianos en Alemania, mient...</td>\n",
       "      <td>spa</td>\n",
       "      <td>1</td>\n",
       "      <td>0</td>\n",
       "      <td>0</td>\n",
       "      <td>Menü Bild Ukraine-Krise FEURIGER HASS ZERSTÖRT...</td>\n",
       "      <td>[95194, 112947, 112948, 112951, 137252]</td>\n",
       "    </tr>\n",
       "    <tr>\n",
       "      <th>23112</th>\n",
       "      <td></td>\n",
       "      <td>False information</td>\n",
       "      <td>بعد حرق واتلاف القران الكريم ومنع المسلمين من ...</td>\n",
       "      <td>ara</td>\n",
       "      <td>1</td>\n",
       "      <td>0</td>\n",
       "      <td>0</td>\n",
       "      <td>بعد حرق واتلاف القران الكريم ومنع المسلمين من...</td>\n",
       "      <td>[167738]</td>\n",
       "    </tr>\n",
       "    <tr>\n",
       "      <th>11570</th>\n",
       "      <td>Rodrigo Constantino [USER] . 1 h Entenderam po...</td>\n",
       "      <td>Partly false information</td>\n",
       "      <td>Há 30 anos, a previsão dos \"cientistas da ONU\"...</td>\n",
       "      <td>por</td>\n",
       "      <td>1</td>\n",
       "      <td>0</td>\n",
       "      <td>0</td>\n",
       "      <td>Rodrigo Constantino [USER] . 1 h Entenderam po...</td>\n",
       "      <td>[23547]</td>\n",
       "    </tr>\n",
       "    <tr>\n",
       "      <th>23119</th>\n",
       "      <td>AANGA NARRRRRRRRRRRRRRR AANANENANE NA NION VAN...</td>\n",
       "      <td>False information</td>\n",
       "      <td>بلاغ لمحافظ الإسكندرية ولوزير الثقافة ولوزير ا...</td>\n",
       "      <td>ara</td>\n",
       "      <td>1</td>\n",
       "      <td>0</td>\n",
       "      <td>0</td>\n",
       "      <td>AANGA NARRRRRRRRRRRRRRR AANANENANE NA NION VAN...</td>\n",
       "      <td>[165760]</td>\n",
       "    </tr>\n",
       "  </tbody>\n",
       "</table>\n",
       "</div>"
      ],
      "text/plain": [
       "                                                       ocr  \\\n",
       "post_id                                                      \n",
       "9120                                                         \n",
       "6765     Menü Bild Ukraine-Krise FEURIGER HASS ZERSTÖRT...   \n",
       "23112                                                        \n",
       "11570    Rodrigo Constantino [USER] . 1 h Entenderam po...   \n",
       "23119    AANGA NARRRRRRRRRRRRRRR AANANENANE NA NION VAN...   \n",
       "\n",
       "                         verdicts  \\\n",
       "post_id                             \n",
       "9120            False information   \n",
       "6765            False information   \n",
       "23112           False information   \n",
       "11570    Partly false information   \n",
       "23119           False information   \n",
       "\n",
       "                                                      text  lan  fb  tw  ig  \\\n",
       "post_id                                                                       \n",
       "9120     Eeeeh seigneur, piégé jusqu’au coup par la Fra...  fra   1   0   0   \n",
       "6765     Bild: Refugiados ucranianos en Alemania, mient...  spa   1   0   0   \n",
       "23112    بعد حرق واتلاف القران الكريم ومنع المسلمين من ...  ara   1   0   0   \n",
       "11570    Há 30 anos, a previsão dos \"cientistas da ONU\"...  por   1   0   0   \n",
       "23119    بلاغ لمحافظ الإسكندرية ولوزير الثقافة ولوزير ا...  ara   1   0   0   \n",
       "\n",
       "                                                 full_text  \\\n",
       "post_id                                                      \n",
       "9120      Eeeeh seigneur, piégé jusqu’au coup par la Fr...   \n",
       "6765     Menü Bild Ukraine-Krise FEURIGER HASS ZERSTÖRT...   \n",
       "23112     بعد حرق واتلاف القران الكريم ومنع المسلمين من...   \n",
       "11570    Rodrigo Constantino [USER] . 1 h Entenderam po...   \n",
       "23119    AANGA NARRRRRRRRRRRRRRR AANANENANE NA NION VAN...   \n",
       "\n",
       "                                              gs  \n",
       "post_id                                           \n",
       "9120                                     [36713]  \n",
       "6765     [95194, 112947, 112948, 112951, 137252]  \n",
       "23112                                   [167738]  \n",
       "11570                                    [23547]  \n",
       "23119                                   [165760]  "
      ]
     },
     "execution_count": 16,
     "metadata": {},
     "output_type": "execute_result"
    }
   ],
   "source": [
    "df_posts_train_xl.sample(5)"
   ]
  },
  {
   "cell_type": "code",
   "execution_count": 17,
   "metadata": {},
   "outputs": [
    {
     "name": "stdout",
     "output_type": "stream",
     "text": [
      "Total 4972\n",
      "Train 4587\n",
      "Dev (No Overlap) 385\n",
      "Sum 4972\n"
     ]
    }
   ],
   "source": [
    "idx_train_xl, idxs_dev_xl = get_split_indices(df_posts_train_xl, test_size=0.1, random_state=42, stratify_by=\"lan\")"
   ]
  },
  {
   "cell_type": "code",
   "execution_count": 18,
   "metadata": {},
   "outputs": [
    {
     "data": {
      "text/plain": [
       "<Axes: >"
      ]
     },
     "execution_count": 18,
     "metadata": {},
     "output_type": "execute_result"
    },
    {
     "data": {
      "image/png": "[encoded data removed]",
      "text/plain": [
       "<Figure size 640x480 with 1 Axes>"
      ]
     },
     "metadata": {},
     "output_type": "display_data"
    }
   ],
   "source": [
    "df_posts_train_xl.loc[idx_train_xl, \"lan\"].sort_values().hist(bins=20)"
   ]
  },
  {
   "cell_type": "code",
   "execution_count": 19,
   "metadata": {},
   "outputs": [
    {
     "data": {
      "text/plain": [
       "<Axes: >"
      ]
     },
     "execution_count": 19,
     "metadata": {},
     "output_type": "execute_result"
    },
    {
     "data": {
      "image/png": "[encoded data removed]",
      "text/plain": [
       "<Figure size 640x480 with 1 Axes>"
      ]
     },
     "metadata": {},
     "output_type": "display_data"
    }
   ],
   "source": [
    "df_posts_train_xl.loc[idxs_dev_xl, \"lan\"].sort_values().hist(bins=20)"
   ]
  },
  {
   "cell_type": "markdown",
   "metadata": {},
   "source": [
    "# Index Creation"
   ]
  },
  {
   "cell_type": "code",
   "execution_count": 20,
   "metadata": {},
   "outputs": [
    {
     "name": "stderr",
     "output_type": "stream",
     "text": [
      " 12%|█▎        | 1/8 [00:01<00:12,  1.79s/it]"
     ]
    },
    {
     "name": "stdout",
     "output_type": "stream",
     "text": [
      "Total 1596\n",
      "Train 1443\n",
      "Dev (No Overlap) 153\n",
      "Sum 1596\n"
     ]
    },
    {
     "name": "stderr",
     "output_type": "stream",
     "text": [
      " 25%|██▌       | 2/8 [00:03<00:11,  1.86s/it]"
     ]
    },
    {
     "name": "stdout",
     "output_type": "stream",
     "text": [
      "Total 5628\n",
      "Train 5122\n",
      "Dev (No Overlap) 506\n",
      "Sum 5628\n"
     ]
    },
    {
     "name": "stderr",
     "output_type": "stream",
     "text": [
      " 38%|███▊      | 3/8 [00:05<00:09,  1.86s/it]"
     ]
    },
    {
     "name": "stdout",
     "output_type": "stream",
     "text": [
      "Total 4351\n",
      "Train 4012\n",
      "Dev (No Overlap) 339\n",
      "Sum 4351\n"
     ]
    },
    {
     "name": "stderr",
     "output_type": "stream",
     "text": [
      " 50%|█████     | 4/8 [00:07<00:07,  1.87s/it]"
     ]
    },
    {
     "name": "stdout",
     "output_type": "stream",
     "text": [
      "Total 2571\n",
      "Train 2405\n",
      "Dev (No Overlap) 166\n",
      "Sum 2571\n"
     ]
    },
    {
     "name": "stderr",
     "output_type": "stream",
     "text": [
      " 62%|██████▎   | 5/8 [00:09<00:05,  1.85s/it]"
     ]
    },
    {
     "name": "stdout",
     "output_type": "stream",
     "text": [
      "Total 465\n",
      "Train 418\n",
      "Dev (No Overlap) 47\n",
      "Sum 465\n"
     ]
    },
    {
     "name": "stderr",
     "output_type": "stream",
     "text": [
      " 75%|███████▌  | 6/8 [00:11<00:03,  1.87s/it]"
     ]
    },
    {
     "name": "stdout",
     "output_type": "stream",
     "text": [
      "Total 667\n",
      "Train 606\n",
      "Dev (No Overlap) 61\n",
      "Sum 667\n"
     ]
    },
    {
     "name": "stderr",
     "output_type": "stream",
     "text": [
      " 88%|████████▊ | 7/8 [00:12<00:01,  1.85s/it]"
     ]
    },
    {
     "name": "stdout",
     "output_type": "stream",
     "text": [
      "Total 1062\n",
      "Train 964\n",
      "Dev (No Overlap) 98\n",
      "Sum 1062\n"
     ]
    },
    {
     "name": "stderr",
     "output_type": "stream",
     "text": [
      "100%|██████████| 8/8 [00:14<00:00,  1.85s/it]"
     ]
    },
    {
     "name": "stdout",
     "output_type": "stream",
     "text": [
      "Total 676\n",
      "Train 611\n",
      "Dev (No Overlap) 65\n",
      "Sum 676\n"
     ]
    },
    {
     "name": "stderr",
     "output_type": "stream",
     "text": [
      "\n"
     ]
    }
   ],
   "source": [
    "from tqdm import tqdm\n",
    "new_tasks_mono = posts.tasks[\"monolingual\"].copy()\n",
    "\n",
    "for lan in tqdm(new_tasks_mono.keys()):\n",
    "    posts = TextConcatPosts(posts_path, tasks_path, task_name=\"monolingual\", gs_path=gs_path, lang=lan)\n",
    "    df_posts_train = posts.df_train\n",
    "\n",
    "    idx_train, idxs_dev = get_split_indices(df_posts_train, test_size=0.1, random_state=42)\n",
    "    \n",
    "    new_tasks_mono[lan][\"posts_train\"] = idx_train\n",
    "    new_tasks_mono[lan][\"posts_dev\"] = idxs_dev"
   ]
  },
  {
   "cell_type": "code",
   "execution_count": 21,
   "metadata": {},
   "outputs": [
    {
     "name": "stdout",
     "output_type": "stream",
     "text": [
      "Total 4972\n",
      "Train 4587\n",
      "Dev (No Overlap) 385\n",
      "Sum 4972\n"
     ]
    }
   ],
   "source": [
    "posts_xl = TextConcatPosts(posts_path, tasks_path, task_name=\"crosslingual\", gs_path=gs_path)\n",
    "df_posts_train_xl = posts_xl.df_train\n",
    "\n",
    "new_tasks_xl = posts.tasks[\"crosslingual\"].copy()\n",
    "\n",
    "posts = TextConcatPosts(posts_path, tasks_path, task_name=\"crosslingual\", gs_path=gs_path)\n",
    "df_posts_train = posts.df_train\n",
    "\n",
    "idx_train, idxs_dev = get_split_indices(df_posts_train, test_size=0.1, random_state=42)\n",
    "\n",
    "new_tasks_xl[\"posts_train\"] = idx_train\n",
    "new_tasks_xl[\"posts_dev\"] = idxs_dev"
   ]
  },
  {
   "cell_type": "code",
   "execution_count": 22,
   "metadata": {},
   "outputs": [],
   "source": [
    "new_tasks = posts.tasks.copy()\n",
    "new_tasks[\"monolingual\"] = new_tasks_mono\n",
    "new_tasks[\"crosslingual\"] = new_tasks_xl"
   ]
  },
  {
   "cell_type": "code",
   "execution_count": 23,
   "metadata": {},
   "outputs": [],
   "source": [
    "import pandas as pd\n",
    "d_stats = {}\n",
    "for lan in new_tasks[\"monolingual\"].keys():\n",
    "    d_stats[lan] = {\n",
    "        \"train\": len(new_tasks[\"monolingual\"][lan][\"posts_train\"]),\n",
    "        \"dev\": len(new_tasks[\"monolingual\"][lan][\"posts_dev\"]),\n",
    "        \"ratio\": len(new_tasks[\"monolingual\"][lan][\"posts_dev\"]) / len(new_tasks[\"monolingual\"][lan][\"posts_train\"])\n",
    "    }\n",
    "\n",
    "d_stats[\"crosslingual\"] = {\n",
    "                            \"train\": len(new_tasks[\"crosslingual\"][\"posts_train\"]),\n",
    "                            \"dev\": len(new_tasks[\"crosslingual\"][\"posts_dev\"]),\n",
    "                            \"ratio\": len(new_tasks[\"crosslingual\"][\"posts_dev\"]) / len(new_tasks[\"crosslingual\"][\"posts_train\"])\n",
    "                    }\n",
    "\n",
    "df_stats = pd.DataFrame(d_stats).T\n",
    "df_stats.to_csv(\"data/splits/stats/tasks_no_gs_overlap.csv\", index=True)"
   ]
  },
  {
   "cell_type": "code",
   "execution_count": 24,
   "metadata": {},
   "outputs": [
    {
     "name": "stdout",
     "output_type": "stream",
     "text": [
      "fra 1596 188 0.11779448621553884\n",
      "spa 5628 615 0.10927505330490406\n",
      "eng 4351 478 0.10985980234428867\n",
      "por 2571 302 0.11746402178140801\n",
      "tha 465 42 0.09032258064516129\n",
      "deu 667 83 0.12443778110944528\n",
      "msa 1062 105 0.09887005649717515\n",
      "ara 676 78 0.11538461538461539\n",
      "cross 4972 552\n"
     ]
    }
   ],
   "source": [
    "for lan in posts.tasks[\"monolingual\"].keys():\n",
    "    print(lan, len(posts.tasks[\"monolingual\"][lan][\"posts_train\"]), len(posts.tasks[\"monolingual\"][lan][\"posts_dev\"]), len(posts.tasks[\"monolingual\"][lan][\"posts_dev\"]) / len(posts.tasks[\"monolingual\"][lan][\"posts_train\"]))\n",
    "    \n",
    "print(\"cross\", len(posts.tasks[\"crosslingual\"][\"posts_train\"]), len(posts.tasks[\"crosslingual\"][\"posts_dev\"]))"
   ]
  },
  {
   "cell_type": "code",
   "execution_count": 25,
   "metadata": {},
   "outputs": [],
   "source": [
    "import json\n",
    "tasks_path = \"data/splits/tasks_no_gs_overlap.json\"\n",
    "\n",
    "with open(tasks_path, \"w\") as f:\n",
    "    json.dump(new_tasks, f, indent=4)"
   ]
  },
  {
   "cell_type": "markdown",
   "metadata": {},
   "source": [
    "# Check it is working"
   ]
  },
  {
   "cell_type": "code",
   "execution_count": 26,
   "metadata": {},
   "outputs": [],
   "source": [
    "from src.datasets import TextConcatPosts, Dataset\n",
    "\n",
    "tasks_path = \"data/splits/tasks_no_gs_overlap.json\" # This is the file that will be replaced in the final version with new split\n",
    "posts_path = \"data/complete_data/posts.csv\"\n",
    "fact_checks_path = \"data/complete_data/fact_checks.csv\"\n",
    "gs_path = \"data/complete_data/pairs.csv\"\n",
    "\n",
    "posts = TextConcatPosts(posts_path, tasks_path, task_name=\"crosslingual\", gs_path=gs_path)\n",
    "df_posts_train = posts.df_train\n",
    "df_posts_dev = posts.df_dev"
   ]
  },
  {
   "cell_type": "code",
   "execution_count": 27,
   "metadata": {},
   "outputs": [
    {
     "data": {
      "text/html": [
       "<div>\n",
       "<style scoped>\n",
       "    .dataframe tbody tr th:only-of-type {\n",
       "        vertical-align: middle;\n",
       "    }\n",
       "\n",
       "    .dataframe tbody tr th {\n",
       "        vertical-align: top;\n",
       "    }\n",
       "\n",
       "    .dataframe thead th {\n",
       "        text-align: right;\n",
       "    }\n",
       "</style>\n",
       "<table border=\"1\" class=\"dataframe\">\n",
       "  <thead>\n",
       "    <tr style=\"text-align: right;\">\n",
       "      <th></th>\n",
       "      <th>ocr</th>\n",
       "      <th>verdicts</th>\n",
       "      <th>text</th>\n",
       "      <th>lan</th>\n",
       "      <th>fb</th>\n",
       "      <th>tw</th>\n",
       "      <th>ig</th>\n",
       "      <th>full_text</th>\n",
       "      <th>gs</th>\n",
       "    </tr>\n",
       "    <tr>\n",
       "      <th>post_id</th>\n",
       "      <th></th>\n",
       "      <th></th>\n",
       "      <th></th>\n",
       "      <th></th>\n",
       "      <th></th>\n",
       "      <th></th>\n",
       "      <th></th>\n",
       "      <th></th>\n",
       "      <th></th>\n",
       "    </tr>\n",
       "  </thead>\n",
       "  <tbody>\n",
       "    <tr>\n",
       "      <th>3</th>\n",
       "      <td>\"Australia 50 MILLONES de dosis de \"vacuna\" re...</td>\n",
       "      <td>False</td>\n",
       "      <td></td>\n",
       "      <td>fra</td>\n",
       "      <td>0</td>\n",
       "      <td>0</td>\n",
       "      <td>1</td>\n",
       "      <td>\"Australia 50 MILLONES de dosis de \"vacuna\" re...</td>\n",
       "      <td>[50973]</td>\n",
       "    </tr>\n",
       "    <tr>\n",
       "      <th>16</th>\n",
       "      <td>\"Estrictamente y hablando con sentido, la conq...</td>\n",
       "      <td>Partly false information</td>\n",
       "      <td></td>\n",
       "      <td>spa</td>\n",
       "      <td>1</td>\n",
       "      <td>0</td>\n",
       "      <td>0</td>\n",
       "      <td>\"Estrictamente y hablando con sentido, la conq...</td>\n",
       "      <td>[38000]</td>\n",
       "    </tr>\n",
       "    <tr>\n",
       "      <th>60</th>\n",
       "      <td>#Artés Presidente #Save Palestine ... [USER] M...</td>\n",
       "      <td>Partly false information</td>\n",
       "      <td></td>\n",
       "      <td>spa</td>\n",
       "      <td>1</td>\n",
       "      <td>0</td>\n",
       "      <td>0</td>\n",
       "      <td>#Artés Presidente #Save Palestine ... [USER] M...</td>\n",
       "      <td>[50802]</td>\n",
       "    </tr>\n",
       "    <tr>\n",
       "      <th>62</th>\n",
       "      <td>#CNN: Child soldiers are ok if they are to def...</td>\n",
       "      <td>Altered photo</td>\n",
       "      <td></td>\n",
       "      <td>eng</td>\n",
       "      <td>1</td>\n",
       "      <td>0</td>\n",
       "      <td>0</td>\n",
       "      <td>#CNN: Child soldiers are ok if they are to def...</td>\n",
       "      <td>[34139, 134205]</td>\n",
       "    </tr>\n",
       "    <tr>\n",
       "      <th>71</th>\n",
       "      <td>#قانون_ساز_طوائف ملکہ پکھراج کی نواسی معروف رق...</td>\n",
       "      <td>False information</td>\n",
       "      <td></td>\n",
       "      <td>other</td>\n",
       "      <td>1</td>\n",
       "      <td>0</td>\n",
       "      <td>0</td>\n",
       "      <td>#قانون_ساز_طوائف ملکہ پکھراج کی نواسی معروف رق...</td>\n",
       "      <td>[13904]</td>\n",
       "    </tr>\n",
       "  </tbody>\n",
       "</table>\n",
       "</div>"
      ],
      "text/plain": [
       "                                                       ocr  \\\n",
       "post_id                                                      \n",
       "3        \"Australia 50 MILLONES de dosis de \"vacuna\" re...   \n",
       "16       \"Estrictamente y hablando con sentido, la conq...   \n",
       "60       #Artés Presidente #Save Palestine ... [USER] M...   \n",
       "62       #CNN: Child soldiers are ok if they are to def...   \n",
       "71       #قانون_ساز_طوائف ملکہ پکھراج کی نواسی معروف رق...   \n",
       "\n",
       "                         verdicts text    lan  fb  tw  ig  \\\n",
       "post_id                                                     \n",
       "3                           False         fra   0   0   1   \n",
       "16       Partly false information         spa   1   0   0   \n",
       "60       Partly false information         spa   1   0   0   \n",
       "62                  Altered photo         eng   1   0   0   \n",
       "71              False information       other   1   0   0   \n",
       "\n",
       "                                                 full_text               gs  \n",
       "post_id                                                                      \n",
       "3        \"Australia 50 MILLONES de dosis de \"vacuna\" re...          [50973]  \n",
       "16       \"Estrictamente y hablando con sentido, la conq...          [38000]  \n",
       "60       #Artés Presidente #Save Palestine ... [USER] M...          [50802]  \n",
       "62       #CNN: Child soldiers are ok if they are to def...  [34139, 134205]  \n",
       "71       #قانون_ساز_طوائف ملکہ پکھراج کی نواسی معروف رق...          [13904]  "
      ]
     },
     "execution_count": 27,
     "metadata": {},
     "output_type": "execute_result"
    }
   ],
   "source": [
    "df_posts_train.head()"
   ]
  },
  {
   "cell_type": "code",
   "execution_count": 28,
   "metadata": {},
   "outputs": [
    {
     "data": {
      "text/plain": [
       "['fra', 'spa', 'eng', 'por', 'tha', 'deu', 'msa', 'ara']"
      ]
     },
     "execution_count": 28,
     "metadata": {},
     "output_type": "execute_result"
    }
   ],
   "source": [
    "posts.langs"
   ]
  },
  {
   "cell_type": "code",
   "execution_count": 29,
   "metadata": {},
   "outputs": [
    {
     "data": {
      "image/png": "[encoded data removed]",
      "text/plain": [
       "<Figure size 1200x400 with 2 Axes>"
      ]
     },
     "metadata": {},
     "output_type": "display_data"
    }
   ],
   "source": [
    "import matplotlib.pyplot as plt\n",
    "fig, ax = plt.subplots(1, 2, figsize=(12, 4))\n",
    "\n",
    "df_posts_train[\"lan\"].sort_values().hist(bins=20, ax=ax[0])\n",
    "df_posts_dev[\"lan\"].sort_values().hist(bins=20, ax=ax[1])\n",
    "\n",
    "ax[0].set_title(\"Train\")\n",
    "ax[1].set_title(\"Dev\")\n",
    "\n",
    "fig.suptitle(\"Language distribution\")\n",
    "fig.tight_layout()\n"
   ]
  },
  {
   "cell_type": "code",
   "execution_count": 30,
   "metadata": {},
   "outputs": [
    {
     "data": {
      "text/html": [
       "<div>\n",
       "<style scoped>\n",
       "    .dataframe tbody tr th:only-of-type {\n",
       "        vertical-align: middle;\n",
       "    }\n",
       "\n",
       "    .dataframe tbody tr th {\n",
       "        vertical-align: top;\n",
       "    }\n",
       "\n",
       "    .dataframe thead th {\n",
       "        text-align: right;\n",
       "    }\n",
       "</style>\n",
       "<table border=\"1\" class=\"dataframe\">\n",
       "  <thead>\n",
       "    <tr style=\"text-align: right;\">\n",
       "      <th></th>\n",
       "      <th>post_id</th>\n",
       "      <th>instances</th>\n",
       "      <th>ocr</th>\n",
       "      <th>verdicts</th>\n",
       "      <th>text</th>\n",
       "    </tr>\n",
       "  </thead>\n",
       "  <tbody>\n",
       "    <tr>\n",
       "      <th>0</th>\n",
       "      <td>0</td>\n",
       "      <td>[(1608571882.0, fb)]</td>\n",
       "      <td>[(! Dreister Impf-Fake von Markus Söder! Es is...</td>\n",
       "      <td>['False information']</td>\n",
       "      <td></td>\n",
       "    </tr>\n",
       "    <tr>\n",
       "      <th>1</th>\n",
       "      <td>1</td>\n",
       "      <td>[(1586139153.0, fb)]</td>\n",
       "      <td>[(!! WARNING !! A new thing circulating now. P...</td>\n",
       "      <td>['False information']</td>\n",
       "      <td></td>\n",
       "    </tr>\n",
       "    <tr>\n",
       "      <th>2</th>\n",
       "      <td>2</td>\n",
       "      <td>[(1610052141.0, fb), (1610072448.0, fb)]</td>\n",
       "      <td>[(\"Actually, he's a damn sight better than any...</td>\n",
       "      <td>['Missing context']</td>\n",
       "      <td></td>\n",
       "    </tr>\n",
       "    <tr>\n",
       "      <th>3</th>\n",
       "      <td>3</td>\n",
       "      <td>[(1645187790.0, ig)]</td>\n",
       "      <td>[(\"Australia 50 MILLONES de dosis de \"vacuna\" ...</td>\n",
       "      <td>['False']</td>\n",
       "      <td></td>\n",
       "    </tr>\n",
       "    <tr>\n",
       "      <th>4</th>\n",
       "      <td>4</td>\n",
       "      <td>[(1581697500.0, fb)]</td>\n",
       "      <td>[(\"Bienaventurados los perseguidos por mi caus...</td>\n",
       "      <td>[]</td>\n",
       "      <td></td>\n",
       "    </tr>\n",
       "  </tbody>\n",
       "</table>\n",
       "</div>"
      ],
      "text/plain": [
       "   post_id                                 instances  \\\n",
       "0        0                      [(1608571882.0, fb)]   \n",
       "1        1                      [(1586139153.0, fb)]   \n",
       "2        2  [(1610052141.0, fb), (1610072448.0, fb)]   \n",
       "3        3                      [(1645187790.0, ig)]   \n",
       "4        4                      [(1581697500.0, fb)]   \n",
       "\n",
       "                                                 ocr               verdicts  \\\n",
       "0  [(! Dreister Impf-Fake von Markus Söder! Es is...  ['False information']   \n",
       "1  [(!! WARNING !! A new thing circulating now. P...  ['False information']   \n",
       "2  [(\"Actually, he's a damn sight better than any...    ['Missing context']   \n",
       "3  [(\"Australia 50 MILLONES de dosis de \"vacuna\" ...              ['False']   \n",
       "4  [(\"Bienaventurados los perseguidos por mi caus...                     []   \n",
       "\n",
       "  text  \n",
       "0       \n",
       "1       \n",
       "2       \n",
       "3       \n",
       "4       "
      ]
     },
     "execution_count": 30,
     "metadata": {},
     "output_type": "execute_result"
    }
   ],
   "source": [
    "\n",
    "ds = Dataset(posts_path, tasks_path, task_name=\"crosslingual\")\n",
    "ds.df.head()"
   ]
  },
  {
   "cell_type": "code",
   "execution_count": 31,
   "metadata": {},
   "outputs": [
    {
     "data": {
      "text/plain": [
       "0        deu\n",
       "1        eng\n",
       "2        eng\n",
       "3        fra\n",
       "4        spa\n",
       "        ... \n",
       "24426       \n",
       "24427    eng\n",
       "24428       \n",
       "24429    eng\n",
       "24430    kor\n",
       "Name: ocr, Length: 24431, dtype: object"
      ]
     },
     "execution_count": 31,
     "metadata": {},
     "output_type": "execute_result"
    }
   ],
   "source": [
    "ds.df[\"ocr\"].apply(lambda x: x[0][-1][0][0] if (isinstance(x, list)&len(x)>0) else \"\")"
   ]
  },
  {
   "cell_type": "code",
   "execution_count": 32,
   "metadata": {},
   "outputs": [
    {
     "name": "stdout",
     "output_type": "stream",
     "text": [
      "0 3996 310\n",
      "Index([], dtype='int64', name='post_id')\n"
     ]
    }
   ],
   "source": [
    "train_gs = posts.df_train.explode(\"gs\")[\"gs\"].unique()\n",
    "dev_gs = posts.df_dev.explode(\"gs\")[\"gs\"].unique()\n",
    "\n",
    "print(len(set(train_gs) & set(dev_gs)), len(set(train_gs)), len(set(dev_gs)))\n",
    "print(posts.df_train.index.intersection(posts.df_dev.index))"
   ]
  },
  {
   "cell_type": "code",
   "execution_count": 33,
   "metadata": {},
   "outputs": [
    {
     "name": "stdout",
     "output_type": "stream",
     "text": [
      "fra\n"
     ]
    },
    {
     "name": "stdout",
     "output_type": "stream",
     "text": [
      "set()\n",
      "Index([], dtype='int64', name='post_id')\n",
      "spa\n",
      "set()\n",
      "Index([], dtype='int64', name='post_id')\n",
      "eng\n",
      "set()\n",
      "Index([], dtype='int64', name='post_id')\n",
      "por\n",
      "set()\n",
      "Index([], dtype='int64', name='post_id')\n",
      "tha\n",
      "set()\n",
      "Index([], dtype='int64', name='post_id')\n",
      "deu\n",
      "set()\n",
      "Index([], dtype='int64', name='post_id')\n",
      "msa\n",
      "set()\n",
      "Index([], dtype='int64', name='post_id')\n",
      "ara\n",
      "set()\n",
      "Index([], dtype='int64', name='post_id')\n"
     ]
    }
   ],
   "source": [
    "for lan in posts.langs:\n",
    "    print(lan)\n",
    "    posts = TextConcatPosts(posts_path, tasks_path, task_name=\"monolingual\", gs_path=gs_path, lang=lan)\n",
    "    train_gs = posts.df_train.explode(\"gs\")[\"gs\"].unique()\n",
    "    dev_gs = posts.df_dev.explode(\"gs\")[\"gs\"].unique()\n",
    "\n",
    "    print(set(train_gs) & set(dev_gs))\n",
    "    print(posts.df_train.index.intersection(posts.df_dev.index))\n",
    "    # assert len(set(train_gs) & set(dev_gs)) == 0\n",
    "    # assert len(posts.df_train.index.intersection(posts.df_dev.index)) == 0"
   ]
  },
  {
   "cell_type": "code",
   "execution_count": null,
   "metadata": {},
   "outputs": [],
   "source": []
  }
 ],
 "metadata": {
  "kernelspec": {
   "display_name": "factcheck",
   "language": "python",
   "name": "python3"
  },
  "language_info": {
   "codemirror_mode": {
    "name": "ipython",
    "version": 3
   },
   "file_extension": ".py",
   "mimetype": "text/x-python",
   "name": "python",
   "nbconvert_exporter": "python",
   "pygments_lexer": "ipython3",
   "version": "3.10.15"
  }
 },
 "nbformat": 4,
 "nbformat_minor": 2
}
