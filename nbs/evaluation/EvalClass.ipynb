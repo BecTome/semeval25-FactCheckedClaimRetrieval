{
 "cells": [
  {
   "cell_type": "code",
   "execution_count": 1,
   "metadata": {},
   "outputs": [
    {
     "name": "stderr",
     "output_type": "stream",
     "text": [
      "/home/bsc/bsc830651/.conda/envs/factcheck/lib/python3.10/site-packages/sentence_transformers/cross_encoder/CrossEncoder.py:13: TqdmWarning: IProgress not found. Please update jupyter and ipywidgets. See https://ipywidgets.readthedocs.io/en/stable/user_install.html\n",
      "  from tqdm.autonotebook import tqdm, trange\n"
     ]
    },
    {
     "name": "stdout",
     "output_type": "stream",
     "text": [
      "\n",
      "\n",
      "Processing fra\n"
     ]
    },
    {
     "name": "stderr",
     "output_type": "stream",
     "text": [
      "Batches: 100%|██████████| 9/9 [00:06<00:00,  1.50it/s]\n",
      "Batches: 100%|██████████| 1/1 [00:01<00:00,  1.23s/it]"
     ]
    },
    {
     "name": "stdout",
     "output_type": "stream",
     "text": [
      "S@1 (group) 0.7320261437908496\n",
      "S@1 (explode) 0.7225806451612903\n",
      "S@5 (group) 0.8627450980392157\n",
      "S@5 (explode) 0.864516129032258\n",
      "S@10 (group) 0.8758169934640523\n",
      "S@10 (explode) 0.8774193548387097\n"
     ]
    },
    {
     "name": "stderr",
     "output_type": "stream",
     "text": [
      "\n"
     ]
    }
   ],
   "source": [
    "from src.datasets import TextConcatPosts, TextConcatFactCheck\n",
    "from src.models import EmbeddingModel\n",
    "\n",
    "tasks_path = \"data/splits/tasks_no_gs_overlap.json\" # This is the file that will be replaced in the final version with new split\n",
    "posts_path = \"data/complete_data/posts.csv\"\n",
    "fact_checks_path = \"data/complete_data/fact_checks.csv\"\n",
    "gs_path = \"data/complete_data/pairs.csv\"\n",
    "langs = ['fra', 'spa', 'eng', 'por', 'tha', 'deu', 'msa', 'ara']\n",
    "\n",
    "def succ_at_k(df, k, group=True):\n",
    "    if group:\n",
    "        return df.apply(lambda x: len(list((set(x[\"preds\"][:k]) & set(x[\"gs\"])))) > 0, axis=1).mean()\n",
    "    else:\n",
    "        return df.explode(\"gs\").apply(lambda x: x[\"gs\"] in x[\"preds\"][:k], axis=1).mean()\n",
    "    \n",
    "def print_succ_at_k(df, k, group=True):\n",
    "    print(f\"S@{k} (group)\", succ_at_k(df, k, group=True))\n",
    "    print(f\"S@{k} (explode)\", succ_at_k(df, k, group=False))\n",
    "\n",
    "\n",
    "lang = \"fra\"\n",
    "    \n",
    "print(\"\\n\\nProcessing\", lang)\n",
    "posts = TextConcatPosts(posts_path, tasks_path, task_name=\"monolingual\", gs_path=gs_path, lang=lang)\n",
    "fact_checks = TextConcatFactCheck(fact_checks_path, tasks_path, task_name=\"monolingual\", lang=lang)\n",
    "\n",
    "df_fc = fact_checks.df\n",
    "df_posts_train = posts.df_train\n",
    "df_posts_dev = posts.df_dev\n",
    "\n",
    "model_name = '/home/bsc/bsc830651/.cache/huggingface/hub/models--intfloat--multilingual-e5-large/snapshots/ab10c1a7f42e74530fe7ae5be82e6d4f11a719eb'\n",
    "\n",
    "model = EmbeddingModel(model_name, df_fc, batch_size=512)\n",
    "\n",
    "df_posts_dev[\"preds\"] = model.predict(df_posts_dev[\"full_text\"].values).tolist()\n",
    "\n",
    "print_succ_at_k(df_posts_dev, 1)\n",
    "print_succ_at_k(df_posts_dev, 5)\n",
    "print_succ_at_k(df_posts_dev, 10)\n"
   ]
  },
  {
   "cell_type": "code",
   "execution_count": 2,
   "metadata": {},
   "outputs": [
    {
     "name": "stdout",
     "output_type": "stream",
     "text": [
      "\n",
      "\n",
      "Processing por\n"
     ]
    },
    {
     "name": "stderr",
     "output_type": "stream",
     "text": [
      "Batches: 100%|██████████| 43/43 [00:23<00:00,  1.81it/s]\n",
      "Batches: 100%|██████████| 1/1 [00:01<00:00,  1.33s/it]"
     ]
    },
    {
     "name": "stdout",
     "output_type": "stream",
     "text": [
      "S@1 (group) 0.39759036144578314\n",
      "S@1 (explode) 0.38372093023255816\n",
      "S@5 (group) 0.7951807228915663\n",
      "S@5 (explode) 0.7906976744186046\n",
      "S@10 (group) 0.8493975903614458\n",
      "S@10 (explode) 0.8430232558139535\n"
     ]
    },
    {
     "name": "stderr",
     "output_type": "stream",
     "text": [
      "\n"
     ]
    }
   ],
   "source": [
    "lang = \"por\"\n",
    "    \n",
    "print(\"\\n\\nProcessing\", lang)\n",
    "posts = TextConcatPosts(posts_path, tasks_path, task_name=\"monolingual\", gs_path=gs_path, lang=lang)\n",
    "fact_checks = TextConcatFactCheck(fact_checks_path, tasks_path, task_name=\"monolingual\", lang=lang)\n",
    "\n",
    "df_fc = fact_checks.df\n",
    "df_posts_train = posts.df_train\n",
    "df_posts_dev = posts.df_dev\n",
    "\n",
    "model_name = '/home/bsc/bsc830651/.cache/huggingface/hub/models--intfloat--multilingual-e5-large/snapshots/ab10c1a7f42e74530fe7ae5be82e6d4f11a719eb'\n",
    "\n",
    "model = EmbeddingModel(model_name, df_fc, batch_size=512)\n",
    "\n",
    "df_posts_dev[\"preds\"] = model.predict(df_posts_dev[\"full_text\"].values).tolist()\n",
    "\n",
    "print_succ_at_k(df_posts_dev, 1)\n",
    "print_succ_at_k(df_posts_dev, 5)\n",
    "print_succ_at_k(df_posts_dev, 10)"
   ]
  },
  {
   "cell_type": "code",
   "execution_count": 3,
   "metadata": {},
   "outputs": [
    {
     "name": "stdout",
     "output_type": "stream",
     "text": [
      "\n",
      "\n",
      "Processing deu\n"
     ]
    },
    {
     "name": "stderr",
     "output_type": "stream",
     "text": [
      "Batches: 100%|██████████| 10/10 [00:08<00:00,  1.14it/s]\n",
      "Batches: 100%|██████████| 1/1 [00:00<00:00,  1.97it/s]"
     ]
    },
    {
     "name": "stdout",
     "output_type": "stream",
     "text": [
      "S@1 (group) 0.32786885245901637\n",
      "S@1 (explode) 0.31746031746031744\n",
      "S@5 (group) 0.5901639344262295\n",
      "S@5 (explode) 0.6031746031746031\n",
      "S@10 (group) 0.6721311475409836\n",
      "S@10 (explode) 0.6825396825396826\n"
     ]
    },
    {
     "name": "stderr",
     "output_type": "stream",
     "text": [
      "\n"
     ]
    }
   ],
   "source": [
    "lang = \"deu\"\n",
    "    \n",
    "print(\"\\n\\nProcessing\", lang)\n",
    "posts = TextConcatPosts(posts_path, tasks_path, task_name=\"monolingual\", gs_path=gs_path, lang=lang)\n",
    "fact_checks = TextConcatFactCheck(fact_checks_path, tasks_path, task_name=\"monolingual\", lang=lang)\n",
    "\n",
    "df_fc = fact_checks.df\n",
    "df_posts_train = posts.df_train\n",
    "df_posts_dev = posts.df_dev\n",
    "\n",
    "model_name = '/home/bsc/bsc830651/.cache/huggingface/hub/models--intfloat--multilingual-e5-large/snapshots/ab10c1a7f42e74530fe7ae5be82e6d4f11a719eb'\n",
    "\n",
    "model = EmbeddingModel(model_name, df_fc, batch_size=512)\n",
    "\n",
    "df_posts_dev[\"preds\"] = model.predict(df_posts_dev[\"full_text\"].values).tolist()\n",
    "\n",
    "print_succ_at_k(df_posts_dev, 1)\n",
    "print_succ_at_k(df_posts_dev, 5)\n",
    "print_succ_at_k(df_posts_dev, 10)"
   ]
  },
  {
   "cell_type": "code",
   "execution_count": 4,
   "metadata": {},
   "outputs": [
    {
     "data": {
      "text/plain": [
       "(606, 61)"
      ]
     },
     "execution_count": 4,
     "metadata": {},
     "output_type": "execute_result"
    }
   ],
   "source": [
    "len(df_posts_train), len(df_posts_dev)"
   ]
  }
 ],
 "metadata": {
  "kernelspec": {
   "display_name": "factcheck",
   "language": "python",
   "name": "python3"
  },
  "language_info": {
   "codemirror_mode": {
    "name": "ipython",
    "version": 3
   },
   "file_extension": ".py",
   "mimetype": "text/x-python",
   "name": "python",
   "nbconvert_exporter": "python",
   "pygments_lexer": "ipython3",
   "version": "3.10.15"
  }
 },
 "nbformat": 4,
 "nbformat_minor": 2
}
