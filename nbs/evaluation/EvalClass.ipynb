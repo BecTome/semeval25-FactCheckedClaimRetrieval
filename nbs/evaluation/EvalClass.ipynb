{
 "cells": [
  {
   "cell_type": "code",
   "execution_count": 1,
   "metadata": {},
   "outputs": [
    {
     "name": "stderr",
     "output_type": "stream",
     "text": [
      "/home/bsc/bsc830651/.conda/envs/factcheck/lib/python3.10/site-packages/sentence_transformers/cross_encoder/CrossEncoder.py:13: TqdmWarning: IProgress not found. Please update jupyter and ipywidgets. See https://ipywidgets.readthedocs.io/en/stable/user_install.html\n",
      "  from tqdm.autonotebook import tqdm, trange\n"
     ]
    },
    {
     "name": "stdout",
     "output_type": "stream",
     "text": [
      "\n",
      "\n",
      "Processing fra\n"
     ]
    },
    {
     "name": "stderr",
     "output_type": "stream",
     "text": [
      "Batches: 100%|██████████| 9/9 [00:06<00:00,  1.50it/s]\n",
      "Batches: 100%|██████████| 1/1 [00:01<00:00,  1.23s/it]"
     ]
    },
    {
     "name": "stdout",
     "output_type": "stream",
     "text": [
      "S@1 (group) 0.7320261437908496\n",
      "S@1 (explode) 0.7225806451612903\n",
      "S@5 (group) 0.8627450980392157\n",
      "S@5 (explode) 0.864516129032258\n",
      "S@10 (group) 0.8758169934640523\n",
      "S@10 (explode) 0.8774193548387097\n"
     ]
    },
    {
     "name": "stderr",
     "output_type": "stream",
     "text": [
      "\n"
     ]
    }
   ],
   "source": [
    "from src.datasets import TextConcatPosts, TextConcatFactCheck\n",
    "from src.models import EmbeddingModel\n",
    "\n",
    "tasks_path = \"data/splits/tasks_no_gs_overlap.json\" # This is the file that will be replaced in the final version with new split\n",
    "posts_path = \"data/complete_data/posts.csv\"\n",
    "fact_checks_path = \"data/complete_data/fact_checks.csv\"\n",
    "gs_path = \"data/complete_data/pairs.csv\"\n",
    "langs = ['fra', 'spa', 'eng', 'por', 'tha', 'deu', 'msa', 'ara']\n",
    "\n",
    "def succ_at_k(df, k, group=True):\n",
    "    if group:\n",
    "        return df.apply(lambda x: len(list((set(x[\"preds\"][:k]) & set(x[\"gs\"])))) > 0, axis=1).mean()\n",
    "    else:\n",
    "        return df.explode(\"gs\").apply(lambda x: x[\"gs\"] in x[\"preds\"][:k], axis=1).mean()\n",
    "    \n",
    "def print_succ_at_k(df, k, group=True):\n",
    "    print(f\"S@{k} (group)\", succ_at_k(df, k, group=True))\n",
    "    print(f\"S@{k} (explode)\", succ_at_k(df, k, group=False))\n",
    "\n",
    "\n",
    "lang = \"fra\"\n",
    "    \n",
    "print(\"\\n\\nProcessing\", lang)\n",
    "posts = TextConcatPosts(posts_path, tasks_path, task_name=\"monolingual\", gs_path=gs_path, lang=lang)\n",
    "fact_checks = TextConcatFactCheck(fact_checks_path, tasks_path, task_name=\"monolingual\", lang=lang)\n",
    "\n",
    "df_fc = fact_checks.df\n",
    "df_posts_train = posts.df_train\n",
    "df_posts_dev = posts.df_dev\n",
    "\n",
    "model_name = '/home/bsc/bsc830651/.cache/huggingface/hub/models--intfloat--multilingual-e5-large/snapshots/ab10c1a7f42e74530fe7ae5be82e6d4f11a719eb'\n",
    "\n",
    "model = EmbeddingModel(model_name, df_fc, batch_size=512)\n",
    "\n",
    "df_posts_dev[\"preds\"] = model.predict(df_posts_dev[\"full_text\"].values).tolist()\n",
    "\n",
    "print_succ_at_k(df_posts_dev, 1)\n",
    "print_succ_at_k(df_posts_dev, 5)\n",
    "print_succ_at_k(df_posts_dev, 10)\n"
   ]
  },
  {
   "cell_type": "code",
   "execution_count": 2,
   "metadata": {},
   "outputs": [
    {
     "name": "stderr",
     "output_type": "stream",
     "text": [
      "/home/bsc/bsc830651/.conda/envs/factcheck/lib/python3.10/site-packages/sentence_transformers/cross_encoder/CrossEncoder.py:13: TqdmWarning: IProgress not found. Please update jupyter and ipywidgets. See https://ipywidgets.readthedocs.io/en/stable/user_install.html\n",
      "  from tqdm.autonotebook import tqdm, trange\n"
     ]
    }
   ],
   "source": [
    "from src import config\n",
    "from src.datasets import TextConcatPosts, TextConcatFactCheck\n",
    "from src.models import EmbeddingModel\n",
    "\n",
    "posts = TextConcatPosts(config.POSTS_PATH, \"data/splits/tasks_no_gs_overlap.json\", task_name=\"monolingual\", gs_path=config.GS_PATH, lang=\"spa\")\n",
    "fact_checks = TextConcatFactCheck(config.FACT_CHECKS_PATH, \"data/splits/tasks_no_gs_overlap.json\", task_name=\"monolingual\", lang=\"spa\")\n",
    "model_name = '/home/bsc/bsc830651/.cache/huggingface/hub/models--intfloat--multilingual-e5-large/snapshots/ab10c1a7f42e74530fe7ae5be82e6d4f11a719eb'\n",
    "\n"
   ]
  },
  {
   "cell_type": "code",
   "execution_count": 3,
   "metadata": {},
   "outputs": [
    {
     "name": "stderr",
     "output_type": "stream",
     "text": [
      "Batches: 100%|██████████| 28/28 [00:15<00:00,  1.86it/s]\n",
      "Batches: 100%|██████████| 1/1 [00:04<00:00,  4.00s/it]\n"
     ]
    }
   ],
   "source": [
    "model = EmbeddingModel(model_name, fact_checks.df, batch_size=512)\n",
    "df_posts_dev = posts.df_dev\n",
    "df_posts_dev[\"preds\"] = model.predict(df_posts_dev[\"full_text\"].values).tolist()\n",
    "\n"
   ]
  },
  {
   "cell_type": "code",
   "execution_count": 4,
   "metadata": {},
   "outputs": [],
   "source": [
    "d_eval = model.evaluate(df_posts_dev, posts.task_name, posts.lang)"
   ]
  },
  {
   "cell_type": "code",
   "execution_count": 7,
   "metadata": {},
   "outputs": [
    {
     "ename": "AttributeError",
     "evalue": "'dict' object has no attribute 'prettify'",
     "output_type": "error",
     "traceback": [
      "\u001b[0;31m---------------------------------------------------------------------------\u001b[0m",
      "\u001b[0;31mAttributeError\u001b[0m                            Traceback (most recent call last)",
      "Cell \u001b[0;32mIn[7], line 1\u001b[0m\n\u001b[0;32m----> 1\u001b[0m \u001b[43md_eval\u001b[49m\u001b[38;5;241;43m.\u001b[39;49m\u001b[43mprettify\u001b[49m()\n",
      "\u001b[0;31mAttributeError\u001b[0m: 'dict' object has no attribute 'prettify'"
     ]
    }
   ],
   "source": [
    "d_eval.prettify()"
   ]
  },
  {
   "cell_type": "code",
   "execution_count": 6,
   "metadata": {},
   "outputs": [
    {
     "data": {
      "text/html": [
       "<div>\n",
       "<style scoped>\n",
       "    .dataframe tbody tr th:only-of-type {\n",
       "        vertical-align: middle;\n",
       "    }\n",
       "\n",
       "    .dataframe tbody tr th {\n",
       "        vertical-align: top;\n",
       "    }\n",
       "\n",
       "    .dataframe thead th {\n",
       "        text-align: right;\n",
       "    }\n",
       "</style>\n",
       "<table border=\"1\" class=\"dataframe\">\n",
       "  <thead>\n",
       "    <tr style=\"text-align: right;\">\n",
       "      <th></th>\n",
       "      <th>monolingual</th>\n",
       "    </tr>\n",
       "  </thead>\n",
       "  <tbody>\n",
       "    <tr>\n",
       "      <th>spa</th>\n",
       "      <td>{'group': {1: 0.5928853754940712, 3: 0.8043478...</td>\n",
       "    </tr>\n",
       "  </tbody>\n",
       "</table>\n",
       "</div>"
      ],
      "text/plain": [
       "                                           monolingual\n",
       "spa  {'group': {1: 0.5928853754940712, 3: 0.8043478..."
      ]
     },
     "execution_count": 6,
     "metadata": {},
     "output_type": "execute_result"
    }
   ],
   "source": [
    "import pandas as pd\n",
    "pd.DataFrame(d_eval)"
   ]
  },
  {
   "cell_type": "code",
   "execution_count": 36,
   "metadata": {},
   "outputs": [
    {
     "ename": "IndexError",
     "evalue": "positional indexers are out-of-bounds",
     "output_type": "error",
     "traceback": [
      "\u001b[0;31m---------------------------------------------------------------------------\u001b[0m",
      "\u001b[0;31mIndexError\u001b[0m                                Traceback (most recent call last)",
      "Cell \u001b[0;32mIn[36], line 1\u001b[0m\n\u001b[0;32m----> 1\u001b[0m \u001b[43mfact_checks\u001b[49m\u001b[38;5;241;43m.\u001b[39;49m\u001b[43mdf\u001b[49m\u001b[38;5;241;43m.\u001b[39;49m\u001b[43miloc\u001b[49m\u001b[43m[\u001b[49m\u001b[43m[\u001b[49m\u001b[38;5;241;43m28005\u001b[39;49m\u001b[43m,\u001b[49m\u001b[43m \u001b[49m\u001b[38;5;241;43m11307\u001b[39;49m\u001b[43m,\u001b[49m\u001b[43m \u001b[49m\u001b[38;5;241;43m27919\u001b[39;49m\u001b[43m,\u001b[49m\u001b[43m \u001b[49m\u001b[38;5;241;43m13709\u001b[39;49m\u001b[43m,\u001b[49m\u001b[43m \u001b[49m\u001b[38;5;241;43m4286\u001b[39;49m\u001b[43m,\u001b[49m\u001b[43m \u001b[49m\u001b[38;5;241;43m359\u001b[39;49m\u001b[43m,\u001b[49m\u001b[43m \u001b[49m\u001b[38;5;241;43m1655\u001b[39;49m\u001b[43m,\u001b[49m\u001b[43m \u001b[49m\u001b[38;5;241;43m4455\u001b[39;49m\u001b[43m,\u001b[49m\u001b[43m \u001b[49m\u001b[38;5;241;43m20362\u001b[39;49m\u001b[43m,\u001b[49m\u001b[43m \u001b[49m\u001b[38;5;241;43m13703\u001b[39;49m\u001b[43m]\u001b[49m\u001b[43m,\u001b[49m\u001b[43m \u001b[49m\u001b[43m:\u001b[49m\u001b[43m]\u001b[49m\u001b[38;5;241m.\u001b[39mindex\n",
      "File \u001b[0;32m~/.conda/envs/factcheck/lib/python3.10/site-packages/pandas/core/indexing.py:1184\u001b[0m, in \u001b[0;36m_LocationIndexer.__getitem__\u001b[0;34m(self, key)\u001b[0m\n\u001b[1;32m   1182\u001b[0m     \u001b[38;5;28;01mif\u001b[39;00m \u001b[38;5;28mself\u001b[39m\u001b[38;5;241m.\u001b[39m_is_scalar_access(key):\n\u001b[1;32m   1183\u001b[0m         \u001b[38;5;28;01mreturn\u001b[39;00m \u001b[38;5;28mself\u001b[39m\u001b[38;5;241m.\u001b[39mobj\u001b[38;5;241m.\u001b[39m_get_value(\u001b[38;5;241m*\u001b[39mkey, takeable\u001b[38;5;241m=\u001b[39m\u001b[38;5;28mself\u001b[39m\u001b[38;5;241m.\u001b[39m_takeable)\n\u001b[0;32m-> 1184\u001b[0m     \u001b[38;5;28;01mreturn\u001b[39;00m \u001b[38;5;28;43mself\u001b[39;49m\u001b[38;5;241;43m.\u001b[39;49m\u001b[43m_getitem_tuple\u001b[49m\u001b[43m(\u001b[49m\u001b[43mkey\u001b[49m\u001b[43m)\u001b[49m\n\u001b[1;32m   1185\u001b[0m \u001b[38;5;28;01melse\u001b[39;00m:\n\u001b[1;32m   1186\u001b[0m     \u001b[38;5;66;03m# we by definition only have the 0th axis\u001b[39;00m\n\u001b[1;32m   1187\u001b[0m     axis \u001b[38;5;241m=\u001b[39m \u001b[38;5;28mself\u001b[39m\u001b[38;5;241m.\u001b[39maxis \u001b[38;5;129;01mor\u001b[39;00m \u001b[38;5;241m0\u001b[39m\n",
      "File \u001b[0;32m~/.conda/envs/factcheck/lib/python3.10/site-packages/pandas/core/indexing.py:1690\u001b[0m, in \u001b[0;36m_iLocIndexer._getitem_tuple\u001b[0;34m(self, tup)\u001b[0m\n\u001b[1;32m   1689\u001b[0m \u001b[38;5;28;01mdef\u001b[39;00m \u001b[38;5;21m_getitem_tuple\u001b[39m(\u001b[38;5;28mself\u001b[39m, tup: \u001b[38;5;28mtuple\u001b[39m):\n\u001b[0;32m-> 1690\u001b[0m     tup \u001b[38;5;241m=\u001b[39m \u001b[38;5;28;43mself\u001b[39;49m\u001b[38;5;241;43m.\u001b[39;49m\u001b[43m_validate_tuple_indexer\u001b[49m\u001b[43m(\u001b[49m\u001b[43mtup\u001b[49m\u001b[43m)\u001b[49m\n\u001b[1;32m   1691\u001b[0m     \u001b[38;5;28;01mwith\u001b[39;00m suppress(IndexingError):\n\u001b[1;32m   1692\u001b[0m         \u001b[38;5;28;01mreturn\u001b[39;00m \u001b[38;5;28mself\u001b[39m\u001b[38;5;241m.\u001b[39m_getitem_lowerdim(tup)\n",
      "File \u001b[0;32m~/.conda/envs/factcheck/lib/python3.10/site-packages/pandas/core/indexing.py:966\u001b[0m, in \u001b[0;36m_LocationIndexer._validate_tuple_indexer\u001b[0;34m(self, key)\u001b[0m\n\u001b[1;32m    964\u001b[0m \u001b[38;5;28;01mfor\u001b[39;00m i, k \u001b[38;5;129;01min\u001b[39;00m \u001b[38;5;28menumerate\u001b[39m(key):\n\u001b[1;32m    965\u001b[0m     \u001b[38;5;28;01mtry\u001b[39;00m:\n\u001b[0;32m--> 966\u001b[0m         \u001b[38;5;28;43mself\u001b[39;49m\u001b[38;5;241;43m.\u001b[39;49m\u001b[43m_validate_key\u001b[49m\u001b[43m(\u001b[49m\u001b[43mk\u001b[49m\u001b[43m,\u001b[49m\u001b[43m \u001b[49m\u001b[43mi\u001b[49m\u001b[43m)\u001b[49m\n\u001b[1;32m    967\u001b[0m     \u001b[38;5;28;01mexcept\u001b[39;00m \u001b[38;5;167;01mValueError\u001b[39;00m \u001b[38;5;28;01mas\u001b[39;00m err:\n\u001b[1;32m    968\u001b[0m         \u001b[38;5;28;01mraise\u001b[39;00m \u001b[38;5;167;01mValueError\u001b[39;00m(\n\u001b[1;32m    969\u001b[0m             \u001b[38;5;124m\"\u001b[39m\u001b[38;5;124mLocation based indexing can only have \u001b[39m\u001b[38;5;124m\"\u001b[39m\n\u001b[1;32m    970\u001b[0m             \u001b[38;5;124mf\u001b[39m\u001b[38;5;124m\"\u001b[39m\u001b[38;5;124m[\u001b[39m\u001b[38;5;132;01m{\u001b[39;00m\u001b[38;5;28mself\u001b[39m\u001b[38;5;241m.\u001b[39m_valid_types\u001b[38;5;132;01m}\u001b[39;00m\u001b[38;5;124m] types\u001b[39m\u001b[38;5;124m\"\u001b[39m\n\u001b[1;32m    971\u001b[0m         ) \u001b[38;5;28;01mfrom\u001b[39;00m \u001b[38;5;21;01merr\u001b[39;00m\n",
      "File \u001b[0;32m~/.conda/envs/factcheck/lib/python3.10/site-packages/pandas/core/indexing.py:1612\u001b[0m, in \u001b[0;36m_iLocIndexer._validate_key\u001b[0;34m(self, key, axis)\u001b[0m\n\u001b[1;32m   1610\u001b[0m     \u001b[38;5;66;03m# check that the key does not exceed the maximum size of the index\u001b[39;00m\n\u001b[1;32m   1611\u001b[0m     \u001b[38;5;28;01mif\u001b[39;00m \u001b[38;5;28mlen\u001b[39m(arr) \u001b[38;5;129;01mand\u001b[39;00m (arr\u001b[38;5;241m.\u001b[39mmax() \u001b[38;5;241m>\u001b[39m\u001b[38;5;241m=\u001b[39m len_axis \u001b[38;5;129;01mor\u001b[39;00m arr\u001b[38;5;241m.\u001b[39mmin() \u001b[38;5;241m<\u001b[39m \u001b[38;5;241m-\u001b[39mlen_axis):\n\u001b[0;32m-> 1612\u001b[0m         \u001b[38;5;28;01mraise\u001b[39;00m \u001b[38;5;167;01mIndexError\u001b[39;00m(\u001b[38;5;124m\"\u001b[39m\u001b[38;5;124mpositional indexers are out-of-bounds\u001b[39m\u001b[38;5;124m\"\u001b[39m)\n\u001b[1;32m   1613\u001b[0m \u001b[38;5;28;01melse\u001b[39;00m:\n\u001b[1;32m   1614\u001b[0m     \u001b[38;5;28;01mraise\u001b[39;00m \u001b[38;5;167;01mValueError\u001b[39;00m(\u001b[38;5;124mf\u001b[39m\u001b[38;5;124m\"\u001b[39m\u001b[38;5;124mCan only index by location with a [\u001b[39m\u001b[38;5;132;01m{\u001b[39;00m\u001b[38;5;28mself\u001b[39m\u001b[38;5;241m.\u001b[39m_valid_types\u001b[38;5;132;01m}\u001b[39;00m\u001b[38;5;124m]\u001b[39m\u001b[38;5;124m\"\u001b[39m)\n",
      "\u001b[0;31mIndexError\u001b[0m: positional indexers are out-of-bounds"
     ]
    }
   ],
   "source": [
    "fact_checks.df.iloc[[28005, 11307, 27919, 13709, 4286, 359, 1655, 4455, 20362, 13703], :].index"
   ]
  },
  {
   "cell_type": "code",
   "execution_count": 30,
   "metadata": {},
   "outputs": [
    {
     "data": {
      "text/plain": [
       "0         30\n",
       "1        163\n",
       "2        167\n",
       "3        189\n",
       "4        403\n",
       "       ...  \n",
       "380    27511\n",
       "381    27708\n",
       "382    27731\n",
       "383    27955\n",
       "384    27969\n",
       "Name: post_id, Length: 385, dtype: int64"
      ]
     },
     "execution_count": 30,
     "metadata": {},
     "output_type": "execute_result"
    }
   ],
   "source": [
    "df_posts_dev.reset_index().post_id"
   ]
  },
  {
   "cell_type": "code",
   "execution_count": 23,
   "metadata": {},
   "outputs": [
    {
     "data": {
      "text/plain": [
       "{'crosslingual': {'group': {1: np.float64(0.0),\n",
       "   3: np.float64(0.0),\n",
       "   5: np.float64(0.0),\n",
       "   10: np.float64(0.0)},\n",
       "  'individual': {1: np.float64(0.0),\n",
       "   3: np.float64(0.0),\n",
       "   5: np.float64(0.0),\n",
       "   10: np.float64(0.0)}}}"
      ]
     },
     "execution_count": 23,
     "metadata": {},
     "output_type": "execute_result"
    }
   ],
   "source": [
    "d_eval"
   ]
  },
  {
   "cell_type": "code",
   "execution_count": 27,
   "metadata": {},
   "outputs": [
    {
     "data": {
      "text/plain": [
       "[291,\n",
       " 675,\n",
       " 1073,\n",
       " 1292,\n",
       " 1299,\n",
       " 1300,\n",
       " 1301,\n",
       " 1349,\n",
       " 3191,\n",
       " 3442,\n",
       " 3569,\n",
       " 3599,\n",
       " 4104,\n",
       " 4437,\n",
       " 4619,\n",
       " 4655,\n",
       " 5264,\n",
       " 5329,\n",
       " 5330,\n",
       " 5353,\n",
       " 5504,\n",
       " 5730,\n",
       " 6220,\n",
       " 6228,\n",
       " 6258,\n",
       " 6343,\n",
       " 6344,\n",
       " 6456,\n",
       " 6474,\n",
       " 6737,\n",
       " 6762,\n",
       " 6890,\n",
       " 7087,\n",
       " 7176,\n",
       " 7178,\n",
       " 7268,\n",
       " 7404,\n",
       " 7478,\n",
       " 7503,\n",
       " 7506,\n",
       " 7507,\n",
       " 7512,\n",
       " 7541,\n",
       " 7647,\n",
       " 7648,\n",
       " 8035,\n",
       " 8036,\n",
       " 8143,\n",
       " 8267,\n",
       " 8412,\n",
       " 8413,\n",
       " 9612,\n",
       " 10269,\n",
       " 10431,\n",
       " 10502,\n",
       " 10526,\n",
       " 10569,\n",
       " 11021,\n",
       " 11158,\n",
       " 11324,\n",
       " 11454,\n",
       " 12149,\n",
       " 12150,\n",
       " 12151,\n",
       " 12162,\n",
       " 12469,\n",
       " 12936,\n",
       " 12937,\n",
       " 12942,\n",
       " 13090,\n",
       " 13091,\n",
       " 13100,\n",
       " 13244,\n",
       " 13412,\n",
       " 13413,\n",
       " 13425,\n",
       " 13533,\n",
       " 13537,\n",
       " 13553,\n",
       " 13567,\n",
       " 13608,\n",
       " 13609,\n",
       " 13623,\n",
       " 13664,\n",
       " 13671,\n",
       " 13695,\n",
       " 13707,\n",
       " 13708,\n",
       " 14020,\n",
       " 14235,\n",
       " 14637,\n",
       " 16665,\n",
       " 16727,\n",
       " 16892,\n",
       " 17085,\n",
       " 17099,\n",
       " 17192,\n",
       " 17196,\n",
       " 17197,\n",
       " 17198,\n",
       " 17782,\n",
       " 18054,\n",
       " 18434,\n",
       " 18459,\n",
       " 18865,\n",
       " 19789,\n",
       " 19846,\n",
       " 20261,\n",
       " 20277,\n",
       " 20283,\n",
       " 20289,\n",
       " 20359,\n",
       " 20364,\n",
       " 20419,\n",
       " 20824,\n",
       " 20864,\n",
       " 20906,\n",
       " 20912,\n",
       " 20917,\n",
       " 21359,\n",
       " 21733,\n",
       " 21994,\n",
       " 22011,\n",
       " 22256,\n",
       " 22412,\n",
       " 25729,\n",
       " 25924,\n",
       " 25941,\n",
       " 25946,\n",
       " 26008,\n",
       " 26768,\n",
       " 26872,\n",
       " 27038,\n",
       " 27187,\n",
       " 27231,\n",
       " 27269,\n",
       " 27330,\n",
       " 27350,\n",
       " 27379,\n",
       " 27405,\n",
       " 27409,\n",
       " 27414,\n",
       " 27454,\n",
       " 27473,\n",
       " 27494,\n",
       " 27556,\n",
       " 27634,\n",
       " 27718,\n",
       " 27843,\n",
       " 27856,\n",
       " 27882,\n",
       " 27896,\n",
       " 27897]"
      ]
     },
     "execution_count": 27,
     "metadata": {},
     "output_type": "execute_result"
    }
   ],
   "source": [
    "posts.tasks[\"monolingual\"][\"fra\"][\"posts_dev\"]"
   ]
  },
  {
   "cell_type": "code",
   "execution_count": null,
   "metadata": {},
   "outputs": [],
   "source": []
  },
  {
   "cell_type": "code",
   "execution_count": 19,
   "metadata": {},
   "outputs": [
    {
     "data": {
      "text/plain": [
       "int"
      ]
     },
     "execution_count": 19,
     "metadata": {},
     "output_type": "execute_result"
    }
   ],
   "source": [
    "type(df_posts_dev.iloc[0][\"preds\"][0])"
   ]
  },
  {
   "cell_type": "code",
   "execution_count": 20,
   "metadata": {},
   "outputs": [
    {
     "data": {
      "text/plain": [
       "int"
      ]
     },
     "execution_count": 20,
     "metadata": {},
     "output_type": "execute_result"
    }
   ],
   "source": [
    "type(df_posts_dev.iloc[0][\"gs\"][0])"
   ]
  },
  {
   "cell_type": "code",
   "execution_count": 11,
   "metadata": {},
   "outputs": [
    {
     "data": {
      "text/plain": [
       "np.float64(0.0)"
      ]
     },
     "execution_count": 11,
     "metadata": {},
     "output_type": "execute_result"
    }
   ],
   "source": [
    "df_posts_dev.apply(lambda x: len(list((set(x[\"preds\"]).intersection(set(x[\"gs\"]))))) > 0, axis=1).mean()"
   ]
  },
  {
   "cell_type": "code",
   "execution_count": 3,
   "metadata": {},
   "outputs": [
    {
     "data": {
      "text/plain": [
       "{'monolingual': {'group': {1: np.float64(0.0),\n",
       "   3: np.float64(0.0),\n",
       "   5: np.float64(0.0),\n",
       "   10: np.float64(0.0)},\n",
       "  'individual': {1: np.float64(0.0),\n",
       "   3: np.float64(0.0),\n",
       "   5: np.float64(0.0),\n",
       "   10: np.float64(0.0)}}}"
      ]
     },
     "execution_count": 3,
     "metadata": {},
     "output_type": "execute_result"
    }
   ],
   "source": [
    "d_eval"
   ]
  },
  {
   "cell_type": "code",
   "execution_count": 2,
   "metadata": {},
   "outputs": [
    {
     "name": "stdout",
     "output_type": "stream",
     "text": [
      "\n",
      "\n",
      "Processing por\n"
     ]
    },
    {
     "name": "stderr",
     "output_type": "stream",
     "text": [
      "Batches: 100%|██████████| 43/43 [00:23<00:00,  1.81it/s]\n",
      "Batches: 100%|██████████| 1/1 [00:01<00:00,  1.33s/it]"
     ]
    },
    {
     "name": "stdout",
     "output_type": "stream",
     "text": [
      "S@1 (group) 0.39759036144578314\n",
      "S@1 (explode) 0.38372093023255816\n",
      "S@5 (group) 0.7951807228915663\n",
      "S@5 (explode) 0.7906976744186046\n",
      "S@10 (group) 0.8493975903614458\n",
      "S@10 (explode) 0.8430232558139535\n"
     ]
    },
    {
     "name": "stderr",
     "output_type": "stream",
     "text": [
      "\n"
     ]
    }
   ],
   "source": [
    "lang = \"por\"\n",
    "    \n",
    "print(\"\\n\\nProcessing\", lang)\n",
    "posts = TextConcatPosts(posts_path, tasks_path, task_name=\"monolingual\", gs_path=gs_path, lang=lang)\n",
    "fact_checks = TextConcatFactCheck(fact_checks_path, tasks_path, task_name=\"monolingual\", lang=lang)\n",
    "\n",
    "df_fc = fact_checks.df\n",
    "df_posts_train = posts.df_train\n",
    "df_posts_dev = posts.df_dev\n",
    "\n",
    "model_name = '/home/bsc/bsc830651/.cache/huggingface/hub/models--intfloat--multilingual-e5-large/snapshots/ab10c1a7f42e74530fe7ae5be82e6d4f11a719eb'\n",
    "\n",
    "model = EmbeddingModel(model_name, df_fc, batch_size=512)\n",
    "\n",
    "df_posts_dev[\"preds\"] = model.predict(df_posts_dev[\"full_text\"].values).tolist()\n",
    "\n",
    "print_succ_at_k(df_posts_dev, 1)\n",
    "print_succ_at_k(df_posts_dev, 5)\n",
    "print_succ_at_k(df_posts_dev, 10)"
   ]
  },
  {
   "cell_type": "code",
   "execution_count": 3,
   "metadata": {},
   "outputs": [
    {
     "name": "stdout",
     "output_type": "stream",
     "text": [
      "\n",
      "\n",
      "Processing deu\n"
     ]
    },
    {
     "name": "stderr",
     "output_type": "stream",
     "text": [
      "Batches: 100%|██████████| 10/10 [00:08<00:00,  1.14it/s]\n",
      "Batches: 100%|██████████| 1/1 [00:00<00:00,  1.97it/s]"
     ]
    },
    {
     "name": "stdout",
     "output_type": "stream",
     "text": [
      "S@1 (group) 0.32786885245901637\n",
      "S@1 (explode) 0.31746031746031744\n",
      "S@5 (group) 0.5901639344262295\n",
      "S@5 (explode) 0.6031746031746031\n",
      "S@10 (group) 0.6721311475409836\n",
      "S@10 (explode) 0.6825396825396826\n"
     ]
    },
    {
     "name": "stderr",
     "output_type": "stream",
     "text": [
      "\n"
     ]
    }
   ],
   "source": [
    "lang = \"deu\"\n",
    "    \n",
    "print(\"\\n\\nProcessing\", lang)\n",
    "posts = TextConcatPosts(posts_path, tasks_path, task_name=\"monolingual\", gs_path=gs_path, lang=lang)\n",
    "fact_checks = TextConcatFactCheck(fact_checks_path, tasks_path, task_name=\"monolingual\", lang=lang)\n",
    "\n",
    "df_fc = fact_checks.df\n",
    "df_posts_train = posts.df_train\n",
    "df_posts_dev = posts.df_dev\n",
    "\n",
    "model_name = '/home/bsc/bsc830651/.cache/huggingface/hub/models--intfloat--multilingual-e5-large/snapshots/ab10c1a7f42e74530fe7ae5be82e6d4f11a719eb'\n",
    "\n",
    "model = EmbeddingModel(model_name, df_fc, batch_size=512)\n",
    "\n",
    "df_posts_dev[\"preds\"] = model.predict(df_posts_dev[\"full_text\"].values).tolist()\n",
    "\n",
    "print_succ_at_k(df_posts_dev, 1)\n",
    "print_succ_at_k(df_posts_dev, 5)\n",
    "print_succ_at_k(df_posts_dev, 10)"
   ]
  },
  {
   "cell_type": "code",
   "execution_count": 4,
   "metadata": {},
   "outputs": [
    {
     "data": {
      "text/plain": [
       "(606, 61)"
      ]
     },
     "execution_count": 4,
     "metadata": {},
     "output_type": "execute_result"
    }
   ],
   "source": [
    "len(df_posts_train), len(df_posts_dev)"
   ]
  }
 ],
 "metadata": {
  "kernelspec": {
   "display_name": "factcheck",
   "language": "python",
   "name": "python3"
  },
  "language_info": {
   "codemirror_mode": {
    "name": "ipython",
    "version": 3
   },
   "file_extension": ".py",
   "mimetype": "text/x-python",
   "name": "python",
   "nbconvert_exporter": "python",
   "pygments_lexer": "ipython3",
   "version": "3.10.15"
  }
 },
 "nbformat": 4,
 "nbformat_minor": 2
}
