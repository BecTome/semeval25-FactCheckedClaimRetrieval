{
 "cells": [
  {
   "cell_type": "markdown",
   "metadata": {},
   "source": [
    "# Problem Formulation"
   ]
  },
  {
   "cell_type": "markdown",
   "metadata": {},
   "source": [
    "Let $P = {P_i}_{i=1}^{N_p}$ be a set of $N_p$ posts and $C = {C_i}_{i=1}^{N_c}$ be a set of $N_c$ fact checking claims.\n",
    "\n",
    "Our goal is to find a function $f: P \\times C \\rightarrow \\{0, 1\\}$ that assigns a binary label to each pair $(p, c)$, where $p \\in P$ is a post and $c \\in C$ is a fact checking claim. The label $f(p, c)$ is 1 if the post $p$ is related to the claim $c$ and 0 otherwise.\n",
    "\n",
    "## Problem Transformation\n",
    "\n",
    "The problem can be transformed into a binary classification problem by creating a dataset $D$ of pairs $(p, c, y)$, where $p \\in P$ is a post, $c \\in C$ is a fact checking claim, and $y \\in \\{0, 1\\}$ is the label indicating whether the post is related to the claim.\n",
    "\n",
    "The dataset $D$ can be constructed by generating positive examples $(p, c, 1)$ where the post $p$ is related to the claim $c$, and negative examples $(p, c, 0)$ where the post $p$ is not related to the claim $c$.\n",
    "\n",
    "The problem can then be solved using a binary classification algorithm that learns to predict the label $y$ given the features of the post $p$ and the claim $c$.\n",
    "\n",
    "# Proposed Solution\n",
    "\n",
    "- Create a vector space representing the posts and fact checking claims.\n",
    "- Use a binary classification algorithm to learn a function that predicts whether a post is related to a fact checking claim. For example, a simple k-nearest neighbors classifier can be used as in FAISS (dense) or BM25 (sparse).\n",
    "- Metadata could be added but we have to think about how to include it in the model.\n",
    "- Some extra metadata based on NER systems could be added to the model.\n"
   ]
  },
  {
   "cell_type": "markdown",
   "metadata": {},
   "source": []
  },
  {
   "cell_type": "code",
   "execution_count": null,
   "metadata": {},
   "outputs": [],
   "source": []
  }
 ],
 "metadata": {
  "language_info": {
   "name": "python"
  }
 },
 "nbformat": 4,
 "nbformat_minor": 2
}
