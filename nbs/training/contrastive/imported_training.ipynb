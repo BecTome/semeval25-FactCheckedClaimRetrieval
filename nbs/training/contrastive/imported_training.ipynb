{
 "cells": [
  {
   "cell_type": "code",
   "execution_count": 1,
   "metadata": {},
   "outputs": [
    {
     "name": "stderr",
     "output_type": "stream",
     "text": [
      "/home/bsc/bsc830651/.conda/envs/factcheck/lib/python3.10/site-packages/sentence_transformers/cross_encoder/CrossEncoder.py:13: TqdmWarning: IProgress not found. Please update jupyter and ipywidgets. See https://ipywidgets.readthedocs.io/en/stable/user_install.html\n",
      "  from tqdm.autonotebook import tqdm, trange\n"
     ]
    }
   ],
   "source": [
    "from scripts.contrastive.train import run_task"
   ]
  },
  {
   "cell_type": "code",
   "execution_count": 2,
   "metadata": {},
   "outputs": [
    {
     "name": "stderr",
     "output_type": "stream",
     "text": [
      "2024-11-01 19:35:07,538 - INFO - Task: crosslingual\n",
      "2024-11-01 19:35:07,539 - INFO - Tasks path: data/splits/tasks.json\n",
      "2024-11-01 19:35:07,539 - INFO - Languages: ['eng']\n",
      "2024-11-01 19:35:07,540 - INFO - Teacher Model: /home/bsc/bsc830651/.cache/huggingface/hub/models--intfloat--multilingual-e5-large/snapshots/ab10c1a7f42e74530fe7ae5be82e6d4f11a719eb\n",
      "2024-11-01 19:35:07,540 - INFO - Reranker Model: jinaai/jina-reranker-v2-base-multilingual\n",
      "2024-11-01 19:35:07,540 - INFO - Output path: tmp/contrastive/crosslingual/20241101-193507\n",
      "\n",
      "2024-11-01 19:35:07,541 - INFO - Triplets path: {'num_epochs': 2, 'emb_batch_size': 64, 'train_batch_size': 128}\n",
      "\n",
      "2024-11-01 19:35:07,541 - INFO - Train batch size: 128\n",
      "2024-11-01 19:35:07,541 - INFO - Num epochs: 10\n",
      "2024-11-01 19:35:07,542 - INFO - Dev size triplets: 0.1\n",
      "2024-11-01 19:35:07,542 - INFO - Percentage warmup steps: 0.1\n",
      "2024-11-01 19:35:07,542 - INFO - Output k: 10\n",
      "2024-11-01 19:35:07,543 - INFO - Optimizer params: {'lr': 2e-05}\n",
      "2024-11-01 19:35:07,543 - INFO - Embedding batch size: 256\n",
      "2024-11-01 19:35:07,543 - INFO - Number of candidates: 100\n",
      "2024-11-01 19:35:07,544 - INFO - Number of negative candidates: 4\n",
      "2024-11-01 19:35:07,544 - INFO - Negative percentage threshold: 0.9\n",
      "\n",
      "Languages:   0%|          | 0/1 [00:00<?, ?it/s]2024-11-01 19:35:07,547 - INFO - Lang: eng\n",
      "2024-11-01 19:35:07,547 - INFO - Loading posts...\n",
      "2024-11-01 19:35:09,377 - INFO - Loaded 24431\n",
      "2024-11-01 19:35:09,377 - INFO - Time taken: 1.83s\n",
      "\n",
      "2024-11-01 19:35:09,378 - INFO - Loading fact checks..\n",
      "2024-11-01 19:35:20,313 - INFO - Loaded 153743\n",
      "2024-11-01 19:35:20,314 - INFO - Time taken: 10.94s\n",
      "\n",
      "2024-11-01 19:35:20,315 - INFO - Loading Teacher Model: /home/bsc/bsc830651/.cache/huggingface/hub/models--intfloat--multilingual-e5-large/snapshots/ab10c1a7f42e74530fe7ae5be82e6d4f11a719eb...\n",
      "2024-11-01 19:35:20,317 - INFO - Load pretrained SentenceTransformer: /home/bsc/bsc830651/.cache/huggingface/hub/models--intfloat--multilingual-e5-large/snapshots/ab10c1a7f42e74530fe7ae5be82e6d4f11a719eb\n"
     ]
    },
    {
     "ename": "",
     "evalue": "",
     "output_type": "error",
     "traceback": [
      "\u001b[1;31mThe Kernel crashed while executing code in the current cell or a previous cell. \n",
      "\u001b[1;31mPlease review the code in the cell(s) to identify a possible cause of the failure. \n",
      "\u001b[1;31mClick <a href='https://aka.ms/vscodeJupyterKernelCrash'>here</a> for more info. \n",
      "\u001b[1;31mView Jupyter <a href='command:jupyter.viewOutput'>log</a> for further details."
     ]
    }
   ],
   "source": [
    "from src import config\n",
    "\n",
    "task_name = \"crosslingual\"\n",
    "teacher_model_name = '/home/bsc/bsc830651/.cache/huggingface/hub/models--intfloat--multilingual-e5-large/snapshots/ab10c1a7f42e74530fe7ae5be82e6d4f11a719eb'\n",
    "reranker_model_name = 'jinaai/jina-reranker-v2-base-multilingual'\n",
    "output_path = \"tmp/contrastive\"\n",
    "task_file = \"data/splits/tasks.json\"\n",
    "langs = [\"tha\"]\n",
    "d_config = {\"num_epochs\": 2, \"emb_batch_size\": 64, \"train_batch_size\":128}\n",
    "# run_task(tasks_path, task_name, langs, teacher_model_name, reranker_model_name, output_path, triplets_path=None):\n",
    "\n",
    "run_task(task_file, task_name, langs, teacher_model_name, reranker_model_name, output_path, d_config)"
   ]
  },
  {
   "cell_type": "code",
   "execution_count": null,
   "metadata": {},
   "outputs": [],
   "source": []
  }
 ],
 "metadata": {
  "kernelspec": {
   "display_name": "factcheck",
   "language": "python",
   "name": "python3"
  },
  "language_info": {
   "codemirror_mode": {
    "name": "ipython",
    "version": 3
   },
   "file_extension": ".py",
   "mimetype": "text/x-python",
   "name": "python",
   "nbconvert_exporter": "python",
   "pygments_lexer": "ipython3",
   "version": "3.10.15"
  }
 },
 "nbformat": 4,
 "nbformat_minor": 2
}
