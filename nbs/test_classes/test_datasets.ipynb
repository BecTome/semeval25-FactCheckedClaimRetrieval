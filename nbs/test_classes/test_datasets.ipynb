{
 "cells": [
  {
   "cell_type": "code",
   "execution_count": 1,
   "metadata": {},
   "outputs": [
    {
     "name": "stdout",
     "output_type": "stream",
     "text": [
      "BasePostsDataset -- data/complete_data/posts.csv, Task: crosslingual, Train: (4972, 6), Dev: (552, 6)\n"
     ]
    }
   ],
   "source": [
    "from src.datasets import BasePostsDataset, BaseFactCheckDataset\n",
    "\n",
    "tasks_path = \"data/complete_data/tasks.json\"\n",
    "posts_path = \"data/complete_data/posts.csv\"\n",
    "fact_checks_path = \"data/complete_data/fact_checks.csv\"\n",
    "\n",
    "posts = BasePostsDataset(posts_path, tasks_path, task_name=\"crosslingual\")\n",
    "print(posts)"
   ]
  },
  {
   "cell_type": "code",
   "execution_count": 2,
   "metadata": {},
   "outputs": [
    {
     "name": "stdout",
     "output_type": "stream",
     "text": [
      "BaseFactCheckDataset -- data/complete_data/fact_checks.csv, Task: crosslingual, Fact Checks: (153743, 3)\n"
     ]
    }
   ],
   "source": [
    "facts = BaseFactCheckDataset(fact_checks_path, tasks_path, task_name=\"crosslingual\")\n",
    "print(facts)"
   ]
  },
  {
   "cell_type": "code",
   "execution_count": 3,
   "metadata": {},
   "outputs": [
    {
     "name": "stdout",
     "output_type": "stream",
     "text": [
      "BasePostsDataset -- data/complete_data/posts.csv, Task: monolingual, Lang: fra, Train: (1596, 6), Dev: (188, 6)\n",
      "BasePostsDataset -- data/complete_data/posts.csv, Task: monolingual, Lang: spa, Train: (5628, 6), Dev: (615, 6)\n",
      "BasePostsDataset -- data/complete_data/posts.csv, Task: monolingual, Lang: eng, Train: (4351, 6), Dev: (478, 6)\n",
      "BasePostsDataset -- data/complete_data/posts.csv, Task: monolingual, Lang: por, Train: (2571, 6), Dev: (302, 6)\n",
      "BasePostsDataset -- data/complete_data/posts.csv, Task: monolingual, Lang: tha, Train: (465, 6), Dev: (42, 6)\n",
      "BasePostsDataset -- data/complete_data/posts.csv, Task: monolingual, Lang: deu, Train: (667, 6), Dev: (83, 6)\n",
      "BasePostsDataset -- data/complete_data/posts.csv, Task: monolingual, Lang: msa, Train: (1062, 6), Dev: (105, 6)\n",
      "BasePostsDataset -- data/complete_data/posts.csv, Task: monolingual, Lang: ara, Train: (676, 6), Dev: (78, 6)\n"
     ]
    }
   ],
   "source": [
    "for lan in posts.langs:\n",
    "    post_lan = BasePostsDataset(posts_path, tasks_path, task_name=\"monolingual\", lang=lan)\n",
    "    print(post_lan)"
   ]
  },
  {
   "cell_type": "code",
   "execution_count": 4,
   "metadata": {},
   "outputs": [
    {
     "name": "stdout",
     "output_type": "stream",
     "text": [
      "BaseFactCheckDataset -- data/complete_data/fact_checks.csv, Task: monolingual, Lang: fra, Fact Checks: (4355, 3)\n",
      "BaseFactCheckDataset -- data/complete_data/fact_checks.csv, Task: monolingual, Lang: spa, Fact Checks: (14082, 3)\n",
      "BaseFactCheckDataset -- data/complete_data/fact_checks.csv, Task: monolingual, Lang: eng, Fact Checks: (85734, 3)\n",
      "BaseFactCheckDataset -- data/complete_data/fact_checks.csv, Task: monolingual, Lang: por, Fact Checks: (21569, 3)\n",
      "BaseFactCheckDataset -- data/complete_data/fact_checks.csv, Task: monolingual, Lang: tha, Fact Checks: (382, 3)\n",
      "BaseFactCheckDataset -- data/complete_data/fact_checks.csv, Task: monolingual, Lang: deu, Fact Checks: (4996, 3)\n",
      "BaseFactCheckDataset -- data/complete_data/fact_checks.csv, Task: monolingual, Lang: msa, Fact Checks: (8424, 3)\n",
      "BaseFactCheckDataset -- data/complete_data/fact_checks.csv, Task: monolingual, Lang: ara, Fact Checks: (14201, 3)\n"
     ]
    }
   ],
   "source": [
    "for lan in facts.langs:\n",
    "    fact_lan = BaseFactCheckDataset(fact_checks_path, tasks_path, task_name=\"monolingual\", lang=lan)\n",
    "    print(fact_lan)"
   ]
  },
  {
   "cell_type": "code",
   "execution_count": null,
   "metadata": {},
   "outputs": [],
   "source": []
  }
 ],
 "metadata": {
  "kernelspec": {
   "display_name": "factcheck",
   "language": "python",
   "name": "python3"
  },
  "language_info": {
   "codemirror_mode": {
    "name": "ipython",
    "version": 3
   },
   "file_extension": ".py",
   "mimetype": "text/x-python",
   "name": "python",
   "nbconvert_exporter": "python",
   "pygments_lexer": "ipython3",
   "version": "3.10.15"
  }
 },
 "nbformat": 4,
 "nbformat_minor": 2
}
